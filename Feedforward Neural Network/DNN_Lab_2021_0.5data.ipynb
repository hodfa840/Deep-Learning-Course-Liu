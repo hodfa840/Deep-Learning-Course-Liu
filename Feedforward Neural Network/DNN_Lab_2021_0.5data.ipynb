{
 "cells": [
  {
   "cell_type": "markdown",
   "metadata": {},
   "source": [
    "# Deep Neural Networks Laboration\n",
    "\n",
    "Data used in this laboration are from the Kitsune Network Attack Dataset, https://archive.ics.uci.edu/ml/datasets/Kitsune+Network+Attack+Dataset . We will focus on the 'Mirai' part of the dataset. Your task is to make a DNN that can classify if each attack is benign or malicious. The dataset has 116 covariates, but to make it a bit more difficult we will remove the first 24 covariates.\n",
    "\n",
    "You need to answer all questions in this notebook."
   ]
  },
  {
   "cell_type": "markdown",
   "metadata": {},
   "source": [
    "# Part 1: Get the data\n",
    "\n",
    "Skip this part if you load stored numpy arrays (Mirai*.npy) (which is recommended)\n",
    "\n",
    "Use `wget` in the terminal of your cloud machine (in the same directory as where you have saved this notebook) to download the data, i.e.\n",
    "\n",
    "wget https://archive.ics.uci.edu/ml/machine-learning-databases/00516/mirai/Mirai_dataset.csv.gz\n",
    "\n",
    "wget https://archive.ics.uci.edu/ml/machine-learning-databases/00516/mirai/Mirai_labels.csv.gz\n",
    "\n",
    "Then unpack the files using `gunzip` in the terminal, i.e.\n",
    "\n",
    "gunzip Mirai_dataset.csv.gz\n",
    "\n",
    "gunzip Mirai_labels.csv.gz"
   ]
  },
  {
   "cell_type": "markdown",
   "metadata": {},
   "source": [
    "# Part 2: Get a graphics card\n",
    "\n",
    "Skip this part if you run on the CPU\n",
    "\n",
    "Lets make sure that our script can see the graphics card that will be used. The graphics cards will perform all the time consuming calculations in every training iteration."
   ]
  },
  {
   "cell_type": "code",
   "execution_count": 1,
   "metadata": {},
   "outputs": [
    {
     "name": "stdout",
     "output_type": "stream",
     "text": [
      "INFO:tensorflow:Enabling eager execution\n",
      "INFO:tensorflow:Enabling v2 tensorshape\n",
      "INFO:tensorflow:Enabling resource variables\n",
      "INFO:tensorflow:Enabling tensor equality\n",
      "INFO:tensorflow:Enabling control flow v2\n"
     ]
    }
   ],
   "source": [
    "import os\n",
    "import warnings\n",
    "\n",
    "# Ignore FutureWarning from numpy\n",
    "warnings.simplefilter(action='ignore', category=FutureWarning)\n",
    "\n",
    "import  tensorflow.keras.backend as K\n",
    "import tensorflow as tf\n",
    "\n",
    "os.environ[\"CUDA_DEVICE_ORDER\"]=\"PCI_BUS_ID\";\n",
    " \n",
    "# The GPU id to use, usually either \"0\" or \"1\";\n",
    "os.environ[\"CUDA_VISIBLE_DEVICES\"]=\"0\";\n",
    "\n",
    "# Allow growth of GPU memory, otherwise it will always look like all the memory is being used\n",
    "physical_devices = tf.config.experimental.list_physical_devices('GPU')\n",
    "tf.config.experimental.set_memory_growth(physical_devices[0], True) "
   ]
  },
  {
   "cell_type": "markdown",
   "metadata": {},
   "source": [
    "# Part 3: Hardware\n",
    "\n",
    "Skip questions 1, 2, 3, 5, 6 if you use your own computer.\n",
    "\n",
    "In deep learning, the computer hardware is very important. You should always know what kind of hardware you are working on.\n",
    "\n",
    "Question 1: What graphics card is available in the cloud machine? Run 'nvidia-smi' in the terminal. \n",
    "\n",
    "Question 2: Google the name of the graphics card, how many CUDA cores does it have?\n",
    "\n",
    "Question 3: How much memory does the graphics card have?\n",
    "\n",
    "Question 4: What is stored in the GPU memory while training a DNN ?\n",
    "\n",
    "Question 5: What CPU is available in the cloud machine? How many cores does it have? Run 'lscpu' in the terminal.\n",
    "\n",
    "Question 6: How much CPU memory (RAM) is available in the cloud machine? Run 'free -g' in the terminal."
   ]
  },
  {
   "cell_type": "markdown",
   "metadata": {},
   "source": [
    "_____________________________________________________________________________________________________"
   ]
  },
  {
   "cell_type": "markdown",
   "metadata": {},
   "source": [
    "*Question 4*:\n",
    "\n",
    "Answer):\n",
    "\n",
    "Parameters: The weights and biases of the network\n",
    "\n",
    "Optimizer’s variables (e.g. momentums)\n",
    "\n",
    "Intermediate calculations — Values from the forward pass that are temporarily stored in GPU memory and then used in the backward pass. (e.g. the activation outputs of every layer are used in the backward pass to calculate the gradients)"
   ]
  },
  {
   "cell_type": "markdown",
   "metadata": {},
   "source": [
    "# Part 4: Load the data\n",
    "\n",
    "To make this step easier, directly load the data from saved numpy arrays (.npy) (recommended)\n",
    "\n",
    "\n",
    "Load the dataset from the csv files, it will take some time since it is almost 1.4 GB. \n",
    "\n",
    "We will use the function `genfromtxt` to load the data.\n",
    "\n",
    "https://docs.scipy.org/doc/numpy/reference/generated/numpy.genfromtxt.html\n",
    "\n",
    "Load the data from csv files the first time, then save the data as numpy files for faster loading the next time.\n"
   ]
  },
  {
   "cell_type": "code",
   "execution_count": 2,
   "metadata": {},
   "outputs": [],
   "source": [
    "from numpy import genfromtxt\n",
    "import numpy as np\n",
    "\n",
    "# Load data from numpy arrays\n",
    "X = np.load('Mirai_data_half.npy')\n",
    "Y = np.load('Mirai_labels_half.npy')"
   ]
  },
  {
   "cell_type": "code",
   "execution_count": 3,
   "metadata": {},
   "outputs": [
    {
     "name": "stdout",
     "output_type": "stream",
     "text": [
      "The covariates have size (382069, 68).\n",
      "The labels have size (382069,).\n"
     ]
    }
   ],
   "source": [
    "\n",
    "\n",
    "# Remove the first 24 covariates (columns)\n",
    "\n",
    "X = np.delete(X, obj=np.s_[:24], axis=1)\n",
    "X = np.delete(X, obj=np.s_[:24], axis=1)\n",
    "\n",
    "print('The covariates have size {}.'.format(X.shape))\n",
    "print('The labels have size {}.'.format(Y.shape))\n",
    "\n",
    "    "
   ]
  },
  {
   "cell_type": "code",
   "execution_count": 4,
   "metadata": {},
   "outputs": [
    {
     "name": "stdout",
     "output_type": "stream",
     "text": [
      "class 0 has 60811   examples\n",
      "class 1 has 321258   examples\n"
     ]
    }
   ],
   "source": [
    "# Print the number of examples of each class\n",
    "t =np.unique(Y,return_counts=True)\n",
    "print(\"class 0 has\",t[1][0],' ', 'examples')\n",
    "print(\"class 1 has\",t[1][1],' ', 'examples')\n"
   ]
  },
  {
   "cell_type": "markdown",
   "metadata": {},
   "source": [
    "# Part 5: How good is a naive classifier?\n",
    "\n",
    "Question 7: Given the number of examples from each class, how high classification performance can a naive classifier obtain? The naive classifier will assume that all examples belong to one class. Note: you do not need to make a naive classifier, this is a theoretical question, just to understand how good performance we can obtain by guessing that all examples belong to one class.\n",
    "\n",
    "Answer) if we assume all examples belong to class 0 the accuracy will be $\\frac{60811}{382069}\\approx 0.16$\n",
    "\n",
    "if we assume all example belongs to class 1 the accuracy will be $\\frac{321258}{382069}\\approx 0.84$"
   ]
  },
  {
   "cell_type": "code",
   "execution_count": 5,
   "metadata": {},
   "outputs": [
    {
     "data": {
      "text/plain": [
       "0.15916235025610556"
      ]
     },
     "execution_count": 5,
     "metadata": {},
     "output_type": "execute_result"
    }
   ],
   "source": [
    "60811/382069"
   ]
  },
  {
   "cell_type": "code",
   "execution_count": 6,
   "metadata": {},
   "outputs": [
    {
     "data": {
      "text/plain": [
       "0.8408376497438944"
      ]
     },
     "execution_count": 6,
     "metadata": {},
     "output_type": "execute_result"
    }
   ],
   "source": [
    "321258/382069"
   ]
  },
  {
   "cell_type": "code",
   "execution_count": 7,
   "metadata": {},
   "outputs": [
    {
     "name": "stdout",
     "output_type": "stream",
     "text": [
      "number of NaN in X:  0\n",
      "number of NaN in Y:  0\n"
     ]
    }
   ],
   "source": [
    "# It is common to have NaNs in the data, lets check for it. Hint: np.isnan()\n",
    "\n",
    "#print(np.isnan(X))\n",
    "#print(np.isnan(Y))# Print the number of NaNs (not a number) in the labels\n",
    "\n",
    "# Print the number of NaNs in the covariates\n",
    "print('number of NaN in X: ', np.count_nonzero(np.isnan(X)))\n",
    "print('number of NaN in Y: ', np.count_nonzero(np.isnan(Y)))\n"
   ]
  },
  {
   "cell_type": "markdown",
   "metadata": {},
   "source": [
    "# Part 6: Preprocessing\n",
    "\n",
    "Lets do some simple preprocessing"
   ]
  },
  {
   "cell_type": "code",
   "execution_count": 8,
   "metadata": {},
   "outputs": [
    {
     "name": "stdout",
     "output_type": "stream",
     "text": [
      "Mean for covariates is almost 0:  -3.36886988413941e-12\n",
      "\n",
      "\n",
      "Standard Deviation for covariates is:  [1. 1. 1. 1. 1. 1. 1. 1. 1. 1. 1. 1. 1. 1. 1. 1. 1. 1. 1. 1. 1. 1. 1. 1.\n",
      " 1. 1. 1. 1. 1. 1. 1. 1. 1. 1. 1. 1. 1. 1. 1. 1. 1. 1. 1. 1. 1. 1. 1. 1.\n",
      " 1. 1. 1. 1. 1. 1. 1. 1. 1. 1. 1. 1. 1. 1. 1. 1. 1. 1. 1. 1.]\n"
     ]
    }
   ],
   "source": [
    "# Convert covariates to floats\n",
    "X = X.astype(float)\n",
    "\n",
    "\n",
    "# Convert labels to integers\n",
    "\n",
    "Y = Y.astype(int)\n",
    "\n",
    "# Remove mean of each covariate (column)\n",
    "X = X - np.mean(X, axis=0)\n",
    "\n",
    "\n",
    "# Divide each covariate (column) by its standard deviation\n",
    "\n",
    "X = X/np.std(X, axis=0)\n",
    "\n",
    "# Check that mean is 0 and standard deviation is 1 for all covariates, by printing mean and std\n",
    "print(\"Mean for covariates is almost 0: \", np.sum(X)/len(X))\n",
    "print('\\n')\n",
    "print(\"Standard Deviation for covariates is: \",np.std(X, axis=0))\n"
   ]
  },
  {
   "cell_type": "markdown",
   "metadata": {},
   "source": [
    "# Part 7: Split the dataset\n",
    "\n",
    "Use the first 70% of the dataset for training, leave the other 30% for validation and test, call the variables\n",
    "\n",
    "Xtrain (70%)\n",
    "\n",
    "Xtemp  (30%)\n",
    "\n",
    "Ytrain (70%)\n",
    "\n",
    "Ytemp  (30%)\n",
    "\n",
    "We use a function from scikit learn.\n",
    "https://scikit-learn.org/stable/modules/generated/sklearn.model_selection.train_test_split.html\n"
   ]
  },
  {
   "cell_type": "code",
   "execution_count": 9,
   "metadata": {},
   "outputs": [
    {
     "name": "stdout",
     "output_type": "stream",
     "text": [
      "Xtrain has size (267448, 68).\n",
      "Ytrain has size (267448,).\n",
      "Xtemp has size (114621, 68).\n",
      "Ytemp has size (114621,).\n",
      "Ytrain class_0 has 42583 members.\n",
      "Ytrain class_1 has 224865 members.\n",
      "Ytemp class_0 has 18228 members.\n",
      "Ytemp class_1 has 96393 members.\n"
     ]
    }
   ],
   "source": [
    "from sklearn.model_selection import train_test_split\n",
    "\n",
    "# Your code\n",
    "\n",
    "Xtrain, Xtemp, Ytrain, Ytemp = train_test_split(X, Y, test_size=0.3, random_state=42)\n",
    "print('Xtrain has size {}.'.format(Xtrain.shape))\n",
    "print('Ytrain has size {}.'.format(Ytrain.shape))\n",
    "\n",
    "print('Xtemp has size {}.'.format(Xtemp.shape))\n",
    "print('Ytemp has size {}.'.format(Ytemp.shape))\n",
    "\n",
    "# Print the number of examples of each class, for the training data and the remaining 30%\n",
    "\n",
    "print('Ytrain class_0 has {} members.'.format(np.count_nonzero(Ytrain==0)))\n",
    "print('Ytrain class_1 has {} members.'.format(np.count_nonzero(Ytrain==1)))\n",
    "print('Ytemp class_0 has {} members.'.format(np.count_nonzero(Ytemp==0)))\n",
    "print('Ytemp class_1 has {} members.'.format(np.count_nonzero(Ytemp==1)))\n"
   ]
  },
  {
   "cell_type": "markdown",
   "metadata": {},
   "source": [
    "#  Part 8: Split non-training data data into validation and test\n",
    "Now split your non-training data (Xtemp, Ytemp) into 50% validation (Xval, Yval) and 50% testing (Xtest, Ytest), we use a function from scikit learn. \n",
    "\n",
    "https://scikit-learn.org/stable/modules/generated/sklearn.model_selection.train_test_split.html\n",
    "\n",
    "Do all variables (Xtrain,Ytrain), (Xval,Yval), (Xtest,Ytest) have the shape that you expect?"
   ]
  },
  {
   "cell_type": "code",
   "execution_count": 10,
   "metadata": {},
   "outputs": [
    {
     "name": "stdout",
     "output_type": "stream",
     "text": [
      "Xtest has size (57310, 68).\n",
      "Ytest has size (57310,).\n",
      "Xval has size (57311, 68).\n",
      "Yval has size (57311,).\n",
      "The validation and test data have size (57311, 68), (57310, 68), (57311,) and (57310,)\n"
     ]
    }
   ],
   "source": [
    "from sklearn.model_selection import train_test_split\n",
    "\n",
    "\n",
    "\n",
    "Xtest, Xval, Ytest, Yval = train_test_split(Xtemp, Ytemp, test_size=0.5, random_state=42)\n",
    "print('Xtest has size {}.'.format(Xtest.shape))\n",
    "print('Ytest has size {}.'.format(Ytest.shape))\n",
    "\n",
    "print('Xval has size {}.'.format(Xval.shape))\n",
    "print('Yval has size {}.'.format(Yval.shape))\n",
    "\n",
    "print('The validation and test data have size {}, {}, {} and {}'.format(Xval.shape, Xtest.shape, Yval.shape, Ytest.shape))"
   ]
  },
  {
   "cell_type": "markdown",
   "metadata": {},
   "source": [
    "if we copmute half of the Xtemp we can see that the variable has the shape we expected."
   ]
  },
  {
   "cell_type": "code",
   "execution_count": 11,
   "metadata": {},
   "outputs": [
    {
     "data": {
      "text/plain": [
       "57311"
      ]
     },
     "execution_count": 11,
     "metadata": {},
     "output_type": "execute_result"
    }
   ],
   "source": [
    "(int(np.ceil(len(X)*0.3/2)))"
   ]
  },
  {
   "cell_type": "markdown",
   "metadata": {},
   "source": [
    "which is the same lenght as our Xtest split."
   ]
  },
  {
   "cell_type": "markdown",
   "metadata": {},
   "source": [
    "# Part 9: DNN classification\n",
    "\n",
    "Finish this code to create a first version of the classifier using a DNN. Start with a simple network with 2 dense layers (with 20 nodes each), using sigmoid activation functions. The final dense layer should have a single node and a sigmoid activation function. We start with the SGD optimizer.\n",
    "\n",
    "For different parts of this notebook you need to go back here, add more things, and re-run this cell to re-define the build function.\n",
    "\n",
    "Relevant functions are\n",
    "\n",
    "`model.add()`, adds a layer to the network\n",
    "\n",
    "`Dense()`, a dense network layer\n",
    "\n",
    "`model.compile()`, compile the model, add \" metrics=['accuracy'] \" to print the classification accuracy during the training\n",
    "\n",
    "See https://keras.io/layers/core/ for information on how the `Dense()` function works\n",
    "\n",
    "Import a relevant cost / loss function for binary classification from keras.losses (https://keras.io/losses/)\n",
    "\n",
    "See the following links for how to compile, train and evaluate the model\n",
    "\n",
    "https://keras.io/api/models/model_training_apis/#compile-method\n",
    "\n",
    "https://keras.io/api/models/model_training_apis/#fit-method\n",
    "\n",
    "https://keras.io/api/models/model_training_apis/#evaluate-method\n"
   ]
  },
  {
   "cell_type": "code",
   "execution_count": 12,
   "metadata": {},
   "outputs": [],
   "source": [
    "from tensorflow.keras.models import Sequential, Model\n",
    "from tensorflow.keras.layers import Input, Dense, BatchNormalization, Dropout\n",
    "from tensorflow.keras.optimizers import SGD,Adam,RMSprop\n",
    "from tensorflow.keras.losses import binary_crossentropy"
   ]
  },
  {
   "cell_type": "code",
   "execution_count": 13,
   "metadata": {},
   "outputs": [],
   "source": [
    "\n",
    "# Set seed from random number generator, for better comparisons\n",
    "from numpy.random import seed\n",
    "seed(123)\n",
    "\n",
    "def build_DNN(input_shape, n_layers, n_nodes, act_fun='sigmoid', optimizer='sgd', learning_rate=0.01, \n",
    "              use_bn=False, use_dropout=False, use_custom_dropout=False):\n",
    "     \n",
    "    # Setup optimizer, depending on input parameter string\n",
    "      \n",
    "    # Setup optimizer, depending on input parameter string\n",
    "    if optimizer=='sgd':\n",
    "        optim = SGD(learning_rate=learning_rate)\n",
    "    if optimizer=='adam':\n",
    "        optim = Adam(learning_rate)\n",
    "    if optimizer=='RMSprop':\n",
    "        optim = RMSprop(learning_rate)\n",
    "    # Setup a sequential model\n",
    "    model = Sequential()\n",
    "\n",
    "    # Add layers to the model, using the input parameters of the build_DNN function\n",
    "    model.add(Dense(n_nodes,input_shape = input_shape,activation = act_fun ))\n",
    "    # Add first layer, requires input shape\n",
    "    # Add remaining layers, do not require input shape\n",
    "    for i in range(n_layers-1):\n",
    "        model.add(Dense(n_nodes,activation = act_fun))\n",
    "        if use_bn == True:\n",
    "            model.add(BatchNormalization())\n",
    "            #print(use_bn)\n",
    "        if use_dropout==True:\n",
    "            model.add(Dropout(rate=0.5))\n",
    "            \n",
    "           # print(use_dropout)\n",
    "        if use_custom_dropout == True:\n",
    "            model.add(myDropout(rate=0.5))\n",
    "       # Final layer\n",
    "    model.add(Dense(1,activation = act_fun))\n",
    "    # Compile model\n",
    "    model.compile(optim,loss=binary_crossentropy,metrics=['accuracy'])\n",
    "    return model"
   ]
  },
  {
   "cell_type": "code",
   "execution_count": 14,
   "metadata": {},
   "outputs": [],
   "source": [
    "# Lets define a help function for plotting the training results\n",
    "\n",
    "import matplotlib.pyplot as plt\n",
    "def plot_results(history):\n",
    "    \n",
    "    val_loss = history.history['val_loss']\n",
    "    acc = history.history['accuracy']\n",
    "    loss = history.history['loss']\n",
    "    val_acc = history.history['val_accuracy']\n",
    "    \n",
    "    plt.figure(figsize=(10,4))\n",
    "    plt.xlabel('Epochs')\n",
    "    plt.ylabel('Loss')\n",
    "    plt.plot(loss)\n",
    "    plt.plot(val_loss)\n",
    "    plt.legend(['Training','Validation'])\n",
    "\n",
    "    plt.figure(figsize=(10,4))\n",
    "    plt.xlabel('Epochs')\n",
    "    plt.ylabel('Accuracy')\n",
    "    plt.plot(acc)\n",
    "    plt.plot(val_acc)\n",
    "    plt.legend(['Training','Validation'])\n",
    "\n",
    "    plt.show()"
   ]
  },
  {
   "cell_type": "markdown",
   "metadata": {},
   "source": [
    "# Part 10: Train the DNN\n",
    "\n",
    "Time to train the DNN, we start simple with 2 layers with 20 nodes each, learning rate 0.1.\n",
    "\n",
    "Relevant functions\n",
    "\n",
    "`build_DNN`, the function we defined in Part 9, call it with the parameters you want to use\n",
    "\n",
    "`model.fit()`, train the model with some training data\n",
    "\n",
    "`model.evaluate()`, apply the trained model to some test data\n",
    "\n",
    "See the following links for how to train and evaluate the model\n",
    "\n",
    "https://keras.io/api/models/model_training_apis/#fit-method\n",
    "\n",
    "https://keras.io/api/models/model_training_apis/#evaluate-method\n"
   ]
  },
  {
   "cell_type": "markdown",
   "metadata": {},
   "source": [
    "### 2 layers, 20 nodes"
   ]
  },
  {
   "cell_type": "code",
   "execution_count": 15,
   "metadata": {
    "scrolled": true
   },
   "outputs": [
    {
     "name": "stdout",
     "output_type": "stream",
     "text": [
      "Epoch 1/20\n",
      "27/27 [==============================] - 4s 16ms/step - loss: 0.4776 - accuracy: 0.8403 - val_loss: 0.4270 - val_accuracy: 0.8409\n",
      "Epoch 2/20\n",
      "27/27 [==============================] - 0s 9ms/step - loss: 0.4245 - accuracy: 0.8407 - val_loss: 0.4167 - val_accuracy: 0.8409\n",
      "Epoch 3/20\n",
      "27/27 [==============================] - 0s 7ms/step - loss: 0.4127 - accuracy: 0.8416 - val_loss: 0.4053 - val_accuracy: 0.8409\n",
      "Epoch 4/20\n",
      "27/27 [==============================] - 0s 8ms/step - loss: 0.4022 - accuracy: 0.8406 - val_loss: 0.3918 - val_accuracy: 0.8409\n",
      "Epoch 5/20\n",
      "27/27 [==============================] - 0s 8ms/step - loss: 0.3872 - accuracy: 0.8411 - val_loss: 0.3757 - val_accuracy: 0.8409\n",
      "Epoch 6/20\n",
      "27/27 [==============================] - 0s 8ms/step - loss: 0.3715 - accuracy: 0.8402 - val_loss: 0.3566 - val_accuracy: 0.8409\n",
      "Epoch 7/20\n",
      "27/27 [==============================] - 0s 9ms/step - loss: 0.3520 - accuracy: 0.8398 - val_loss: 0.3349 - val_accuracy: 0.8409\n",
      "Epoch 8/20\n",
      "27/27 [==============================] - 0s 8ms/step - loss: 0.3297 - accuracy: 0.8397 - val_loss: 0.3120 - val_accuracy: 0.8409\n",
      "Epoch 9/20\n",
      "27/27 [==============================] - 0s 9ms/step - loss: 0.3060 - accuracy: 0.8399 - val_loss: 0.2896 - val_accuracy: 0.8409\n",
      "Epoch 10/20\n",
      "27/27 [==============================] - 0s 8ms/step - loss: 0.2834 - accuracy: 0.8405 - val_loss: 0.2695 - val_accuracy: 0.8410\n",
      "Epoch 11/20\n",
      "27/27 [==============================] - 0s 7ms/step - loss: 0.2639 - accuracy: 0.8421 - val_loss: 0.2528 - val_accuracy: 0.8504\n",
      "Epoch 12/20\n",
      "27/27 [==============================] - 0s 7ms/step - loss: 0.2478 - accuracy: 0.8519 - val_loss: 0.2399 - val_accuracy: 0.8560\n",
      "Epoch 13/20\n",
      "27/27 [==============================] - 0s 8ms/step - loss: 0.2346 - accuracy: 0.8596 - val_loss: 0.2301 - val_accuracy: 0.8679\n",
      "Epoch 14/20\n",
      "27/27 [==============================] - 0s 8ms/step - loss: 0.2259 - accuracy: 0.8720 - val_loss: 0.2227 - val_accuracy: 0.8756\n",
      "Epoch 15/20\n",
      "27/27 [==============================] - 0s 9ms/step - loss: 0.2194 - accuracy: 0.8783 - val_loss: 0.2172 - val_accuracy: 0.8850\n",
      "Epoch 16/20\n",
      "27/27 [==============================] - 0s 7ms/step - loss: 0.2140 - accuracy: 0.8863 - val_loss: 0.2131 - val_accuracy: 0.8868\n",
      "Epoch 17/20\n",
      "27/27 [==============================] - 0s 7ms/step - loss: 0.2093 - accuracy: 0.8905 - val_loss: 0.2098 - val_accuracy: 0.8933\n",
      "Epoch 18/20\n",
      "27/27 [==============================] - 0s 9ms/step - loss: 0.2058 - accuracy: 0.8975 - val_loss: 0.2072 - val_accuracy: 0.8951\n",
      "Epoch 19/20\n",
      "27/27 [==============================] - 0s 7ms/step - loss: 0.2041 - accuracy: 0.8981 - val_loss: 0.2051 - val_accuracy: 0.8957\n",
      "Epoch 20/20\n",
      "27/27 [==============================] - 0s 8ms/step - loss: 0.2015 - accuracy: 0.8999 - val_loss: 0.2033 - val_accuracy: 0.8979\n"
     ]
    }
   ],
   "source": [
    "# Setup some training parameters\n",
    "batch_size = 10000\n",
    "epochs = 20\n",
    "\n",
    "input_shape =(Xtrain.shape[1],) \n",
    "# Build the model\n",
    "model1 = build_DNN(input_shape=input_shape, n_layers=2, n_nodes=20, learning_rate=0.1)\n",
    "\n",
    "\n",
    "# Train the model, provide training data and validation data\n",
    "history1 = model1.fit(Xtrain,Ytrain,epochs = epochs,validation_data = (Xval,Yval),batch_size=batch_size)"
   ]
  },
  {
   "cell_type": "code",
   "execution_count": 16,
   "metadata": {},
   "outputs": [
    {
     "name": "stdout",
     "output_type": "stream",
     "text": [
      "6/6 [==============================] - 0s 6ms/step - loss: 0.2003 - accuracy: 0.9011\n",
      "Test loss: 0.2003\n",
      "Test accuracy: 0.9011\n"
     ]
    }
   ],
   "source": [
    "# Evaluate the model on the test data\n",
    "score = model1.evaluate(Xtest, Ytest, batch_size=batch_size)\n",
    "\n",
    "\n",
    "print('Test loss: %.4f' % score[0])\n",
    "print('Test accuracy: %.4f' % score[1])"
   ]
  },
  {
   "cell_type": "code",
   "execution_count": 17,
   "metadata": {},
   "outputs": [
    {
     "data": {
      "image/png": "[encoded data removed]",
      "text/plain": [
       "<Figure size 720x288 with 1 Axes>"
      ]
     },
     "metadata": {
      "needs_background": "light"
     },
     "output_type": "display_data"
    },
    {
     "data": {
      "image/png": "[encoded data removed]",
      "text/plain": [
       "<Figure size 720x288 with 1 Axes>"
      ]
     },
     "metadata": {
      "needs_background": "light"
     },
     "output_type": "display_data"
    }
   ],
   "source": [
    "# Plot the history from the training run\n",
    "plot_results(history1)"
   ]
  },
  {
   "cell_type": "markdown",
   "metadata": {},
   "source": [
    "# Part 11: More questions\n",
    "\n",
    "Question 8: What happens if you add several Dense layers without specifying the activation function\n",
    "\n",
    "Answer)\n",
    "without activation function the model will perform like a linear model.In such case we can expect the network to perform a regression model.\n",
    "\n",
    "Question 9: How are the weights in each dense layer initialized as default? How are the bias weights initialized?\n",
    "\n",
    "Answer)\n",
    "Weight and bias initialization for each layer can be set via kernel_initializer and bias_initializer keyword arguments respectively within layers.Dense(). If undefined by user, default settings of kernel_initializer='glorot_uniform' and bias_initializer='zeros' are applied. [How to initialize biases in a Keras model?](https://stackoverflow.com/questions/40708169/how-to-initialize-biases-in-a-keras-model/44148506#:~:text=Weight%20and%20bias%20initialization%20for,bias_initializer%3D'zeros'%20are%20applied.)\n"
   ]
  },
  {
   "cell_type": "markdown",
   "metadata": {},
   "source": [
    "# Part 12: Balancing the classes\n",
    "\n",
    "This dataset is rather unbalanced, we need to define class weights so that the training pays more attention to the class with fewer samples. We use a function in scikit learn\n",
    "\n",
    "https://scikit-learn.org/stable/modules/generated/sklearn.utils.class_weight.compute_class_weight.html"
   ]
  },
  {
   "cell_type": "code",
   "execution_count": 18,
   "metadata": {},
   "outputs": [
    {
     "name": "stdout",
     "output_type": "stream",
     "text": [
      "[3.14031421 0.5946857 ]\n",
      "{0: 3.14031421, 1: 0.5946857}\n"
     ]
    }
   ],
   "source": [
    "from sklearn.utils import class_weight\n",
    "\n",
    "# Calculate class weights\n",
    "\n",
    "classWeight = class_weight.compute_class_weight('balanced', np.unique(Ytrain), Ytrain)\n",
    "\n",
    "# Print the class weights\n",
    "print(classWeight)\n",
    "# Keras wants the weights in this form, uncomment and change value1 and value2 to your weights, \n",
    "# or get them from the array that is returned from class_weight\n",
    "\n",
    "class_weights= {0: 3.14031421,\n",
    "            1:  0.5946857}\n",
    "print(class_weights)"
   ]
  },
  {
   "cell_type": "markdown",
   "metadata": {},
   "source": [
    "### 2 layers, 20 nodes, class weights"
   ]
  },
  {
   "cell_type": "code",
   "execution_count": 19,
   "metadata": {
    "scrolled": true
   },
   "outputs": [
    {
     "name": "stdout",
     "output_type": "stream",
     "text": [
      "WARNING:tensorflow:From D:\\Anaconda3\\envs\\tf1\\lib\\site-packages\\tensorflow\\python\\ops\\array_ops.py:5043: calling gather (from tensorflow.python.ops.array_ops) with validate_indices is deprecated and will be removed in a future version.\n",
      "Instructions for updating:\n",
      "The `validate_indices` argument has no effect. Indices are always validated on CPU and never validated on GPU.\n",
      "Epoch 1/20\n",
      "27/27 [==============================] - 1s 14ms/step - loss: 0.2686 - accuracy: 0.8818 - val_loss: 0.2691 - val_accuracy: 0.8776\n",
      "Epoch 2/20\n",
      "27/27 [==============================] - 0s 10ms/step - loss: 0.2361 - accuracy: 0.8804 - val_loss: 0.2807 - val_accuracy: 0.8775\n",
      "Epoch 3/20\n",
      "27/27 [==============================] - 0s 9ms/step - loss: 0.2316 - accuracy: 0.8803 - val_loss: 0.2805 - val_accuracy: 0.8775\n",
      "Epoch 4/20\n",
      "27/27 [==============================] - 0s 9ms/step - loss: 0.2283 - accuracy: 0.8803 - val_loss: 0.2791 - val_accuracy: 0.8775\n",
      "Epoch 5/20\n",
      "27/27 [==============================] - 0s 9ms/step - loss: 0.2258 - accuracy: 0.8803 - val_loss: 0.2778 - val_accuracy: 0.8774\n",
      "Epoch 6/20\n",
      "27/27 [==============================] - 0s 10ms/step - loss: 0.2237 - accuracy: 0.8804 - val_loss: 0.2763 - val_accuracy: 0.8774\n",
      "Epoch 7/20\n",
      "27/27 [==============================] - 0s 9ms/step - loss: 0.2219 - accuracy: 0.8804 - val_loss: 0.2749 - val_accuracy: 0.8774\n",
      "Epoch 8/20\n",
      "27/27 [==============================] - 0s 10ms/step - loss: 0.2203 - accuracy: 0.8804 - val_loss: 0.2740 - val_accuracy: 0.8774\n",
      "Epoch 9/20\n",
      "27/27 [==============================] - 0s 8ms/step - loss: 0.2189 - accuracy: 0.8804 - val_loss: 0.2733 - val_accuracy: 0.8774\n",
      "Epoch 10/20\n",
      "27/27 [==============================] - 0s 8ms/step - loss: 0.2176 - accuracy: 0.8804 - val_loss: 0.2722 - val_accuracy: 0.8774\n",
      "Epoch 11/20\n",
      "27/27 [==============================] - 0s 8ms/step - loss: 0.2164 - accuracy: 0.8804 - val_loss: 0.2705 - val_accuracy: 0.8774\n",
      "Epoch 12/20\n",
      "27/27 [==============================] - 0s 9ms/step - loss: 0.2153 - accuracy: 0.8805 - val_loss: 0.2703 - val_accuracy: 0.8774\n",
      "Epoch 13/20\n",
      "27/27 [==============================] - 0s 9ms/step - loss: 0.2143 - accuracy: 0.8805 - val_loss: 0.2691 - val_accuracy: 0.8775\n",
      "Epoch 14/20\n",
      "27/27 [==============================] - 0s 10ms/step - loss: 0.2134 - accuracy: 0.8805 - val_loss: 0.2687 - val_accuracy: 0.8775\n",
      "Epoch 15/20\n",
      "27/27 [==============================] - 0s 11ms/step - loss: 0.2126 - accuracy: 0.8806 - val_loss: 0.2674 - val_accuracy: 0.8776\n",
      "Epoch 16/20\n",
      "27/27 [==============================] - 0s 9ms/step - loss: 0.2118 - accuracy: 0.8809 - val_loss: 0.2671 - val_accuracy: 0.8780\n",
      "Epoch 17/20\n",
      "27/27 [==============================] - 0s 9ms/step - loss: 0.2110 - accuracy: 0.8815 - val_loss: 0.2662 - val_accuracy: 0.8787\n",
      "Epoch 18/20\n",
      "27/27 [==============================] - 0s 9ms/step - loss: 0.2103 - accuracy: 0.8822 - val_loss: 0.2658 - val_accuracy: 0.8794\n",
      "Epoch 19/20\n",
      "27/27 [==============================] - 0s 9ms/step - loss: 0.2096 - accuracy: 0.8827 - val_loss: 0.2649 - val_accuracy: 0.8798\n",
      "Epoch 20/20\n",
      "27/27 [==============================] - 0s 8ms/step - loss: 0.2089 - accuracy: 0.8833 - val_loss: 0.2642 - val_accuracy: 0.8803\n"
     ]
    }
   ],
   "source": [
    "# Setup some training parameters\n",
    "batch_size = 10000\n",
    "epochs = 20\n",
    "nput_shape =(Xtrain.shape[1],) \n",
    "# Build the model\n",
    "model2 = build_DNN(input_shape=input_shape, n_layers=2, n_nodes=20, learning_rate=0.1)\n",
    "\n",
    "\n",
    "# Train the model, provide training data and validation data\n",
    "history2 = model1.fit(Xtrain,Ytrain,epochs = epochs,validation_data = (Xval,Yval),batch_size=batch_size,class_weight=class_weights)\n"
   ]
  },
  {
   "cell_type": "code",
   "execution_count": 20,
   "metadata": {},
   "outputs": [
    {
     "name": "stdout",
     "output_type": "stream",
     "text": [
      "1791/1791 [==============================] - 6s 3ms/step - loss: 0.4707 - accuracy: 0.8429\n",
      "Test loss: 0.4727\n",
      "Test accuracy: 0.8411\n"
     ]
    }
   ],
   "source": [
    "# Evaluate model on test data\n",
    "score = model2.evaluate(Xtest,Ytest)\n",
    "print('Test loss: %.4f' % score[0])\n",
    "print('Test accuracy: %.4f' % score[1])"
   ]
  },
  {
   "cell_type": "code",
   "execution_count": 21,
   "metadata": {},
   "outputs": [
    {
     "name": "stdout",
     "output_type": "stream",
     "text": [
      "Model: \"sequential_1\"\n",
      "_________________________________________________________________\n",
      "Layer (type)                 Output Shape              Param #   \n",
      "=================================================================\n",
      "dense_3 (Dense)              (None, 20)                1380      \n",
      "_________________________________________________________________\n",
      "dense_4 (Dense)              (None, 20)                420       \n",
      "_________________________________________________________________\n",
      "dense_5 (Dense)              (None, 1)                 21        \n",
      "=================================================================\n",
      "Total params: 1,821\n",
      "Trainable params: 1,821\n",
      "Non-trainable params: 0\n",
      "_________________________________________________________________\n"
     ]
    }
   ],
   "source": [
    "model2.summary()"
   ]
  },
  {
   "cell_type": "code",
   "execution_count": 22,
   "metadata": {},
   "outputs": [
    {
     "data": {
      "image/png": "[encoded data removed]",
      "text/plain": [
       "<Figure size 720x288 with 1 Axes>"
      ]
     },
     "metadata": {
      "needs_background": "light"
     },
     "output_type": "display_data"
    },
    {
     "data": {
      "image/png": "[encoded data removed]",
      "text/plain": [
       "<Figure size 720x288 with 1 Axes>"
      ]
     },
     "metadata": {
      "needs_background": "light"
     },
     "output_type": "display_data"
    }
   ],
   "source": [
    "plot_results(history2)"
   ]
  },
  {
   "cell_type": "markdown",
   "metadata": {},
   "source": [
    "# Part 13: More questions\n",
    "\n",
    "Skip questions 11 and 12 if you run on the CPU\n",
    "\n",
    "Question 10: Why do we have to use a batch size? Why can't we simply use all data at once? This is more relevant for even larger datasets.\n",
    "\n",
    "*Answer: training a Neural Network require large amount of data. Fitting all these data in memory is not always possible. That is why we use batch.Furthermore, Bat*\n",
    "Question 11: How busy is the GPU for a batch size of 100? How much GPU memory is used? Hint: run 'nvidia-smi' on the cloud computer a few times during training.\n",
    "\n",
    "Question 12: What is the processing time for one training epoch when the batch size is 100? What is the processing time for one epoch when the batch size is 1,000? What is the processing time for one epoch when the batch size is 10,000? Explain the results. \n",
    "\n",
    "Question 13: How many times are the weights in the DNN updated in each training epoch if the batch size is 100? How many times are the weights in the DNN updated in each training epoch if the batch size is 1,000? How many times are the weights in the DNN updated in each training epoch if the batch size is 10,000?  \n",
    "\n",
    "Question 14: What limits how large the batch size can be?\n",
    "\n",
    "Question 15: Generally speaking, how is the learning rate related to the batch size? If the batch size is decreased, how should the learning rate be changed?\n",
    "\n",
    "Lets use a batch size of 10,000 from now on, and a learning rate of 0.1."
   ]
  },
  {
   "cell_type": "markdown",
   "metadata": {},
   "source": [
    "# Part 14: Increasing the complexity\n",
    "\n",
    "Lets try some different configurations of number of layers and number of nodes per layer.\n",
    "\n",
    "Question 16: How many trainable parameters does the network with 4 dense layers with 50 nodes each have, compared to the initial network with 2 layers and 20 nodes per layer? Hint: use model.summary()"
   ]
  },
  {
   "cell_type": "markdown",
   "metadata": {},
   "source": [
    "### 4 layers, 20 nodes, class weights"
   ]
  },
  {
   "cell_type": "code",
   "execution_count": 23,
   "metadata": {
    "scrolled": true
   },
   "outputs": [
    {
     "name": "stdout",
     "output_type": "stream",
     "text": [
      "Epoch 1/20\n",
      "27/27 [==============================] - 1s 16ms/step - loss: 0.6935 - accuracy: 0.1621 - val_loss: 0.6920 - val_accuracy: 0.8303\n",
      "Epoch 2/20\n",
      "27/27 [==============================] - 0s 10ms/step - loss: 0.6932 - accuracy: 0.6608 - val_loss: 0.6916 - val_accuracy: 0.8359\n",
      "Epoch 3/20\n",
      "27/27 [==============================] - 0s 9ms/step - loss: 0.6917 - accuracy: 0.7590 - val_loss: 0.6952 - val_accuracy: 0.1633\n",
      "Epoch 4/20\n",
      "27/27 [==============================] - 0s 10ms/step - loss: 0.6917 - accuracy: 0.4092 - val_loss: 0.6939 - val_accuracy: 0.1667\n",
      "Epoch 5/20\n",
      "27/27 [==============================] - 0s 10ms/step - loss: 0.6924 - accuracy: 0.4131 - val_loss: 0.6947 - val_accuracy: 0.1628\n",
      "Epoch 6/20\n",
      "27/27 [==============================] - 0s 9ms/step - loss: 0.6919 - accuracy: 0.3719 - val_loss: 0.6933 - val_accuracy: 0.3284\n",
      "Epoch 7/20\n",
      "27/27 [==============================] - 0s 9ms/step - loss: 0.6941 - accuracy: 0.3823 - val_loss: 0.6914 - val_accuracy: 0.8496\n",
      "Epoch 8/20\n",
      "27/27 [==============================] - 0s 11ms/step - loss: 0.6915 - accuracy: 0.7406 - val_loss: 0.6904 - val_accuracy: 0.8506\n",
      "Epoch 9/20\n",
      "27/27 [==============================] - 0s 9ms/step - loss: 0.6925 - accuracy: 0.5945 - val_loss: 0.6900 - val_accuracy: 0.8532\n",
      "Epoch 10/20\n",
      "27/27 [==============================] - 0s 9ms/step - loss: 0.6906 - accuracy: 0.7127 - val_loss: 0.6907 - val_accuracy: 0.8606\n",
      "Epoch 11/20\n",
      "27/27 [==============================] - 0s 9ms/step - loss: 0.6912 - accuracy: 0.7309 - val_loss: 0.6906 - val_accuracy: 0.8646\n",
      "Epoch 12/20\n",
      "27/27 [==============================] - 0s 11ms/step - loss: 0.6916 - accuracy: 0.6621 - val_loss: 0.6896 - val_accuracy: 0.8659\n",
      "Epoch 13/20\n",
      "27/27 [==============================] - 0s 8ms/step - loss: 0.6902 - accuracy: 0.8069 - val_loss: 0.6895 - val_accuracy: 0.8673\n",
      "Epoch 14/20\n",
      "27/27 [==============================] - 0s 8ms/step - loss: 0.6900 - accuracy: 0.8426 - val_loss: 0.6903 - val_accuracy: 0.8630\n",
      "Epoch 15/20\n",
      "27/27 [==============================] - 0s 9ms/step - loss: 0.6906 - accuracy: 0.7660 - val_loss: 0.6919 - val_accuracy: 0.8268\n",
      "Epoch 16/20\n",
      "27/27 [==============================] - 0s 9ms/step - loss: 0.6864 - accuracy: 0.8535 - val_loss: 0.6924 - val_accuracy: 0.7258\n",
      "Epoch 17/20\n",
      "27/27 [==============================] - 0s 9ms/step - loss: 0.6887 - accuracy: 0.7637 - val_loss: 0.6892 - val_accuracy: 0.8642\n",
      "Epoch 18/20\n",
      "27/27 [==============================] - 0s 9ms/step - loss: 0.6867 - accuracy: 0.8667 - val_loss: 0.6886 - val_accuracy: 0.8639\n",
      "Epoch 19/20\n",
      "27/27 [==============================] - 0s 9ms/step - loss: 0.6887 - accuracy: 0.8243 - val_loss: 0.6863 - val_accuracy: 0.8716\n",
      "Epoch 20/20\n",
      "27/27 [==============================] - 0s 8ms/step - loss: 0.6867 - accuracy: 0.8627 - val_loss: 0.6856 - val_accuracy: 0.8704\n"
     ]
    }
   ],
   "source": [
    "# Setup some training parameters\n",
    "batch_size = 10000\n",
    "epochs = 20\n",
    "input_shape = (Xtrain.shape[1],) \n",
    "\n",
    "# Build and train model\n",
    "model3 = build_DNN(input_shape=input_shape, n_layers=4, n_nodes=20, learning_rate=0.1)\n",
    "\n",
    "history3 =  model3.fit(Xtrain,Ytrain,epochs = epochs,validation_data = (Xval,Yval),batch_size=batch_size,class_weight=class_weights)\n"
   ]
  },
  {
   "cell_type": "code",
   "execution_count": 24,
   "metadata": {},
   "outputs": [
    {
     "name": "stdout",
     "output_type": "stream",
     "text": [
      "1791/1791 [==============================] - 6s 3ms/step - loss: 0.6856 - accuracy: 0.8733\n",
      "Test loss: 0.6856\n",
      "Test accuracy: 0.8733\n"
     ]
    }
   ],
   "source": [
    "# Evaluate model on test data\n",
    "score =  model3.evaluate(Xtest,Ytest)\n",
    "print('Test loss: %.4f' % score[0])\n",
    "print('Test accuracy: %.4f' % score[1])\n",
    "\n"
   ]
  },
  {
   "cell_type": "code",
   "execution_count": 25,
   "metadata": {},
   "outputs": [
    {
     "name": "stdout",
     "output_type": "stream",
     "text": [
      "Model: \"sequential_2\"\n",
      "_________________________________________________________________\n",
      "Layer (type)                 Output Shape              Param #   \n",
      "=================================================================\n",
      "dense_6 (Dense)              (None, 20)                1380      \n",
      "_________________________________________________________________\n",
      "dense_7 (Dense)              (None, 20)                420       \n",
      "_________________________________________________________________\n",
      "dense_8 (Dense)              (None, 20)                420       \n",
      "_________________________________________________________________\n",
      "dense_9 (Dense)              (None, 20)                420       \n",
      "_________________________________________________________________\n",
      "dense_10 (Dense)             (None, 1)                 21        \n",
      "=================================================================\n",
      "Total params: 2,661\n",
      "Trainable params: 2,661\n",
      "Non-trainable params: 0\n",
      "_________________________________________________________________\n"
     ]
    }
   ],
   "source": [
    "model3.summary()"
   ]
  },
  {
   "cell_type": "code",
   "execution_count": 26,
   "metadata": {},
   "outputs": [
    {
     "data": {
      "image/png": "[encoded data removed]",
      "text/plain": [
       "<Figure size 720x288 with 1 Axes>"
      ]
     },
     "metadata": {
      "needs_background": "light"
     },
     "output_type": "display_data"
    },
    {
     "data": {
      "image/png": "[encoded data removed]",
      "text/plain": [
       "<Figure size 720x288 with 1 Axes>"
      ]
     },
     "metadata": {
      "needs_background": "light"
     },
     "output_type": "display_data"
    }
   ],
   "source": [
    "plot_results(history3)"
   ]
  },
  {
   "cell_type": "markdown",
   "metadata": {},
   "source": [
    "### 2 layers, 50 nodes, class weights"
   ]
  },
  {
   "cell_type": "code",
   "execution_count": 27,
   "metadata": {
    "scrolled": true
   },
   "outputs": [
    {
     "name": "stdout",
     "output_type": "stream",
     "text": [
      "Epoch 1/20\n",
      "27/27 [==============================] - 1s 15ms/step - loss: 0.6720 - accuracy: 0.8606 - val_loss: 0.6102 - val_accuracy: 0.8721\n",
      "Epoch 2/20\n",
      "27/27 [==============================] - 0s 10ms/step - loss: 0.5951 - accuracy: 0.8747 - val_loss: 0.5339 - val_accuracy: 0.8715\n",
      "Epoch 3/20\n",
      "27/27 [==============================] - 0s 10ms/step - loss: 0.5083 - accuracy: 0.8766 - val_loss: 0.4446 - val_accuracy: 0.8731\n",
      "Epoch 4/20\n",
      "27/27 [==============================] - 0s 9ms/step - loss: 0.4150 - accuracy: 0.8783 - val_loss: 0.3709 - val_accuracy: 0.8756\n",
      "Epoch 5/20\n",
      "27/27 [==============================] - 0s 10ms/step - loss: 0.3409 - accuracy: 0.8820 - val_loss: 0.3347 - val_accuracy: 0.8785\n",
      "Epoch 6/20\n",
      "27/27 [==============================] - 0s 10ms/step - loss: 0.2938 - accuracy: 0.8816 - val_loss: 0.3138 - val_accuracy: 0.8785\n",
      "Epoch 7/20\n",
      "27/27 [==============================] - 0s 9ms/step - loss: 0.2686 - accuracy: 0.8820 - val_loss: 0.3013 - val_accuracy: 0.8785\n",
      "Epoch 8/20\n",
      "27/27 [==============================] - 0s 9ms/step - loss: 0.2539 - accuracy: 0.8819 - val_loss: 0.2960 - val_accuracy: 0.8782\n",
      "Epoch 9/20\n",
      "27/27 [==============================] - 0s 9ms/step - loss: 0.2463 - accuracy: 0.8812 - val_loss: 0.2943 - val_accuracy: 0.8781\n",
      "Epoch 10/20\n",
      "27/27 [==============================] - 0s 9ms/step - loss: 0.2417 - accuracy: 0.8800 - val_loss: 0.2911 - val_accuracy: 0.8780\n",
      "Epoch 11/20\n",
      "27/27 [==============================] - 0s 9ms/step - loss: 0.2368 - accuracy: 0.8805 - val_loss: 0.2876 - val_accuracy: 0.8780\n",
      "Epoch 12/20\n",
      "27/27 [==============================] - 0s 9ms/step - loss: 0.2327 - accuracy: 0.8807 - val_loss: 0.2869 - val_accuracy: 0.8779\n",
      "Epoch 13/20\n",
      "27/27 [==============================] - 0s 9ms/step - loss: 0.2297 - accuracy: 0.8809 - val_loss: 0.2855 - val_accuracy: 0.8779\n",
      "Epoch 14/20\n",
      "27/27 [==============================] - 0s 9ms/step - loss: 0.2270 - accuracy: 0.8817 - val_loss: 0.2829 - val_accuracy: 0.8778\n",
      "Epoch 15/20\n",
      "27/27 [==============================] - 0s 9ms/step - loss: 0.2250 - accuracy: 0.8806 - val_loss: 0.2805 - val_accuracy: 0.8778\n",
      "Epoch 16/20\n",
      "27/27 [==============================] - 0s 9ms/step - loss: 0.2244 - accuracy: 0.8807 - val_loss: 0.2783 - val_accuracy: 0.8777\n",
      "Epoch 17/20\n",
      "27/27 [==============================] - 0s 9ms/step - loss: 0.2221 - accuracy: 0.8809 - val_loss: 0.2780 - val_accuracy: 0.8778\n",
      "Epoch 18/20\n",
      "27/27 [==============================] - 0s 9ms/step - loss: 0.2210 - accuracy: 0.8806 - val_loss: 0.2779 - val_accuracy: 0.8778\n",
      "Epoch 19/20\n",
      "27/27 [==============================] - 0s 9ms/step - loss: 0.2202 - accuracy: 0.8801 - val_loss: 0.2754 - val_accuracy: 0.8778\n",
      "Epoch 20/20\n",
      "27/27 [==============================] - 0s 9ms/step - loss: 0.2180 - accuracy: 0.8804 - val_loss: 0.2737 - val_accuracy: 0.8779\n"
     ]
    }
   ],
   "source": [
    "# Setup some training parameters\n",
    "batch_size = 10000\n",
    "epochs = 20\n",
    "input_shape = (Xtrain.shape[1],) \n",
    "\n",
    "\n",
    "# Build and train model\n",
    "model4 = build_DNN(input_shape=input_shape, n_layers=2, n_nodes=50, learning_rate=0.1)\n",
    "\n",
    "history4 = model4.fit(Xtrain,Ytrain,epochs = epochs,validation_data = (Xval,Yval),batch_size=batch_size,class_weight=class_weights)\n"
   ]
  },
  {
   "cell_type": "code",
   "execution_count": 28,
   "metadata": {},
   "outputs": [
    {
     "name": "stdout",
     "output_type": "stream",
     "text": [
      "1791/1791 [==============================] - 6s 3ms/step - loss: 0.2666 - accuracy: 0.8804\n",
      "Test loss: 0.2666\n",
      "Test accuracy: 0.8804\n"
     ]
    }
   ],
   "source": [
    "# Evaluate model on test data\n",
    "score =  model4.evaluate(Xtest,Ytest)\n",
    "print('Test loss: %.4f' % score[0])\n",
    "print('Test accuracy: %.4f' % score[1])\n",
    "\n"
   ]
  },
  {
   "cell_type": "code",
   "execution_count": 29,
   "metadata": {},
   "outputs": [
    {
     "data": {
      "image/png": "[encoded data removed]",
      "text/plain": [
       "<Figure size 720x288 with 1 Axes>"
      ]
     },
     "metadata": {
      "needs_background": "light"
     },
     "output_type": "display_data"
    },
    {
     "data": {
      "image/png": "[encoded data removed]",
      "text/plain": [
       "<Figure size 720x288 with 1 Axes>"
      ]
     },
     "metadata": {
      "needs_background": "light"
     },
     "output_type": "display_data"
    }
   ],
   "source": [
    "plot_results(history4)"
   ]
  },
  {
   "cell_type": "code",
   "execution_count": 30,
   "metadata": {},
   "outputs": [
    {
     "name": "stdout",
     "output_type": "stream",
     "text": [
      "Model: \"sequential_3\"\n",
      "_________________________________________________________________\n",
      "Layer (type)                 Output Shape              Param #   \n",
      "=================================================================\n",
      "dense_11 (Dense)             (None, 50)                3450      \n",
      "_________________________________________________________________\n",
      "dense_12 (Dense)             (None, 50)                2550      \n",
      "_________________________________________________________________\n",
      "dense_13 (Dense)             (None, 1)                 51        \n",
      "=================================================================\n",
      "Total params: 6,051\n",
      "Trainable params: 6,051\n",
      "Non-trainable params: 0\n",
      "_________________________________________________________________\n"
     ]
    }
   ],
   "source": [
    "model4.summary()"
   ]
  },
  {
   "cell_type": "markdown",
   "metadata": {},
   "source": [
    "### 4 layers, 50 nodes, class weights"
   ]
  },
  {
   "cell_type": "code",
   "execution_count": 31,
   "metadata": {
    "scrolled": true
   },
   "outputs": [
    {
     "name": "stdout",
     "output_type": "stream",
     "text": [
      "Epoch 1/20\n",
      "27/27 [==============================] - 1s 17ms/step - loss: 0.7026 - accuracy: 0.3030 - val_loss: 0.6907 - val_accuracy: 0.8486\n",
      "Epoch 2/20\n",
      "27/27 [==============================] - 0s 11ms/step - loss: 0.6928 - accuracy: 0.6543 - val_loss: 0.6957 - val_accuracy: 0.1593\n",
      "Epoch 3/20\n",
      "27/27 [==============================] - 0s 11ms/step - loss: 0.6909 - accuracy: 0.5676 - val_loss: 0.6876 - val_accuracy: 0.8411\n",
      "Epoch 4/20\n",
      "27/27 [==============================] - 0s 11ms/step - loss: 0.6905 - accuracy: 0.7119 - val_loss: 0.6939 - val_accuracy: 0.1636\n",
      "Epoch 5/20\n",
      "27/27 [==============================] - 0s 11ms/step - loss: 0.6894 - accuracy: 0.5967 - val_loss: 0.6925 - val_accuracy: 0.7774\n",
      "Epoch 6/20\n",
      "27/27 [==============================] - 0s 11ms/step - loss: 0.6901 - accuracy: 0.6638 - val_loss: 0.6854 - val_accuracy: 0.8542\n",
      "Epoch 7/20\n",
      "27/27 [==============================] - 0s 11ms/step - loss: 0.6901 - accuracy: 0.7542 - val_loss: 0.6881 - val_accuracy: 0.8737\n",
      "Epoch 8/20\n",
      "27/27 [==============================] - 0s 11ms/step - loss: 0.6906 - accuracy: 0.7132 - val_loss: 0.6888 - val_accuracy: 0.8739\n",
      "Epoch 9/20\n",
      "27/27 [==============================] - 0s 11ms/step - loss: 0.6887 - accuracy: 0.7171 - val_loss: 0.6864 - val_accuracy: 0.8741\n",
      "Epoch 10/20\n",
      "27/27 [==============================] - 0s 11ms/step - loss: 0.6871 - accuracy: 0.8149 - val_loss: 0.6794 - val_accuracy: 0.8506\n",
      "Epoch 11/20\n",
      "27/27 [==============================] - 0s 11ms/step - loss: 0.6880 - accuracy: 0.8337 - val_loss: 0.6882 - val_accuracy: 0.8764\n",
      "Epoch 12/20\n",
      "27/27 [==============================] - 0s 11ms/step - loss: 0.6865 - accuracy: 0.8446 - val_loss: 0.6793 - val_accuracy: 0.8624\n",
      "Epoch 13/20\n",
      "27/27 [==============================] - 0s 11ms/step - loss: 0.6847 - accuracy: 0.8656 - val_loss: 0.6892 - val_accuracy: 0.8764\n",
      "Epoch 14/20\n",
      "27/27 [==============================] - 0s 11ms/step - loss: 0.6820 - accuracy: 0.8623 - val_loss: 0.6852 - val_accuracy: 0.8769\n",
      "Epoch 15/20\n",
      "27/27 [==============================] - 0s 11ms/step - loss: 0.6839 - accuracy: 0.8340 - val_loss: 0.6827 - val_accuracy: 0.8761\n",
      "Epoch 16/20\n",
      "27/27 [==============================] - 0s 11ms/step - loss: 0.6776 - accuracy: 0.8765 - val_loss: 0.6785 - val_accuracy: 0.8709\n",
      "Epoch 17/20\n",
      "27/27 [==============================] - 0s 11ms/step - loss: 0.6795 - accuracy: 0.8440 - val_loss: 0.6751 - val_accuracy: 0.8710\n",
      "Epoch 18/20\n",
      "27/27 [==============================] - 0s 11ms/step - loss: 0.6738 - accuracy: 0.8777 - val_loss: 0.6702 - val_accuracy: 0.8713\n",
      "Epoch 19/20\n",
      "27/27 [==============================] - 0s 12ms/step - loss: 0.6700 - accuracy: 0.8769 - val_loss: 0.6697 - val_accuracy: 0.8757\n",
      "Epoch 20/20\n",
      "27/27 [==============================] - 0s 11ms/step - loss: 0.6666 - accuracy: 0.8787 - val_loss: 0.6624 - val_accuracy: 0.8708\n"
     ]
    }
   ],
   "source": [
    "# Setup some training parameters\n",
    "batch_size = 10000\n",
    "epochs = 20\n",
    "input_shape = (Xtrain.shape[1],) \n",
    "\n",
    "# Build and train model\n",
    "model5 = build_DNN(input_shape=input_shape, n_layers=4, n_nodes=50, learning_rate=0.1)\n",
    "\n",
    "\n",
    "\n",
    "history5  = model5.fit(Xtrain,Ytrain,epochs = epochs,validation_data = (Xval,Yval),batch_size=batch_size,class_weight=class_weights)\n"
   ]
  },
  {
   "cell_type": "code",
   "execution_count": 32,
   "metadata": {},
   "outputs": [
    {
     "name": "stdout",
     "output_type": "stream",
     "text": [
      "1791/1791 [==============================] - 6s 3ms/step - loss: 0.6621 - accuracy: 0.8739\n",
      "Test loss: 0.6621\n",
      "Test accuracy: 0.8739\n"
     ]
    }
   ],
   "source": [
    "# Evaluate model on test data\n",
    "score = model5.evaluate(Xtest,Ytest)\n",
    "print('Test loss: %.4f' % score[0])\n",
    "print('Test accuracy: %.4f' % score[1])\n",
    "\n",
    "\n",
    "\n"
   ]
  },
  {
   "cell_type": "code",
   "execution_count": 33,
   "metadata": {},
   "outputs": [
    {
     "data": {
      "image/png": "[encoded data removed]",
      "text/plain": [
       "<Figure size 720x288 with 1 Axes>"
      ]
     },
     "metadata": {
      "needs_background": "light"
     },
     "output_type": "display_data"
    },
    {
     "data": {
      "image/png": "[encoded data removed]",
      "text/plain": [
       "<Figure size 720x288 with 1 Axes>"
      ]
     },
     "metadata": {
      "needs_background": "light"
     },
     "output_type": "display_data"
    }
   ],
   "source": [
    "plot_results(history5)"
   ]
  },
  {
   "cell_type": "code",
   "execution_count": 34,
   "metadata": {},
   "outputs": [
    {
     "name": "stdout",
     "output_type": "stream",
     "text": [
      "Model: \"sequential_4\"\n",
      "_________________________________________________________________\n",
      "Layer (type)                 Output Shape              Param #   \n",
      "=================================================================\n",
      "dense_14 (Dense)             (None, 50)                3450      \n",
      "_________________________________________________________________\n",
      "dense_15 (Dense)             (None, 50)                2550      \n",
      "_________________________________________________________________\n",
      "dense_16 (Dense)             (None, 50)                2550      \n",
      "_________________________________________________________________\n",
      "dense_17 (Dense)             (None, 50)                2550      \n",
      "_________________________________________________________________\n",
      "dense_18 (Dense)             (None, 1)                 51        \n",
      "=================================================================\n",
      "Total params: 11,151\n",
      "Trainable params: 11,151\n",
      "Non-trainable params: 0\n",
      "_________________________________________________________________\n"
     ]
    }
   ],
   "source": [
    "model5.summary()"
   ]
  },
  {
   "cell_type": "markdown",
   "metadata": {},
   "source": [
    "# Part 15: Batch normalization\n",
    "\n",
    "Now add batch normalization after each dense layer in `build_DNN`. Remember to import BatchNormalization from keras.layers. \n",
    "\n",
    "See https://keras.io/layers/normalization/ for information about how to call the function.\n",
    "\n",
    "Question 17: Why is batch normalization important when training deep networks?"
   ]
  },
  {
   "cell_type": "markdown",
   "metadata": {},
   "source": [
    "### 2 layers, 20 nodes, class weights, batch normalization"
   ]
  },
  {
   "cell_type": "code",
   "execution_count": 35,
   "metadata": {
    "scrolled": true
   },
   "outputs": [
    {
     "name": "stdout",
     "output_type": "stream",
     "text": [
      "Epoch 1/20\n",
      "27/27 [==============================] - 1s 19ms/step - loss: 0.3426 - accuracy: 0.8717 - val_loss: 0.4198 - val_accuracy: 0.8409\n",
      "Epoch 2/20\n",
      "27/27 [==============================] - 0s 10ms/step - loss: 0.2579 - accuracy: 0.8801 - val_loss: 0.4005 - val_accuracy: 0.8409\n",
      "Epoch 3/20\n",
      "27/27 [==============================] - 0s 10ms/step - loss: 0.2316 - accuracy: 0.8839 - val_loss: 0.4008 - val_accuracy: 0.8409\n",
      "Epoch 4/20\n",
      "27/27 [==============================] - 0s 10ms/step - loss: 0.2190 - accuracy: 0.8881 - val_loss: 0.4052 - val_accuracy: 0.8409\n",
      "Epoch 5/20\n",
      "27/27 [==============================] - 0s 10ms/step - loss: 0.2115 - accuracy: 0.8919 - val_loss: 0.4071 - val_accuracy: 0.8409\n",
      "Epoch 6/20\n",
      "27/27 [==============================] - 0s 10ms/step - loss: 0.2077 - accuracy: 0.8949 - val_loss: 0.4085 - val_accuracy: 0.8409\n",
      "Epoch 7/20\n",
      "27/27 [==============================] - 0s 9ms/step - loss: 0.2038 - accuracy: 0.8977 - val_loss: 0.4073 - val_accuracy: 0.8409\n",
      "Epoch 8/20\n",
      "27/27 [==============================] - 0s 10ms/step - loss: 0.2010 - accuracy: 0.8989 - val_loss: 0.4031 - val_accuracy: 0.8409\n",
      "Epoch 9/20\n",
      "27/27 [==============================] - 0s 10ms/step - loss: 0.2012 - accuracy: 0.8990 - val_loss: 0.3977 - val_accuracy: 0.8409\n",
      "Epoch 10/20\n",
      "27/27 [==============================] - 0s 10ms/step - loss: 0.1968 - accuracy: 0.9021 - val_loss: 0.3865 - val_accuracy: 0.8409\n",
      "Epoch 11/20\n",
      "27/27 [==============================] - 0s 10ms/step - loss: 0.1965 - accuracy: 0.9015 - val_loss: 0.3756 - val_accuracy: 0.8409\n",
      "Epoch 12/20\n",
      "27/27 [==============================] - 0s 9ms/step - loss: 0.1938 - accuracy: 0.9031 - val_loss: 0.3557 - val_accuracy: 0.8409\n",
      "Epoch 13/20\n",
      "27/27 [==============================] - 0s 10ms/step - loss: 0.1936 - accuracy: 0.9028 - val_loss: 0.3396 - val_accuracy: 0.8409\n",
      "Epoch 14/20\n",
      "27/27 [==============================] - 0s 11ms/step - loss: 0.1949 - accuracy: 0.9013 - val_loss: 0.3188 - val_accuracy: 0.8409\n",
      "Epoch 15/20\n",
      "27/27 [==============================] - 0s 10ms/step - loss: 0.1924 - accuracy: 0.9022 - val_loss: 0.2951 - val_accuracy: 0.8408\n",
      "Epoch 16/20\n",
      "27/27 [==============================] - 0s 11ms/step - loss: 0.1913 - accuracy: 0.9026 - val_loss: 0.2724 - val_accuracy: 0.8409\n",
      "Epoch 17/20\n",
      "27/27 [==============================] - 0s 11ms/step - loss: 0.1909 - accuracy: 0.9025 - val_loss: 0.2456 - val_accuracy: 0.8410\n",
      "Epoch 18/20\n",
      "27/27 [==============================] - 0s 11ms/step - loss: 0.1911 - accuracy: 0.9025 - val_loss: 0.2267 - val_accuracy: 0.8423\n",
      "Epoch 19/20\n",
      "27/27 [==============================] - 0s 9ms/step - loss: 0.1892 - accuracy: 0.9037 - val_loss: 0.2080 - val_accuracy: 0.8567\n",
      "Epoch 20/20\n",
      "27/27 [==============================] - 0s 11ms/step - loss: 0.1887 - accuracy: 0.9033 - val_loss: 0.1934 - val_accuracy: 0.8677\n"
     ]
    }
   ],
   "source": [
    "# Setup some training parameters\n",
    "from tensorflow.keras.layers import BatchNormalization\n",
    "batch_size = 10000\n",
    "epochs = 20\n",
    "input_shape = (Xtrain.shape[1],) \n",
    "\n",
    "# Build and train model\n",
    "model6 = build_DNN(input_shape=input_shape, n_layers=2, n_nodes=20, learning_rate=0.1,use_bn=True)\n",
    "history6  = model6.fit(Xtrain,Ytrain,epochs = epochs,validation_data = (Xval,Yval)\n",
    "                       ,batch_size=batch_size,class_weight=class_weights)\n"
   ]
  },
  {
   "cell_type": "code",
   "execution_count": 36,
   "metadata": {},
   "outputs": [
    {
     "name": "stdout",
     "output_type": "stream",
     "text": [
      "Model: \"sequential_5\"\n",
      "_________________________________________________________________\n",
      "Layer (type)                 Output Shape              Param #   \n",
      "=================================================================\n",
      "dense_19 (Dense)             (None, 20)                1380      \n",
      "_________________________________________________________________\n",
      "dense_20 (Dense)             (None, 20)                420       \n",
      "_________________________________________________________________\n",
      "batch_normalization (BatchNo (None, 20)                80        \n",
      "_________________________________________________________________\n",
      "dense_21 (Dense)             (None, 1)                 21        \n",
      "=================================================================\n",
      "Total params: 1,901\n",
      "Trainable params: 1,861\n",
      "Non-trainable params: 40\n",
      "_________________________________________________________________\n"
     ]
    }
   ],
   "source": [
    "model6.summary()"
   ]
  },
  {
   "cell_type": "code",
   "execution_count": 37,
   "metadata": {},
   "outputs": [
    {
     "name": "stdout",
     "output_type": "stream",
     "text": [
      "1791/1791 [==============================] - 6s 3ms/step - loss: 0.1917 - accuracy: 0.8672\n",
      "Test loss: 0.1917\n",
      "Test accuracy: 0.8672\n"
     ]
    }
   ],
   "source": [
    "# Evaluate model on test data\n",
    "score =  model6.evaluate(Xtest,Ytest)\n",
    "print('Test loss: %.4f' % score[0])\n",
    "print('Test accuracy: %.4f' % score[1])\n"
   ]
  },
  {
   "cell_type": "code",
   "execution_count": 38,
   "metadata": {},
   "outputs": [
    {
     "data": {
      "image/png": "[encoded data removed]",
      "text/plain": [
       "<Figure size 720x288 with 1 Axes>"
      ]
     },
     "metadata": {
      "needs_background": "light"
     },
     "output_type": "display_data"
    },
    {
     "data": {
      "image/png": "[encoded data removed]",
      "text/plain": [
       "<Figure size 720x288 with 1 Axes>"
      ]
     },
     "metadata": {
      "needs_background": "light"
     },
     "output_type": "display_data"
    }
   ],
   "source": [
    "plot_results(history6)"
   ]
  },
  {
   "cell_type": "markdown",
   "metadata": {},
   "source": [
    "# Part 16: Activation function\n",
    "\n",
    "Try changing the activation function in each layer from sigmoid to ReLU, write down the test accuracy.\n",
    "\n",
    "Note: the last layer should still have a sigmoid activation function.\n",
    "\n",
    "https://keras.io/api/layers/activations/"
   ]
  },
  {
   "cell_type": "markdown",
   "metadata": {},
   "source": [
    "### 2 layers, 20 nodes, class weights, ReLU, no batch normalization"
   ]
  },
  {
   "cell_type": "code",
   "execution_count": 39,
   "metadata": {
    "scrolled": true
   },
   "outputs": [
    {
     "name": "stdout",
     "output_type": "stream",
     "text": [
      "Epoch 1/20\n",
      "27/27 [==============================] - 1s 15ms/step - loss: 2.1511 - accuracy: 0.7665 - val_loss: 1.7994 - val_accuracy: 0.8767\n",
      "Epoch 2/20\n",
      "27/27 [==============================] - 0s 9ms/step - loss: 1.0600 - accuracy: 0.8789 - val_loss: 1.8069 - val_accuracy: 0.8764\n",
      "Epoch 3/20\n",
      "27/27 [==============================] - 0s 8ms/step - loss: 1.0454 - accuracy: 0.8797 - val_loss: 1.7949 - val_accuracy: 0.8771\n",
      "Epoch 4/20\n",
      "27/27 [==============================] - 0s 8ms/step - loss: 1.0468 - accuracy: 0.8797 - val_loss: 1.8102 - val_accuracy: 0.8768\n",
      "Epoch 5/20\n",
      "27/27 [==============================] - 0s 8ms/step - loss: 1.0740 - accuracy: 0.8805 - val_loss: 1.7950 - val_accuracy: 0.8771\n",
      "Epoch 6/20\n",
      "27/27 [==============================] - 0s 8ms/step - loss: 1.0693 - accuracy: 0.8792 - val_loss: 1.7900 - val_accuracy: 0.8774\n",
      "Epoch 7/20\n",
      "27/27 [==============================] - 0s 8ms/step - loss: 1.0386 - accuracy: 0.8808 - val_loss: 1.5798 - val_accuracy: 0.8870\n",
      "Epoch 8/20\n",
      "27/27 [==============================] - 0s 8ms/step - loss: 6.7726 - accuracy: 0.2620 - val_loss: 12.9701 - val_accuracy: 0.1591\n",
      "Epoch 9/20\n",
      "27/27 [==============================] - 0s 9ms/step - loss: 7.7176 - accuracy: 0.1587 - val_loss: 12.9701 - val_accuracy: 0.1591\n",
      "Epoch 10/20\n",
      "27/27 [==============================] - 0s 8ms/step - loss: 7.7032 - accuracy: 0.1602 - val_loss: 12.9701 - val_accuracy: 0.1591\n",
      "Epoch 11/20\n",
      "27/27 [==============================] - 0s 8ms/step - loss: 7.7177 - accuracy: 0.1587 - val_loss: 12.9701 - val_accuracy: 0.1591\n",
      "Epoch 12/20\n",
      "27/27 [==============================] - 0s 8ms/step - loss: 7.7143 - accuracy: 0.1590 - val_loss: 12.9701 - val_accuracy: 0.1591\n",
      "Epoch 13/20\n",
      "27/27 [==============================] - 0s 9ms/step - loss: 7.7071 - accuracy: 0.1598 - val_loss: 12.9701 - val_accuracy: 0.1591\n",
      "Epoch 14/20\n",
      "27/27 [==============================] - 0s 10ms/step - loss: 7.7121 - accuracy: 0.1593 - val_loss: 12.9701 - val_accuracy: 0.1591\n",
      "Epoch 15/20\n",
      "27/27 [==============================] - 0s 8ms/step - loss: 7.7046 - accuracy: 0.1601 - val_loss: 12.9701 - val_accuracy: 0.1591\n",
      "Epoch 16/20\n",
      "27/27 [==============================] - 0s 8ms/step - loss: 7.7205 - accuracy: 0.1583 - val_loss: 12.9701 - val_accuracy: 0.1591\n",
      "Epoch 17/20\n",
      "27/27 [==============================] - 0s 8ms/step - loss: 7.7107 - accuracy: 0.1594 - val_loss: 12.9701 - val_accuracy: 0.1591\n",
      "Epoch 18/20\n",
      "27/27 [==============================] - 0s 10ms/step - loss: 7.7147 - accuracy: 0.1590 - val_loss: 12.9701 - val_accuracy: 0.1591\n",
      "Epoch 19/20\n",
      "27/27 [==============================] - 0s 9ms/step - loss: 7.7119 - accuracy: 0.1593 - val_loss: 12.9701 - val_accuracy: 0.1591\n",
      "Epoch 20/20\n",
      "27/27 [==============================] - 0s 8ms/step - loss: 7.7003 - accuracy: 0.1605 - val_loss: 12.9701 - val_accuracy: 0.1591\n"
     ]
    }
   ],
   "source": [
    "# Setup some training parameters\n",
    "batch_size = 10000\n",
    "epochs = 20\n",
    "input_shape =(Xtrain.shape[1],)\n",
    "\n",
    "\n",
    "# Build and train model\n",
    "model7 = build_DNN(act_fun='relu',input_shape=input_shape, n_layers=2, n_nodes=20, learning_rate=0.1)\n",
    "\n",
    "history7 = model7.fit(Xtrain,Ytrain,epochs=epochs,validation_data=(Xval,Yval),batch_size=batch_size,class_weight=class_weights)"
   ]
  },
  {
   "cell_type": "code",
   "execution_count": 40,
   "metadata": {},
   "outputs": [
    {
     "name": "stdout",
     "output_type": "stream",
     "text": [
      "1791/1791 [==============================] - 6s 3ms/step - loss: 12.9738 - accuracy: 0.1589\n",
      "Test loss: 12.9738\n",
      "Test accuracy: 0.1589\n"
     ]
    }
   ],
   "source": [
    "# Evaluate model on test data\n",
    "score =model7.evaluate(Xtest,Ytest)\n",
    "\n",
    "print('Test loss: %.4f' % score[0])\n",
    "print('Test accuracy: %.4f' % score[1])"
   ]
  },
  {
   "cell_type": "code",
   "execution_count": 41,
   "metadata": {},
   "outputs": [
    {
     "data": {
      "image/png": "[encoded data removed]",
      "text/plain": [
       "<Figure size 720x288 with 1 Axes>"
      ]
     },
     "metadata": {
      "needs_background": "light"
     },
     "output_type": "display_data"
    },
    {
     "data": {
      "image/png": "[encoded data removed]",
      "text/plain": [
       "<Figure size 720x288 with 1 Axes>"
      ]
     },
     "metadata": {
      "needs_background": "light"
     },
     "output_type": "display_data"
    }
   ],
   "source": [
    "plot_results(history7)"
   ]
  },
  {
   "cell_type": "markdown",
   "metadata": {},
   "source": [
    "# Part 17: Optimizer\n",
    "\n",
    "Try changing the optimizer from SGD to Adam (with learning rate 0.1 as before). Remember to import the Adam optimizer from keras.optimizers. \n",
    "\n",
    "https://keras.io/optimizers/\n"
   ]
  },
  {
   "cell_type": "markdown",
   "metadata": {},
   "source": [
    "### 2 layers, 20 nodes, class weights, Adam optimizer, no batch normalization, sigmoid activations"
   ]
  },
  {
   "cell_type": "code",
   "execution_count": 42,
   "metadata": {
    "scrolled": true
   },
   "outputs": [
    {
     "name": "stdout",
     "output_type": "stream",
     "text": [
      "Epoch 1/20\n",
      "27/27 [==============================] - 1s 21ms/step - loss: 0.3970 - accuracy: 0.8006 - val_loss: 0.2618 - val_accuracy: 0.8920\n",
      "Epoch 2/20\n",
      "27/27 [==============================] - 0s 9ms/step - loss: 0.1920 - accuracy: 0.8987 - val_loss: 0.2414 - val_accuracy: 0.9000\n",
      "Epoch 3/20\n",
      "27/27 [==============================] - 0s 8ms/step - loss: 0.1859 - accuracy: 0.9030 - val_loss: 0.2441 - val_accuracy: 0.9004\n",
      "Epoch 4/20\n",
      "27/27 [==============================] - 0s 8ms/step - loss: 0.1831 - accuracy: 0.9037 - val_loss: 0.2344 - val_accuracy: 0.9008\n",
      "Epoch 5/20\n",
      "27/27 [==============================] - 0s 9ms/step - loss: 0.1770 - accuracy: 0.9058 - val_loss: 0.2259 - val_accuracy: 0.9108\n",
      "Epoch 6/20\n",
      "27/27 [==============================] - 0s 8ms/step - loss: 0.1677 - accuracy: 0.9145 - val_loss: 0.2244 - val_accuracy: 0.9131\n",
      "Epoch 7/20\n",
      "27/27 [==============================] - 0s 8ms/step - loss: 0.1628 - accuracy: 0.9170 - val_loss: 0.2098 - val_accuracy: 0.9139\n",
      "Epoch 8/20\n",
      "27/27 [==============================] - 0s 9ms/step - loss: 0.1632 - accuracy: 0.9163 - val_loss: 0.2078 - val_accuracy: 0.9150\n",
      "Epoch 9/20\n",
      "27/27 [==============================] - 0s 9ms/step - loss: 0.1610 - accuracy: 0.9168 - val_loss: 0.2122 - val_accuracy: 0.9158\n",
      "Epoch 10/20\n",
      "27/27 [==============================] - 0s 8ms/step - loss: 0.1614 - accuracy: 0.9181 - val_loss: 0.2098 - val_accuracy: 0.9144\n",
      "Epoch 11/20\n",
      "27/27 [==============================] - 0s 7ms/step - loss: 0.1621 - accuracy: 0.9175 - val_loss: 0.2029 - val_accuracy: 0.9163\n",
      "Epoch 12/20\n",
      "27/27 [==============================] - 0s 9ms/step - loss: 0.1586 - accuracy: 0.9186 - val_loss: 0.2016 - val_accuracy: 0.9151\n",
      "Epoch 13/20\n",
      "27/27 [==============================] - 0s 9ms/step - loss: 0.1595 - accuracy: 0.9179 - val_loss: 0.1966 - val_accuracy: 0.9164\n",
      "Epoch 14/20\n",
      "27/27 [==============================] - 0s 9ms/step - loss: 0.1577 - accuracy: 0.9187 - val_loss: 0.2061 - val_accuracy: 0.9161\n",
      "Epoch 15/20\n",
      "27/27 [==============================] - 0s 8ms/step - loss: 0.1558 - accuracy: 0.9188 - val_loss: 0.2023 - val_accuracy: 0.9157\n",
      "Epoch 16/20\n",
      "27/27 [==============================] - 0s 8ms/step - loss: 0.1564 - accuracy: 0.9189 - val_loss: 0.1978 - val_accuracy: 0.9150\n",
      "Epoch 17/20\n",
      "27/27 [==============================] - 0s 8ms/step - loss: 0.1572 - accuracy: 0.9187 - val_loss: 0.2107 - val_accuracy: 0.9162\n",
      "Epoch 18/20\n",
      "27/27 [==============================] - 0s 8ms/step - loss: 0.1576 - accuracy: 0.9185 - val_loss: 0.2079 - val_accuracy: 0.9160\n",
      "Epoch 19/20\n",
      "27/27 [==============================] - 0s 9ms/step - loss: 0.1563 - accuracy: 0.9188 - val_loss: 0.1940 - val_accuracy: 0.9159\n",
      "Epoch 20/20\n",
      "27/27 [==============================] - 0s 7ms/step - loss: 0.1567 - accuracy: 0.9182 - val_loss: 0.2196 - val_accuracy: 0.9158\n"
     ]
    }
   ],
   "source": [
    "# Setup some training parameters\n",
    "batch_size = 10000\n",
    "epochs = 20\n",
    "input_shape =(Xtrain.shape[1],)\n",
    "\n",
    "\n",
    "# Build and train model\n",
    "model8  = build_DNN(input_shape=input_shape, n_layers=2, n_nodes=20, learning_rate=0.1,optimizer='adam')\n",
    "\n",
    "\n",
    "history8 =  model8.fit(Xtrain,Ytrain,epochs=epochs,validation_data=(Xval,Yval),batch_size=batch_size,class_weight=class_weights)"
   ]
  },
  {
   "cell_type": "code",
   "execution_count": 43,
   "metadata": {},
   "outputs": [
    {
     "name": "stdout",
     "output_type": "stream",
     "text": [
      "1791/1791 [==============================] - 5s 3ms/step - loss: 0.2136 - accuracy: 0.9183\n",
      "Test loss: 0.2136\n",
      "Test accuracy: 0.9183\n"
     ]
    }
   ],
   "source": [
    "# Evaluate model on test data\n",
    "score = model8.evaluate(Xtest,Ytest)\n",
    "\n",
    "print('Test loss: %.4f' % score[0])\n",
    "print('Test accuracy: %.4f' % score[1])"
   ]
  },
  {
   "cell_type": "code",
   "execution_count": 44,
   "metadata": {},
   "outputs": [
    {
     "data": {
      "image/png": "[encoded data removed]",
      "text/plain": [
       "<Figure size 720x288 with 1 Axes>"
      ]
     },
     "metadata": {
      "needs_background": "light"
     },
     "output_type": "display_data"
    },
    {
     "data": {
      "image/png": "[encoded data removed]",
      "text/plain": [
       "<Figure size 720x288 with 1 Axes>"
      ]
     },
     "metadata": {
      "needs_background": "light"
     },
     "output_type": "display_data"
    }
   ],
   "source": [
    "plot_results(history8)"
   ]
  },
  {
   "cell_type": "markdown",
   "metadata": {},
   "source": [
    "# Part 18: Dropout regularization\n",
    "\n",
    "Dropout is a type of regularization that can improve accuracy for validation and test data. \n",
    "\n",
    "Add a Dropout layer after each Dense layer (but not after the final dense layer) in `build_DNN`, with a dropout probability of 50%. Remember to first import the Dropout layer from keras.layers\n",
    "\n",
    "See https://keras.io/api/layers/regularization_layers/dropout/ for how the Dropout layer works.\n",
    "\n",
    "---\n",
    "\n",
    "Question 18: How does the validation accuracy change when adding dropout?\n",
    "\n",
    "Question 19: How does the test accuracy change when adding dropout?"
   ]
  },
  {
   "cell_type": "markdown",
   "metadata": {},
   "source": [
    "### 2 layers, 20 nodes, class weights, dropout, SGD optimizer, no batch normalization, sigmoid activations"
   ]
  },
  {
   "cell_type": "code",
   "execution_count": 45,
   "metadata": {
    "scrolled": true
   },
   "outputs": [
    {
     "name": "stdout",
     "output_type": "stream",
     "text": [
      "Epoch 1/20\n",
      "27/27 [==============================] - 1s 16ms/step - loss: 0.7267 - accuracy: 0.5328 - val_loss: 0.6661 - val_accuracy: 0.8713\n",
      "Epoch 2/20\n",
      "27/27 [==============================] - 0s 9ms/step - loss: 0.6895 - accuracy: 0.5539 - val_loss: 0.6415 - val_accuracy: 0.8718\n",
      "Epoch 3/20\n",
      "27/27 [==============================] - 0s 8ms/step - loss: 0.6582 - accuracy: 0.6034 - val_loss: 0.6065 - val_accuracy: 0.8714\n",
      "Epoch 4/20\n",
      "27/27 [==============================] - 0s 9ms/step - loss: 0.6276 - accuracy: 0.6517 - val_loss: 0.5660 - val_accuracy: 0.8713\n",
      "Epoch 5/20\n",
      "27/27 [==============================] - 0s 8ms/step - loss: 0.5850 - accuracy: 0.7026 - val_loss: 0.5158 - val_accuracy: 0.8719\n",
      "Epoch 6/20\n",
      "27/27 [==============================] - 0s 9ms/step - loss: 0.5409 - accuracy: 0.7443 - val_loss: 0.4637 - val_accuracy: 0.8769\n",
      "Epoch 7/20\n",
      "27/27 [==============================] - 0s 10ms/step - loss: 0.4953 - accuracy: 0.7767 - val_loss: 0.4182 - val_accuracy: 0.8769\n",
      "Epoch 8/20\n",
      "27/27 [==============================] - 0s 9ms/step - loss: 0.4542 - accuracy: 0.8000 - val_loss: 0.3801 - val_accuracy: 0.8779\n",
      "Epoch 9/20\n",
      "27/27 [==============================] - 0s 8ms/step - loss: 0.4184 - accuracy: 0.8192 - val_loss: 0.3505 - val_accuracy: 0.8775\n",
      "Epoch 10/20\n",
      "27/27 [==============================] - 0s 8ms/step - loss: 0.3897 - accuracy: 0.8333 - val_loss: 0.3298 - val_accuracy: 0.8774\n",
      "Epoch 11/20\n",
      "27/27 [==============================] - 0s 10ms/step - loss: 0.3681 - accuracy: 0.8439 - val_loss: 0.3163 - val_accuracy: 0.8774\n",
      "Epoch 12/20\n",
      "27/27 [==============================] - 0s 9ms/step - loss: 0.3527 - accuracy: 0.8503 - val_loss: 0.3072 - val_accuracy: 0.8774\n",
      "Epoch 13/20\n",
      "27/27 [==============================] - 0s 8ms/step - loss: 0.3395 - accuracy: 0.8547 - val_loss: 0.3001 - val_accuracy: 0.8774\n",
      "Epoch 14/20\n",
      "27/27 [==============================] - 0s 8ms/step - loss: 0.3293 - accuracy: 0.8579 - val_loss: 0.2951 - val_accuracy: 0.8774\n",
      "Epoch 15/20\n",
      "27/27 [==============================] - 0s 8ms/step - loss: 0.3176 - accuracy: 0.8626 - val_loss: 0.2911 - val_accuracy: 0.8774\n",
      "Epoch 16/20\n",
      "27/27 [==============================] - 0s 8ms/step - loss: 0.3125 - accuracy: 0.8645 - val_loss: 0.2889 - val_accuracy: 0.8774\n",
      "Epoch 17/20\n",
      "27/27 [==============================] - 0s 9ms/step - loss: 0.3053 - accuracy: 0.8658 - val_loss: 0.2868 - val_accuracy: 0.8774\n",
      "Epoch 18/20\n",
      "27/27 [==============================] - 0s 8ms/step - loss: 0.2973 - accuracy: 0.8679 - val_loss: 0.2857 - val_accuracy: 0.8774\n",
      "Epoch 19/20\n",
      "27/27 [==============================] - 0s 8ms/step - loss: 0.2960 - accuracy: 0.8670 - val_loss: 0.2831 - val_accuracy: 0.8774\n",
      "Epoch 20/20\n",
      "27/27 [==============================] - 0s 8ms/step - loss: 0.2900 - accuracy: 0.8686 - val_loss: 0.2821 - val_accuracy: 0.8774\n"
     ]
    }
   ],
   "source": [
    "# Setup some training parameters\n",
    "batch_size = 10000\n",
    "epochs = 20\n",
    "input_shape =(Xtrain.shape[1],)\n",
    "\n",
    "# Build and train model\n",
    "model9 = build_DNN(input_shape=input_shape, n_layers=2, n_nodes=20, learning_rate=0.1,use_dropout=True)\n",
    "\n",
    "history9 =  model9.fit(Xtrain,Ytrain,epochs=epochs,validation_data=(Xval,Yval),batch_size=batch_size,class_weight=class_weights)"
   ]
  },
  {
   "cell_type": "code",
   "execution_count": 46,
   "metadata": {},
   "outputs": [
    {
     "name": "stdout",
     "output_type": "stream",
     "text": [
      "1791/1791 [==============================] - 5s 3ms/step - loss: 0.2766 - accuracy: 0.8797\n",
      "Test loss: 0.2766\n",
      "Test accuracy: 0.8797\n"
     ]
    }
   ],
   "source": [
    "# Evaluate model on test data\n",
    "score = model9.evaluate(Xtest,Ytest)\n",
    "\n",
    "print('Test loss: %.4f' % score[0])\n",
    "print('Test accuracy: %.4f' % score[1])"
   ]
  },
  {
   "cell_type": "code",
   "execution_count": 47,
   "metadata": {},
   "outputs": [
    {
     "data": {
      "image/png": "[encoded data removed]",
      "text/plain": [
       "<Figure size 720x288 with 1 Axes>"
      ]
     },
     "metadata": {
      "needs_background": "light"
     },
     "output_type": "display_data"
    },
    {
     "data": {
      "image/png": "[encoded data removed]",
      "text/plain": [
       "<Figure size 720x288 with 1 Axes>"
      ]
     },
     "metadata": {
      "needs_background": "light"
     },
     "output_type": "display_data"
    }
   ],
   "source": [
    "plot_results(history9)"
   ]
  },
  {
   "cell_type": "markdown",
   "metadata": {},
   "source": [
    "# Part 19: Improving performance\n",
    "\n",
    "Spend some time (30 - 90 minutes) playing with the network architecture (number of layers, number of nodes per layer, activation function) and other hyper parameters (optimizer, learning rate, batch size, number of epochs, degree of regularization). For example, try a much deeper network. How much does the training time increase for a network with 10 layers?\n",
    "\n",
    "Question 20: How high classification accuracy can you achieve for the test data? What is your best configuration?"
   ]
  },
  {
   "cell_type": "code",
   "execution_count": 48,
   "metadata": {
    "scrolled": true
   },
   "outputs": [
    {
     "name": "stdout",
     "output_type": "stream",
     "text": [
      "Epoch 1/25\n",
      "11/11 [==============================] - 2s 54ms/step - loss: 1.2358 - accuracy: 0.7911 - val_loss: 1.0985 - val_accuracy: 0.8483\n",
      "Epoch 2/25\n",
      "11/11 [==============================] - 0s 27ms/step - loss: 0.3690 - accuracy: 0.8732 - val_loss: 0.4588 - val_accuracy: 0.8649\n",
      "Epoch 3/25\n",
      "11/11 [==============================] - 0s 26ms/step - loss: 0.3082 - accuracy: 0.8797 - val_loss: 0.4611 - val_accuracy: 0.8549\n",
      "Epoch 4/25\n",
      "11/11 [==============================] - 0s 26ms/step - loss: 0.2836 - accuracy: 0.8841 - val_loss: 0.4760 - val_accuracy: 0.8540\n",
      "Epoch 5/25\n",
      "11/11 [==============================] - 0s 26ms/step - loss: 0.2662 - accuracy: 0.8909 - val_loss: 0.3631 - val_accuracy: 0.8703\n",
      "Epoch 6/25\n",
      "11/11 [==============================] - 0s 27ms/step - loss: 0.2434 - accuracy: 0.8967 - val_loss: 0.3664 - val_accuracy: 0.8716\n",
      "Epoch 7/25\n",
      "11/11 [==============================] - 0s 26ms/step - loss: 0.2359 - accuracy: 0.9004 - val_loss: 0.3991 - val_accuracy: 0.8613\n",
      "Epoch 8/25\n",
      "11/11 [==============================] - 0s 26ms/step - loss: 0.2285 - accuracy: 0.9014 - val_loss: 0.1816 - val_accuracy: 0.9016\n",
      "Epoch 9/25\n",
      "11/11 [==============================] - 0s 29ms/step - loss: 0.2256 - accuracy: 0.8979 - val_loss: 0.1776 - val_accuracy: 0.9011\n",
      "Epoch 10/25\n",
      "11/11 [==============================] - 0s 27ms/step - loss: 0.2234 - accuracy: 0.9035 - val_loss: 0.1825 - val_accuracy: 0.9007\n",
      "Epoch 11/25\n",
      "11/11 [==============================] - 0s 26ms/step - loss: 0.2131 - accuracy: 0.9072 - val_loss: 0.1774 - val_accuracy: 0.9007\n",
      "Epoch 12/25\n",
      "11/11 [==============================] - 0s 26ms/step - loss: 0.2158 - accuracy: 0.9062 - val_loss: 0.1739 - val_accuracy: 0.9050\n",
      "Epoch 13/25\n",
      "11/11 [==============================] - 0s 26ms/step - loss: 0.2109 - accuracy: 0.9092 - val_loss: 0.1772 - val_accuracy: 0.9110\n",
      "Epoch 14/25\n",
      "11/11 [==============================] - 0s 26ms/step - loss: 0.2054 - accuracy: 0.9086 - val_loss: 0.1890 - val_accuracy: 0.9039\n",
      "Epoch 15/25\n",
      "11/11 [==============================] - 0s 26ms/step - loss: 0.2062 - accuracy: 0.9055 - val_loss: 0.1847 - val_accuracy: 0.9118\n",
      "Epoch 16/25\n",
      "11/11 [==============================] - 0s 26ms/step - loss: 0.1980 - accuracy: 0.9098 - val_loss: 0.1822 - val_accuracy: 0.9111\n",
      "Epoch 17/25\n",
      "11/11 [==============================] - 0s 27ms/step - loss: 0.1968 - accuracy: 0.9108 - val_loss: 0.1972 - val_accuracy: 0.9081\n",
      "Epoch 18/25\n",
      "11/11 [==============================] - 0s 27ms/step - loss: 0.1990 - accuracy: 0.9110 - val_loss: 0.1985 - val_accuracy: 0.9093\n",
      "Epoch 19/25\n",
      "11/11 [==============================] - 0s 26ms/step - loss: 0.1960 - accuracy: 0.9114 - val_loss: 0.1955 - val_accuracy: 0.9112\n",
      "Epoch 20/25\n",
      "11/11 [==============================] - 0s 25ms/step - loss: 0.1973 - accuracy: 0.9125 - val_loss: 0.2137 - val_accuracy: 0.9032\n",
      "Epoch 21/25\n",
      "11/11 [==============================] - 0s 29ms/step - loss: 0.1927 - accuracy: 0.9094 - val_loss: 0.1882 - val_accuracy: 0.9124\n",
      "Epoch 22/25\n",
      "11/11 [==============================] - 0s 27ms/step - loss: 0.1937 - accuracy: 0.9116 - val_loss: 0.2079 - val_accuracy: 0.9101\n",
      "Epoch 23/25\n",
      "11/11 [==============================] - 0s 26ms/step - loss: 0.1910 - accuracy: 0.9121 - val_loss: 0.2022 - val_accuracy: 0.9114\n",
      "Epoch 24/25\n",
      "11/11 [==============================] - 0s 26ms/step - loss: 0.1860 - accuracy: 0.9130 - val_loss: 0.2018 - val_accuracy: 0.9118\n",
      "Epoch 25/25\n",
      "11/11 [==============================] - 0s 25ms/step - loss: 0.1846 - accuracy: 0.9131 - val_loss: 0.2053 - val_accuracy: 0.9126\n"
     ]
    }
   ],
   "source": [
    "# Find your best configuration for the DNN\n",
    "\n",
    "# Build and train DNN\n",
    "batch_size = 25000\n",
    "epochs = 25\n",
    "input_shape = (Xtrain.shape[1],)\n",
    "\n",
    "# Build and train DNN\n",
    "model10 = build_DNN(act_fun='softplus',input_shape=input_shape, n_layers=4, n_nodes=30, optimizer='RMSprop', \n",
    "                    use_bn=True,learning_rate=0.005,use_dropout=True)\n",
    "\n",
    "history10 = model10.fit(Xtrain, Ytrain, batch_size=batch_size, epochs=epochs, \n",
    "                      class_weight=class_weights, validation_data=(Xval, Yval))"
   ]
  },
  {
   "cell_type": "code",
   "execution_count": 49,
   "metadata": {},
   "outputs": [
    {
     "name": "stdout",
     "output_type": "stream",
     "text": [
      "1791/1791 [==============================] - 8s 4ms/step - loss: 0.2004 - accuracy: 0.9152\n",
      "Test loss: 0.2004\n",
      "Test accuracy: 0.9152\n"
     ]
    }
   ],
   "source": [
    "# Evaluate DNN on test data\n",
    "score = model10.evaluate(Xtest,Ytest)\n",
    "\n",
    "print('Test loss: %.4f' % score[0])\n",
    "print('Test accuracy: %.4f' % score[1])"
   ]
  },
  {
   "cell_type": "markdown",
   "metadata": {},
   "source": [
    "# Part 20: Dropout uncertainty\n",
    "\n",
    "Dropout can also be used during testing, to obtain an estimate of the model uncertainty. Since dropout will randomly remove connections, the network will produce different results every time the same (test) data is put into the network. This technique is called Monte Carlo dropout. For more information, see this paper http://proceedings.mlr.press/v48/gal16.pdf\n",
    "\n",
    "To achieve this, we need to redefine the Keras Dropout call by running the cell below, and use 'myDropout' in each call to Dropout, in the cell that defines the DNN. The `build_DNN` function takes two boolean arguments, use_dropout and use_custom_dropout, add a standard Dropout layer if use_dropout is true, add a myDropout layer if use_custom_dropout is true.\n",
    "\n",
    "Run the same test data through the trained network 100 times, with dropout turned on. \n",
    "\n",
    "Question 21: What is the mean and the standard deviation of the test accuracy?\n",
    "\n",
    "`mean of the test Accuracies is: 0.9158476728200913.\n",
    "sd of the test Accuracies is: 0.00010767426324562475.\n",
    "`"
   ]
  },
  {
   "cell_type": "code",
   "execution_count": 50,
   "metadata": {},
   "outputs": [],
   "source": [
    "import tensorflow.keras.backend as K\n",
    "import tensorflow.keras\n",
    "\n",
    "class myDropout(tensorflow.keras.layers.Dropout):\n",
    "    \"\"\"Applies Dropout to the input.\n",
    "    Dropout consists in randomly setting\n",
    "    a fraction `rate` of input units to 0 at each update during training time,\n",
    "    which helps prevent overfitting.\n",
    "    # Arguments\n",
    "        rate: float between 0 and 1. Fraction of the input units to drop.\n",
    "        noise_shape: 1D integer tensor representing the shape of the\n",
    "            binary dropout mask that will be multiplied with the input.\n",
    "            For instance, if your inputs have shape\n",
    "            `(batch_size, timesteps, features)` and\n",
    "            you want the dropout mask to be the same for all timesteps,\n",
    "            you can use `noise_shape=(batch_size, 1, features)`.\n",
    "        seed: A Python integer to use as random seed.\n",
    "    # References\n",
    "        - [Dropout: A Simple Way to Prevent Neural Networks from Overfitting](\n",
    "           http://www.jmlr.org/papers/volume15/srivastava14a/srivastava14a.pdf)\n",
    "    \"\"\"\n",
    "    def __init__(self, rate, training=True, noise_shape=None, seed=None, **kwargs):\n",
    "        super(myDropout, self).__init__(rate, noise_shape=None, seed=None,**kwargs)\n",
    "        self.training = training\n",
    "\n",
    "        \n",
    "    def call(self, inputs, training=None):\n",
    "        if 0. < self.rate < 1.:\n",
    "            noise_shape = self._get_noise_shape(inputs)\n",
    "\n",
    "            def dropped_inputs():\n",
    "                return K.dropout(inputs, self.rate, noise_shape,\n",
    "                                 seed=self.seed)\n",
    "            if not training: \n",
    "                return K.in_train_phase(dropped_inputs, inputs, training=self.training)\n",
    "            return K.in_train_phase(dropped_inputs, inputs, training=training)\n",
    "        return inputs"
   ]
  },
  {
   "cell_type": "markdown",
   "metadata": {},
   "source": [
    "### Your best config, custom dropout"
   ]
  },
  {
   "cell_type": "code",
   "execution_count": 51,
   "metadata": {
    "scrolled": true
   },
   "outputs": [
    {
     "name": "stdout",
     "output_type": "stream",
     "text": [
      "Epoch 1/250\n",
      "11/11 [==============================] - 2s 44ms/step - loss: 2.0517 - accuracy: 0.4029 - val_loss: 0.8239 - val_accuracy: 0.5827\n",
      "Epoch 2/250\n",
      "11/11 [==============================] - 0s 20ms/step - loss: 0.6795 - accuracy: 0.6547 - val_loss: 0.5831 - val_accuracy: 0.7375\n",
      "Epoch 3/250\n",
      "11/11 [==============================] - 0s 18ms/step - loss: 0.4102 - accuracy: 0.7868 - val_loss: 0.3821 - val_accuracy: 0.8356\n",
      "Epoch 4/250\n",
      "11/11 [==============================] - 0s 19ms/step - loss: 0.3147 - accuracy: 0.8471 - val_loss: 0.3256 - val_accuracy: 0.8598\n",
      "Epoch 5/250\n",
      "11/11 [==============================] - 0s 19ms/step - loss: 0.2774 - accuracy: 0.8653 - val_loss: 0.3118 - val_accuracy: 0.8684\n",
      "Epoch 6/250\n",
      "11/11 [==============================] - 0s 19ms/step - loss: 0.2526 - accuracy: 0.8726 - val_loss: 0.2918 - val_accuracy: 0.8745\n",
      "Epoch 7/250\n",
      "11/11 [==============================] - 0s 19ms/step - loss: 0.2389 - accuracy: 0.8788 - val_loss: 0.2674 - val_accuracy: 0.8858\n",
      "Epoch 8/250\n",
      "11/11 [==============================] - 0s 18ms/step - loss: 0.2235 - accuracy: 0.8913 - val_loss: 0.2589 - val_accuracy: 0.8938\n",
      "Epoch 9/250\n",
      "11/11 [==============================] - 0s 18ms/step - loss: 0.2138 - accuracy: 0.8963 - val_loss: 0.2503 - val_accuracy: 0.8938\n",
      "Epoch 10/250\n",
      "11/11 [==============================] - 0s 18ms/step - loss: 0.2062 - accuracy: 0.8985 - val_loss: 0.2658 - val_accuracy: 0.8930\n",
      "Epoch 11/250\n",
      "11/11 [==============================] - 0s 19ms/step - loss: 0.2043 - accuracy: 0.8989 - val_loss: 0.2384 - val_accuracy: 0.8978\n",
      "Epoch 12/250\n",
      "11/11 [==============================] - 0s 21ms/step - loss: 0.2015 - accuracy: 0.9007 - val_loss: 0.2447 - val_accuracy: 0.9004\n",
      "Epoch 13/250\n",
      "11/11 [==============================] - 0s 20ms/step - loss: 0.1958 - accuracy: 0.9034 - val_loss: 0.2447 - val_accuracy: 0.9028\n",
      "Epoch 14/250\n",
      "11/11 [==============================] - 0s 19ms/step - loss: 0.1943 - accuracy: 0.9043 - val_loss: 0.2372 - val_accuracy: 0.8999\n",
      "Epoch 15/250\n",
      "11/11 [==============================] - 0s 19ms/step - loss: 0.1944 - accuracy: 0.9033 - val_loss: 0.2334 - val_accuracy: 0.9025\n",
      "Epoch 16/250\n",
      "11/11 [==============================] - 0s 19ms/step - loss: 0.1889 - accuracy: 0.9062 - val_loss: 0.2472 - val_accuracy: 0.9012\n",
      "Epoch 17/250\n",
      "11/11 [==============================] - 0s 18ms/step - loss: 0.1897 - accuracy: 0.9058 - val_loss: 0.2487 - val_accuracy: 0.8999\n",
      "Epoch 18/250\n",
      "11/11 [==============================] - 0s 18ms/step - loss: 0.1899 - accuracy: 0.9038 - val_loss: 0.2396 - val_accuracy: 0.9019\n",
      "Epoch 19/250\n",
      "11/11 [==============================] - 0s 19ms/step - loss: 0.1896 - accuracy: 0.9052 - val_loss: 0.2436 - val_accuracy: 0.9028\n",
      "Epoch 20/250\n",
      "11/11 [==============================] - 0s 19ms/step - loss: 0.1867 - accuracy: 0.9060 - val_loss: 0.2375 - val_accuracy: 0.9039\n",
      "Epoch 21/250\n",
      "11/11 [==============================] - 0s 19ms/step - loss: 0.1882 - accuracy: 0.9064 - val_loss: 0.2336 - val_accuracy: 0.9049\n",
      "Epoch 22/250\n",
      "11/11 [==============================] - 0s 18ms/step - loss: 0.1858 - accuracy: 0.9070 - val_loss: 0.2258 - val_accuracy: 0.9068\n",
      "Epoch 23/250\n",
      "11/11 [==============================] - 0s 19ms/step - loss: 0.1858 - accuracy: 0.9085 - val_loss: 0.2370 - val_accuracy: 0.9046\n",
      "Epoch 24/250\n",
      "11/11 [==============================] - 0s 18ms/step - loss: 0.1872 - accuracy: 0.9066 - val_loss: 0.2521 - val_accuracy: 0.9004\n",
      "Epoch 25/250\n",
      "11/11 [==============================] - 0s 18ms/step - loss: 0.1890 - accuracy: 0.9044 - val_loss: 0.2350 - val_accuracy: 0.9034\n",
      "Epoch 26/250\n",
      "11/11 [==============================] - 0s 18ms/step - loss: 0.1849 - accuracy: 0.9064 - val_loss: 0.2437 - val_accuracy: 0.9057\n",
      "Epoch 27/250\n",
      "11/11 [==============================] - 0s 18ms/step - loss: 0.1839 - accuracy: 0.9087 - val_loss: 0.2459 - val_accuracy: 0.9070\n",
      "Epoch 28/250\n",
      "11/11 [==============================] - 0s 18ms/step - loss: 0.1827 - accuracy: 0.9095 - val_loss: 0.2436 - val_accuracy: 0.9037\n",
      "Epoch 29/250\n",
      "11/11 [==============================] - 0s 20ms/step - loss: 0.1804 - accuracy: 0.9099 - val_loss: 0.2195 - val_accuracy: 0.9099\n",
      "Epoch 30/250\n",
      "11/11 [==============================] - 0s 19ms/step - loss: 0.1824 - accuracy: 0.9106 - val_loss: 0.2309 - val_accuracy: 0.9100\n",
      "Epoch 31/250\n",
      "11/11 [==============================] - 0s 19ms/step - loss: 0.1792 - accuracy: 0.9119 - val_loss: 0.2156 - val_accuracy: 0.9118\n",
      "Epoch 32/250\n",
      "11/11 [==============================] - 0s 18ms/step - loss: 0.1804 - accuracy: 0.9119 - val_loss: 0.2338 - val_accuracy: 0.9064\n",
      "Epoch 33/250\n",
      "11/11 [==============================] - 0s 18ms/step - loss: 0.1802 - accuracy: 0.9099 - val_loss: 0.2255 - val_accuracy: 0.9089\n",
      "Epoch 34/250\n",
      "11/11 [==============================] - 0s 19ms/step - loss: 0.1792 - accuracy: 0.9120 - val_loss: 0.2207 - val_accuracy: 0.9105\n",
      "Epoch 35/250\n",
      "11/11 [==============================] - 0s 19ms/step - loss: 0.1786 - accuracy: 0.9128 - val_loss: 0.2283 - val_accuracy: 0.9114\n",
      "Epoch 36/250\n",
      "11/11 [==============================] - 0s 18ms/step - loss: 0.1779 - accuracy: 0.9138 - val_loss: 0.2171 - val_accuracy: 0.9117\n",
      "Epoch 37/250\n",
      "11/11 [==============================] - 0s 18ms/step - loss: 0.1778 - accuracy: 0.9140 - val_loss: 0.2238 - val_accuracy: 0.9121\n",
      "Epoch 38/250\n",
      "11/11 [==============================] - 0s 19ms/step - loss: 0.1801 - accuracy: 0.9144 - val_loss: 0.2270 - val_accuracy: 0.9106\n",
      "Epoch 39/250\n",
      "11/11 [==============================] - 0s 19ms/step - loss: 0.1759 - accuracy: 0.9134 - val_loss: 0.2256 - val_accuracy: 0.9117\n",
      "Epoch 40/250\n",
      "11/11 [==============================] - 0s 19ms/step - loss: 0.1759 - accuracy: 0.9145 - val_loss: 0.2187 - val_accuracy: 0.9121\n",
      "Epoch 41/250\n",
      "11/11 [==============================] - 0s 18ms/step - loss: 0.1766 - accuracy: 0.9137 - val_loss: 0.2269 - val_accuracy: 0.9126\n",
      "Epoch 42/250\n",
      "11/11 [==============================] - 0s 19ms/step - loss: 0.1756 - accuracy: 0.9150 - val_loss: 0.2191 - val_accuracy: 0.9121\n",
      "Epoch 43/250\n",
      "11/11 [==============================] - 0s 18ms/step - loss: 0.1775 - accuracy: 0.9135 - val_loss: 0.2298 - val_accuracy: 0.9114\n",
      "Epoch 44/250\n",
      "11/11 [==============================] - 0s 19ms/step - loss: 0.1735 - accuracy: 0.9145 - val_loss: 0.2210 - val_accuracy: 0.9129\n",
      "Epoch 45/250\n",
      "11/11 [==============================] - 0s 19ms/step - loss: 0.1778 - accuracy: 0.9141 - val_loss: 0.2131 - val_accuracy: 0.9126\n",
      "Epoch 46/250\n",
      "11/11 [==============================] - 0s 19ms/step - loss: 0.1716 - accuracy: 0.9150 - val_loss: 0.2168 - val_accuracy: 0.9128\n",
      "Epoch 47/250\n",
      "11/11 [==============================] - 0s 20ms/step - loss: 0.1737 - accuracy: 0.9146 - val_loss: 0.2298 - val_accuracy: 0.9116\n",
      "Epoch 48/250\n",
      "11/11 [==============================] - 0s 19ms/step - loss: 0.1733 - accuracy: 0.9142 - val_loss: 0.2190 - val_accuracy: 0.9110\n",
      "Epoch 49/250\n",
      "11/11 [==============================] - 0s 19ms/step - loss: 0.1754 - accuracy: 0.9143 - val_loss: 0.2294 - val_accuracy: 0.9111\n",
      "Epoch 50/250\n",
      "11/11 [==============================] - 0s 19ms/step - loss: 0.1767 - accuracy: 0.9141 - val_loss: 0.2206 - val_accuracy: 0.9126\n",
      "Epoch 51/250\n",
      "11/11 [==============================] - 0s 18ms/step - loss: 0.1712 - accuracy: 0.9149 - val_loss: 0.2193 - val_accuracy: 0.9120\n",
      "Epoch 52/250\n",
      "11/11 [==============================] - 0s 19ms/step - loss: 0.1738 - accuracy: 0.9141 - val_loss: 0.2228 - val_accuracy: 0.9126\n",
      "Epoch 53/250\n",
      "11/11 [==============================] - 0s 19ms/step - loss: 0.1717 - accuracy: 0.9156 - val_loss: 0.2093 - val_accuracy: 0.9130\n",
      "Epoch 54/250\n",
      "11/11 [==============================] - 0s 19ms/step - loss: 0.1776 - accuracy: 0.9126 - val_loss: 0.2233 - val_accuracy: 0.9124\n",
      "Epoch 55/250\n",
      "11/11 [==============================] - 0s 18ms/step - loss: 0.1715 - accuracy: 0.9157 - val_loss: 0.2153 - val_accuracy: 0.9129\n",
      "Epoch 56/250\n",
      "11/11 [==============================] - 0s 20ms/step - loss: 0.1715 - accuracy: 0.9153 - val_loss: 0.2251 - val_accuracy: 0.9125\n",
      "Epoch 57/250\n",
      "11/11 [==============================] - 0s 18ms/step - loss: 0.1727 - accuracy: 0.9145 - val_loss: 0.2215 - val_accuracy: 0.9125\n",
      "Epoch 58/250\n",
      "11/11 [==============================] - 0s 18ms/step - loss: 0.1721 - accuracy: 0.9144 - val_loss: 0.2236 - val_accuracy: 0.9129\n",
      "Epoch 59/250\n",
      "11/11 [==============================] - 0s 18ms/step - loss: 0.1712 - accuracy: 0.9156 - val_loss: 0.2274 - val_accuracy: 0.9129\n",
      "Epoch 60/250\n",
      "11/11 [==============================] - 0s 18ms/step - loss: 0.1723 - accuracy: 0.9157 - val_loss: 0.2160 - val_accuracy: 0.9128\n",
      "Epoch 61/250\n",
      "11/11 [==============================] - 0s 19ms/step - loss: 0.1714 - accuracy: 0.9153 - val_loss: 0.2162 - val_accuracy: 0.9130\n",
      "Epoch 62/250\n",
      "11/11 [==============================] - 0s 18ms/step - loss: 0.1724 - accuracy: 0.9153 - val_loss: 0.2188 - val_accuracy: 0.9130\n",
      "Epoch 63/250\n",
      "11/11 [==============================] - 0s 19ms/step - loss: 0.1726 - accuracy: 0.9144 - val_loss: 0.2222 - val_accuracy: 0.9114\n",
      "Epoch 64/250\n",
      "11/11 [==============================] - 0s 19ms/step - loss: 0.1752 - accuracy: 0.9142 - val_loss: 0.2229 - val_accuracy: 0.9125\n",
      "Epoch 65/250\n",
      "11/11 [==============================] - 0s 19ms/step - loss: 0.1719 - accuracy: 0.9148 - val_loss: 0.2210 - val_accuracy: 0.9132\n",
      "Epoch 66/250\n",
      "11/11 [==============================] - 0s 18ms/step - loss: 0.1729 - accuracy: 0.9155 - val_loss: 0.2172 - val_accuracy: 0.9121\n",
      "Epoch 67/250\n",
      "11/11 [==============================] - 0s 18ms/step - loss: 0.1834 - accuracy: 0.9146 - val_loss: 0.2233 - val_accuracy: 0.9123\n",
      "Epoch 68/250\n",
      "11/11 [==============================] - 0s 19ms/step - loss: 0.1754 - accuracy: 0.9140 - val_loss: 0.2273 - val_accuracy: 0.9120\n",
      "Epoch 69/250\n",
      "11/11 [==============================] - 0s 20ms/step - loss: 0.1707 - accuracy: 0.9147 - val_loss: 0.2177 - val_accuracy: 0.9125\n",
      "Epoch 70/250\n",
      "11/11 [==============================] - 0s 20ms/step - loss: 0.1700 - accuracy: 0.9149 - val_loss: 0.2134 - val_accuracy: 0.9128\n",
      "Epoch 71/250\n",
      "11/11 [==============================] - 0s 20ms/step - loss: 0.1720 - accuracy: 0.9148 - val_loss: 0.2125 - val_accuracy: 0.9128\n",
      "Epoch 72/250\n",
      "11/11 [==============================] - 0s 20ms/step - loss: 0.1704 - accuracy: 0.9152 - val_loss: 0.2081 - val_accuracy: 0.9130\n",
      "Epoch 73/250\n",
      "11/11 [==============================] - 0s 20ms/step - loss: 0.1693 - accuracy: 0.9157 - val_loss: 0.2083 - val_accuracy: 0.9130\n",
      "Epoch 74/250\n",
      "11/11 [==============================] - 0s 20ms/step - loss: 0.1701 - accuracy: 0.9158 - val_loss: 0.2103 - val_accuracy: 0.9130\n",
      "Epoch 75/250\n",
      "11/11 [==============================] - 0s 18ms/step - loss: 0.1686 - accuracy: 0.9159 - val_loss: 0.2129 - val_accuracy: 0.9135\n",
      "Epoch 76/250\n",
      "11/11 [==============================] - 0s 20ms/step - loss: 0.1697 - accuracy: 0.9159 - val_loss: 0.2237 - val_accuracy: 0.9129\n",
      "Epoch 77/250\n",
      "11/11 [==============================] - 0s 20ms/step - loss: 0.1712 - accuracy: 0.9152 - val_loss: 0.2123 - val_accuracy: 0.9128\n",
      "Epoch 78/250\n",
      "11/11 [==============================] - 0s 22ms/step - loss: 0.1679 - accuracy: 0.9169 - val_loss: 0.2211 - val_accuracy: 0.9112\n",
      "Epoch 79/250\n",
      "11/11 [==============================] - 0s 20ms/step - loss: 0.1712 - accuracy: 0.9137 - val_loss: 0.2176 - val_accuracy: 0.9124\n",
      "Epoch 80/250\n",
      "11/11 [==============================] - 0s 19ms/step - loss: 0.1693 - accuracy: 0.9148 - val_loss: 0.2189 - val_accuracy: 0.9131\n",
      "Epoch 81/250\n",
      "11/11 [==============================] - 0s 18ms/step - loss: 0.1694 - accuracy: 0.9148 - val_loss: 0.2170 - val_accuracy: 0.9122\n",
      "Epoch 82/250\n",
      "11/11 [==============================] - 0s 19ms/step - loss: 0.1700 - accuracy: 0.9136 - val_loss: 0.2211 - val_accuracy: 0.9126\n",
      "Epoch 83/250\n",
      "11/11 [==============================] - 0s 19ms/step - loss: 0.1674 - accuracy: 0.9149 - val_loss: 0.2174 - val_accuracy: 0.9126\n",
      "Epoch 84/250\n",
      "11/11 [==============================] - 0s 19ms/step - loss: 0.1678 - accuracy: 0.9156 - val_loss: 0.2147 - val_accuracy: 0.9125\n",
      "Epoch 85/250\n",
      "11/11 [==============================] - 0s 18ms/step - loss: 0.1698 - accuracy: 0.9152 - val_loss: 0.2171 - val_accuracy: 0.9123\n",
      "Epoch 86/250\n",
      "11/11 [==============================] - 0s 21ms/step - loss: 0.1685 - accuracy: 0.9152 - val_loss: 0.2139 - val_accuracy: 0.9123\n",
      "Epoch 87/250\n",
      "11/11 [==============================] - 0s 19ms/step - loss: 0.1679 - accuracy: 0.9147 - val_loss: 0.2161 - val_accuracy: 0.9132\n",
      "Epoch 88/250\n",
      "11/11 [==============================] - 0s 19ms/step - loss: 0.1675 - accuracy: 0.9149 - val_loss: 0.2147 - val_accuracy: 0.9132\n",
      "Epoch 89/250\n",
      "11/11 [==============================] - 0s 18ms/step - loss: 0.1668 - accuracy: 0.9163 - val_loss: 0.2131 - val_accuracy: 0.9128\n",
      "Epoch 90/250\n",
      "11/11 [==============================] - 0s 19ms/step - loss: 0.1683 - accuracy: 0.9163 - val_loss: 0.2179 - val_accuracy: 0.9129\n",
      "Epoch 91/250\n",
      "11/11 [==============================] - 0s 18ms/step - loss: 0.1675 - accuracy: 0.9151 - val_loss: 0.2104 - val_accuracy: 0.9128\n",
      "Epoch 92/250\n",
      "11/11 [==============================] - 0s 19ms/step - loss: 0.1678 - accuracy: 0.9157 - val_loss: 0.2195 - val_accuracy: 0.9131\n",
      "Epoch 93/250\n",
      "11/11 [==============================] - 0s 18ms/step - loss: 0.1678 - accuracy: 0.9156 - val_loss: 0.2123 - val_accuracy: 0.9130\n",
      "Epoch 94/250\n",
      "11/11 [==============================] - 0s 19ms/step - loss: 0.1693 - accuracy: 0.9153 - val_loss: 0.2238 - val_accuracy: 0.9131\n",
      "Epoch 95/250\n",
      "11/11 [==============================] - 0s 18ms/step - loss: 0.1700 - accuracy: 0.9154 - val_loss: 0.2245 - val_accuracy: 0.9129\n",
      "Epoch 96/250\n",
      "11/11 [==============================] - 0s 18ms/step - loss: 0.1706 - accuracy: 0.9148 - val_loss: 0.2168 - val_accuracy: 0.9129\n",
      "Epoch 97/250\n",
      "11/11 [==============================] - 0s 19ms/step - loss: 0.1671 - accuracy: 0.9154 - val_loss: 0.2081 - val_accuracy: 0.9131\n",
      "Epoch 98/250\n",
      "11/11 [==============================] - 0s 19ms/step - loss: 0.1680 - accuracy: 0.9158 - val_loss: 0.2193 - val_accuracy: 0.9135\n",
      "Epoch 99/250\n",
      "11/11 [==============================] - 0s 19ms/step - loss: 0.1679 - accuracy: 0.9154 - val_loss: 0.2164 - val_accuracy: 0.9131\n",
      "Epoch 100/250\n",
      "11/11 [==============================] - 0s 18ms/step - loss: 0.1695 - accuracy: 0.9155 - val_loss: 0.2151 - val_accuracy: 0.9131\n",
      "Epoch 101/250\n",
      "11/11 [==============================] - 0s 18ms/step - loss: 0.1707 - accuracy: 0.9154 - val_loss: 0.2176 - val_accuracy: 0.9131\n",
      "Epoch 102/250\n",
      "11/11 [==============================] - 0s 18ms/step - loss: 0.1704 - accuracy: 0.9150 - val_loss: 0.2137 - val_accuracy: 0.9135\n",
      "Epoch 103/250\n",
      "11/11 [==============================] - 0s 18ms/step - loss: 0.1688 - accuracy: 0.9159 - val_loss: 0.2105 - val_accuracy: 0.9134\n",
      "Epoch 104/250\n",
      "11/11 [==============================] - 0s 18ms/step - loss: 0.1696 - accuracy: 0.9158 - val_loss: 0.2167 - val_accuracy: 0.9129\n",
      "Epoch 105/250\n",
      "11/11 [==============================] - 0s 19ms/step - loss: 0.1727 - accuracy: 0.9152 - val_loss: 0.2178 - val_accuracy: 0.9130\n",
      "Epoch 106/250\n",
      "11/11 [==============================] - 0s 18ms/step - loss: 0.1691 - accuracy: 0.9152 - val_loss: 0.2159 - val_accuracy: 0.9132\n",
      "Epoch 107/250\n",
      "11/11 [==============================] - 0s 19ms/step - loss: 0.1695 - accuracy: 0.9163 - val_loss: 0.2165 - val_accuracy: 0.9130\n",
      "Epoch 108/250\n",
      "11/11 [==============================] - 0s 18ms/step - loss: 0.1685 - accuracy: 0.9158 - val_loss: 0.2115 - val_accuracy: 0.9129\n",
      "Epoch 109/250\n",
      "11/11 [==============================] - 0s 18ms/step - loss: 0.1705 - accuracy: 0.9146 - val_loss: 0.2167 - val_accuracy: 0.9127\n",
      "Epoch 110/250\n",
      "11/11 [==============================] - 0s 19ms/step - loss: 0.1692 - accuracy: 0.9147 - val_loss: 0.2195 - val_accuracy: 0.9128\n",
      "Epoch 111/250\n",
      "11/11 [==============================] - 0s 19ms/step - loss: 0.1667 - accuracy: 0.9155 - val_loss: 0.2223 - val_accuracy: 0.9132\n",
      "Epoch 112/250\n",
      "11/11 [==============================] - 0s 19ms/step - loss: 0.1666 - accuracy: 0.9162 - val_loss: 0.2132 - val_accuracy: 0.9125\n",
      "Epoch 113/250\n",
      "11/11 [==============================] - 0s 18ms/step - loss: 0.1683 - accuracy: 0.9156 - val_loss: 0.2170 - val_accuracy: 0.9135\n",
      "Epoch 114/250\n",
      "11/11 [==============================] - 0s 19ms/step - loss: 0.1677 - accuracy: 0.9163 - val_loss: 0.2152 - val_accuracy: 0.9135\n",
      "Epoch 115/250\n"
     ]
    },
    {
     "name": "stdout",
     "output_type": "stream",
     "text": [
      "11/11 [==============================] - 0s 19ms/step - loss: 0.1671 - accuracy: 0.9157 - val_loss: 0.2134 - val_accuracy: 0.9130\n",
      "Epoch 116/250\n",
      "11/11 [==============================] - 0s 19ms/step - loss: 0.1645 - accuracy: 0.9163 - val_loss: 0.2187 - val_accuracy: 0.9132\n",
      "Epoch 117/250\n",
      "11/11 [==============================] - 0s 19ms/step - loss: 0.1705 - accuracy: 0.9158 - val_loss: 0.2104 - val_accuracy: 0.9133\n",
      "Epoch 118/250\n",
      "11/11 [==============================] - 0s 19ms/step - loss: 0.1671 - accuracy: 0.9167 - val_loss: 0.2175 - val_accuracy: 0.9131\n",
      "Epoch 119/250\n",
      "11/11 [==============================] - 0s 19ms/step - loss: 0.1657 - accuracy: 0.9159 - val_loss: 0.2141 - val_accuracy: 0.9132\n",
      "Epoch 120/250\n",
      "11/11 [==============================] - 0s 18ms/step - loss: 0.1697 - accuracy: 0.9148 - val_loss: 0.2162 - val_accuracy: 0.9134\n",
      "Epoch 121/250\n",
      "11/11 [==============================] - 0s 18ms/step - loss: 0.1709 - accuracy: 0.9154 - val_loss: 0.2141 - val_accuracy: 0.9135\n",
      "Epoch 122/250\n",
      "11/11 [==============================] - 0s 20ms/step - loss: 0.1700 - accuracy: 0.9159 - val_loss: 0.2200 - val_accuracy: 0.9129\n",
      "Epoch 123/250\n",
      "11/11 [==============================] - 0s 19ms/step - loss: 0.1680 - accuracy: 0.9155 - val_loss: 0.2203 - val_accuracy: 0.9127\n",
      "Epoch 124/250\n",
      "11/11 [==============================] - 0s 18ms/step - loss: 0.1733 - accuracy: 0.9163 - val_loss: 0.2112 - val_accuracy: 0.9133\n",
      "Epoch 125/250\n",
      "11/11 [==============================] - 0s 18ms/step - loss: 0.1698 - accuracy: 0.9161 - val_loss: 0.2113 - val_accuracy: 0.9131\n",
      "Epoch 126/250\n",
      "11/11 [==============================] - 0s 19ms/step - loss: 0.1686 - accuracy: 0.9164 - val_loss: 0.2197 - val_accuracy: 0.9134\n",
      "Epoch 127/250\n",
      "11/11 [==============================] - 0s 19ms/step - loss: 0.1694 - accuracy: 0.9156 - val_loss: 0.2113 - val_accuracy: 0.9135\n",
      "Epoch 128/250\n",
      "11/11 [==============================] - 0s 19ms/step - loss: 0.1688 - accuracy: 0.9165 - val_loss: 0.2079 - val_accuracy: 0.9140\n",
      "Epoch 129/250\n",
      "11/11 [==============================] - 0s 18ms/step - loss: 0.1746 - accuracy: 0.9155 - val_loss: 0.2159 - val_accuracy: 0.9133\n",
      "Epoch 130/250\n",
      "11/11 [==============================] - 0s 19ms/step - loss: 0.1686 - accuracy: 0.9160 - val_loss: 0.2119 - val_accuracy: 0.9130\n",
      "Epoch 131/250\n",
      "11/11 [==============================] - 0s 18ms/step - loss: 0.1675 - accuracy: 0.9155 - val_loss: 0.2245 - val_accuracy: 0.9134\n",
      "Epoch 132/250\n",
      "11/11 [==============================] - 0s 18ms/step - loss: 0.1711 - accuracy: 0.9161 - val_loss: 0.2179 - val_accuracy: 0.9131\n",
      "Epoch 133/250\n",
      "11/11 [==============================] - 0s 18ms/step - loss: 0.1694 - accuracy: 0.9161 - val_loss: 0.2166 - val_accuracy: 0.9137\n",
      "Epoch 134/250\n",
      "11/11 [==============================] - 0s 18ms/step - loss: 0.1685 - accuracy: 0.9160 - val_loss: 0.2184 - val_accuracy: 0.9131\n",
      "Epoch 135/250\n",
      "11/11 [==============================] - 0s 18ms/step - loss: 0.1669 - accuracy: 0.9157 - val_loss: 0.2112 - val_accuracy: 0.9140\n",
      "Epoch 136/250\n",
      "11/11 [==============================] - 0s 18ms/step - loss: 0.1710 - accuracy: 0.9161 - val_loss: 0.2069 - val_accuracy: 0.9144\n",
      "Epoch 137/250\n",
      "11/11 [==============================] - 0s 18ms/step - loss: 0.1723 - accuracy: 0.9152 - val_loss: 0.2130 - val_accuracy: 0.9131\n",
      "Epoch 138/250\n",
      "11/11 [==============================] - 0s 18ms/step - loss: 0.1687 - accuracy: 0.9160 - val_loss: 0.2279 - val_accuracy: 0.9131\n",
      "Epoch 139/250\n",
      "11/11 [==============================] - 0s 19ms/step - loss: 0.1677 - accuracy: 0.9164 - val_loss: 0.2183 - val_accuracy: 0.9139\n",
      "Epoch 140/250\n",
      "11/11 [==============================] - 0s 18ms/step - loss: 0.1696 - accuracy: 0.9165 - val_loss: 0.2113 - val_accuracy: 0.9132\n",
      "Epoch 141/250\n",
      "11/11 [==============================] - 0s 20ms/step - loss: 0.1669 - accuracy: 0.9159 - val_loss: 0.2116 - val_accuracy: 0.9136\n",
      "Epoch 142/250\n",
      "11/11 [==============================] - 0s 19ms/step - loss: 0.1672 - accuracy: 0.9170 - val_loss: 0.2103 - val_accuracy: 0.9132\n",
      "Epoch 143/250\n",
      "11/11 [==============================] - 0s 19ms/step - loss: 0.1669 - accuracy: 0.9151 - val_loss: 0.2155 - val_accuracy: 0.9136\n",
      "Epoch 144/250\n",
      "11/11 [==============================] - 0s 20ms/step - loss: 0.1661 - accuracy: 0.9172 - val_loss: 0.2142 - val_accuracy: 0.9139\n",
      "Epoch 145/250\n",
      "11/11 [==============================] - 0s 19ms/step - loss: 0.1687 - accuracy: 0.9155 - val_loss: 0.2189 - val_accuracy: 0.9134\n",
      "Epoch 146/250\n",
      "11/11 [==============================] - 0s 19ms/step - loss: 0.1685 - accuracy: 0.9155 - val_loss: 0.2103 - val_accuracy: 0.9139\n",
      "Epoch 147/250\n",
      "11/11 [==============================] - 0s 19ms/step - loss: 0.1656 - accuracy: 0.9166 - val_loss: 0.2131 - val_accuracy: 0.9133\n",
      "Epoch 148/250\n",
      "11/11 [==============================] - 0s 19ms/step - loss: 0.1673 - accuracy: 0.9157 - val_loss: 0.2091 - val_accuracy: 0.9135\n",
      "Epoch 149/250\n",
      "11/11 [==============================] - 0s 20ms/step - loss: 0.1690 - accuracy: 0.9152 - val_loss: 0.2146 - val_accuracy: 0.9137\n",
      "Epoch 150/250\n",
      "11/11 [==============================] - 0s 21ms/step - loss: 0.1695 - accuracy: 0.9151 - val_loss: 0.2116 - val_accuracy: 0.9126\n",
      "Epoch 151/250\n",
      "11/11 [==============================] - 0s 20ms/step - loss: 0.1681 - accuracy: 0.9148 - val_loss: 0.2102 - val_accuracy: 0.9135\n",
      "Epoch 152/250\n",
      "11/11 [==============================] - 0s 20ms/step - loss: 0.1657 - accuracy: 0.9160 - val_loss: 0.2117 - val_accuracy: 0.9143\n",
      "Epoch 153/250\n",
      "11/11 [==============================] - 0s 19ms/step - loss: 0.1655 - accuracy: 0.9160 - val_loss: 0.2153 - val_accuracy: 0.9143\n",
      "Epoch 154/250\n",
      "11/11 [==============================] - 0s 19ms/step - loss: 0.1695 - accuracy: 0.9161 - val_loss: 0.2137 - val_accuracy: 0.9135\n",
      "Epoch 155/250\n",
      "11/11 [==============================] - 0s 19ms/step - loss: 0.1651 - accuracy: 0.9166 - val_loss: 0.2159 - val_accuracy: 0.9133\n",
      "Epoch 156/250\n",
      "11/11 [==============================] - 0s 19ms/step - loss: 0.1667 - accuracy: 0.9163 - val_loss: 0.2148 - val_accuracy: 0.9131\n",
      "Epoch 157/250\n",
      "11/11 [==============================] - 0s 18ms/step - loss: 0.1649 - accuracy: 0.9155 - val_loss: 0.2093 - val_accuracy: 0.9142\n",
      "Epoch 158/250\n",
      "11/11 [==============================] - 0s 18ms/step - loss: 0.1674 - accuracy: 0.9165 - val_loss: 0.2162 - val_accuracy: 0.9129\n",
      "Epoch 159/250\n",
      "11/11 [==============================] - 0s 19ms/step - loss: 0.1683 - accuracy: 0.9155 - val_loss: 0.2061 - val_accuracy: 0.9138\n",
      "Epoch 160/250\n",
      "11/11 [==============================] - 0s 19ms/step - loss: 0.1658 - accuracy: 0.9171 - val_loss: 0.2212 - val_accuracy: 0.9129\n",
      "Epoch 161/250\n",
      "11/11 [==============================] - 0s 21ms/step - loss: 0.1685 - accuracy: 0.9157 - val_loss: 0.2118 - val_accuracy: 0.9136\n",
      "Epoch 162/250\n",
      "11/11 [==============================] - 0s 19ms/step - loss: 0.1651 - accuracy: 0.9155 - val_loss: 0.2117 - val_accuracy: 0.9130\n",
      "Epoch 163/250\n",
      "11/11 [==============================] - 0s 21ms/step - loss: 0.1673 - accuracy: 0.9146 - val_loss: 0.2099 - val_accuracy: 0.9133\n",
      "Epoch 164/250\n",
      "11/11 [==============================] - 0s 21ms/step - loss: 0.1722 - accuracy: 0.9153 - val_loss: 0.2086 - val_accuracy: 0.9144\n",
      "Epoch 165/250\n",
      "11/11 [==============================] - 0s 21ms/step - loss: 0.1678 - accuracy: 0.9155 - val_loss: 0.2167 - val_accuracy: 0.9132\n",
      "Epoch 166/250\n",
      "11/11 [==============================] - 0s 20ms/step - loss: 0.1659 - accuracy: 0.9156 - val_loss: 0.2163 - val_accuracy: 0.9118\n",
      "Epoch 167/250\n",
      "11/11 [==============================] - 0s 20ms/step - loss: 0.1717 - accuracy: 0.9144 - val_loss: 0.2188 - val_accuracy: 0.9126\n",
      "Epoch 168/250\n",
      "11/11 [==============================] - 0s 22ms/step - loss: 0.1651 - accuracy: 0.9155 - val_loss: 0.2187 - val_accuracy: 0.9117\n",
      "Epoch 169/250\n",
      "11/11 [==============================] - 0s 19ms/step - loss: 0.1652 - accuracy: 0.9151 - val_loss: 0.2097 - val_accuracy: 0.9129\n",
      "Epoch 170/250\n",
      "11/11 [==============================] - 0s 20ms/step - loss: 0.1682 - accuracy: 0.9152 - val_loss: 0.2175 - val_accuracy: 0.9121\n",
      "Epoch 171/250\n",
      "11/11 [==============================] - 0s 20ms/step - loss: 0.1688 - accuracy: 0.9148 - val_loss: 0.2153 - val_accuracy: 0.9125\n"
     ]
    },
    {
     "name": "stdout",
     "output_type": "stream",
     "text": [
      "Epoch 172/250\n",
      "11/11 [==============================] - 0s 20ms/step - loss: 0.1642 - accuracy: 0.9157 - val_loss: 0.2154 - val_accuracy: 0.9125\n",
      "Epoch 173/250\n",
      "11/11 [==============================] - 0s 19ms/step - loss: 0.1665 - accuracy: 0.9145 - val_loss: 0.2095 - val_accuracy: 0.9123\n",
      "Epoch 174/250\n",
      "11/11 [==============================] - 0s 21ms/step - loss: 0.1671 - accuracy: 0.9147 - val_loss: 0.2187 - val_accuracy: 0.9126\n",
      "Epoch 175/250\n",
      "11/11 [==============================] - 0s 25ms/step - loss: 0.1645 - accuracy: 0.9154 - val_loss: 0.2164 - val_accuracy: 0.9131\n",
      "Epoch 176/250\n",
      "11/11 [==============================] - 0s 34ms/step - loss: 0.1646 - accuracy: 0.9158 - val_loss: 0.2159 - val_accuracy: 0.9132\n",
      "Epoch 177/250\n",
      "11/11 [==============================] - 0s 26ms/step - loss: 0.1656 - accuracy: 0.9151 - val_loss: 0.2085 - val_accuracy: 0.9139\n",
      "Epoch 178/250\n",
      "11/11 [==============================] - 0s 20ms/step - loss: 0.1658 - accuracy: 0.9168 - val_loss: 0.2116 - val_accuracy: 0.9136\n",
      "Epoch 179/250\n",
      "11/11 [==============================] - 0s 23ms/step - loss: 0.1686 - accuracy: 0.9156 - val_loss: 0.2133 - val_accuracy: 0.9137\n",
      "Epoch 180/250\n",
      "11/11 [==============================] - 0s 24ms/step - loss: 0.1678 - accuracy: 0.9158 - val_loss: 0.2108 - val_accuracy: 0.9133\n",
      "Epoch 181/250\n",
      "11/11 [==============================] - 0s 25ms/step - loss: 0.1695 - accuracy: 0.9155 - val_loss: 0.2070 - val_accuracy: 0.9125\n",
      "Epoch 182/250\n",
      "11/11 [==============================] - 0s 27ms/step - loss: 0.1648 - accuracy: 0.9160 - val_loss: 0.2119 - val_accuracy: 0.9129\n",
      "Epoch 183/250\n",
      "11/11 [==============================] - 0s 24ms/step - loss: 0.1679 - accuracy: 0.9152 - val_loss: 0.2116 - val_accuracy: 0.9143\n",
      "Epoch 184/250\n",
      "11/11 [==============================] - 0s 18ms/step - loss: 0.1654 - accuracy: 0.9162 - val_loss: 0.2059 - val_accuracy: 0.9139\n",
      "Epoch 185/250\n",
      "11/11 [==============================] - 0s 22ms/step - loss: 0.1707 - accuracy: 0.9158 - val_loss: 0.2135 - val_accuracy: 0.9135\n",
      "Epoch 186/250\n",
      "11/11 [==============================] - 0s 21ms/step - loss: 0.1709 - accuracy: 0.9157 - val_loss: 0.2071 - val_accuracy: 0.9141\n",
      "Epoch 187/250\n",
      "11/11 [==============================] - 0s 19ms/step - loss: 0.1683 - accuracy: 0.9163 - val_loss: 0.2080 - val_accuracy: 0.9147\n",
      "Epoch 188/250\n",
      "11/11 [==============================] - 0s 20ms/step - loss: 0.1672 - accuracy: 0.9164 - val_loss: 0.2262 - val_accuracy: 0.9133\n",
      "Epoch 189/250\n",
      "11/11 [==============================] - 0s 20ms/step - loss: 0.1687 - accuracy: 0.9164 - val_loss: 0.2092 - val_accuracy: 0.9146\n",
      "Epoch 190/250\n",
      "11/11 [==============================] - 0s 20ms/step - loss: 0.1695 - accuracy: 0.9169 - val_loss: 0.2149 - val_accuracy: 0.9118\n",
      "Epoch 191/250\n",
      "11/11 [==============================] - 0s 19ms/step - loss: 0.1662 - accuracy: 0.9155 - val_loss: 0.2209 - val_accuracy: 0.9114\n",
      "Epoch 192/250\n",
      "11/11 [==============================] - 0s 20ms/step - loss: 0.1674 - accuracy: 0.9147 - val_loss: 0.2127 - val_accuracy: 0.9142\n",
      "Epoch 193/250\n",
      "11/11 [==============================] - 0s 21ms/step - loss: 0.1656 - accuracy: 0.9170 - val_loss: 0.2169 - val_accuracy: 0.9147\n",
      "Epoch 194/250\n",
      "11/11 [==============================] - 0s 22ms/step - loss: 0.1656 - accuracy: 0.9163 - val_loss: 0.2123 - val_accuracy: 0.9140\n",
      "Epoch 195/250\n",
      "11/11 [==============================] - 0s 21ms/step - loss: 0.1655 - accuracy: 0.9161 - val_loss: 0.2122 - val_accuracy: 0.9137\n",
      "Epoch 196/250\n",
      "11/11 [==============================] - 0s 21ms/step - loss: 0.1643 - accuracy: 0.9169 - val_loss: 0.2141 - val_accuracy: 0.9135\n",
      "Epoch 197/250\n",
      "11/11 [==============================] - 0s 21ms/step - loss: 0.1648 - accuracy: 0.9166 - val_loss: 0.2073 - val_accuracy: 0.9141\n",
      "Epoch 198/250\n",
      "11/11 [==============================] - 0s 21ms/step - loss: 0.1661 - accuracy: 0.9174 - val_loss: 0.2089 - val_accuracy: 0.9147\n",
      "Epoch 199/250\n",
      "11/11 [==============================] - 0s 20ms/step - loss: 0.1674 - accuracy: 0.9174 - val_loss: 0.2080 - val_accuracy: 0.9142\n",
      "Epoch 200/250\n",
      "11/11 [==============================] - 0s 22ms/step - loss: 0.1672 - accuracy: 0.9167 - val_loss: 0.2107 - val_accuracy: 0.9135\n",
      "Epoch 201/250\n",
      "11/11 [==============================] - 0s 19ms/step - loss: 0.1660 - accuracy: 0.9171 - val_loss: 0.2138 - val_accuracy: 0.9135\n",
      "Epoch 202/250\n",
      "11/11 [==============================] - 0s 20ms/step - loss: 0.1649 - accuracy: 0.9170 - val_loss: 0.2066 - val_accuracy: 0.9147\n",
      "Epoch 203/250\n",
      "11/11 [==============================] - 0s 20ms/step - loss: 0.1706 - accuracy: 0.9165 - val_loss: 0.2161 - val_accuracy: 0.9135\n",
      "Epoch 204/250\n",
      "11/11 [==============================] - 0s 21ms/step - loss: 0.1659 - accuracy: 0.9155 - val_loss: 0.2126 - val_accuracy: 0.9136\n",
      "Epoch 205/250\n",
      "11/11 [==============================] - 0s 19ms/step - loss: 0.1667 - accuracy: 0.9158 - val_loss: 0.2077 - val_accuracy: 0.9145\n",
      "Epoch 206/250\n",
      "11/11 [==============================] - 0s 19ms/step - loss: 0.1655 - accuracy: 0.9160 - val_loss: 0.2104 - val_accuracy: 0.9140\n",
      "Epoch 207/250\n",
      "11/11 [==============================] - 0s 20ms/step - loss: 0.1649 - accuracy: 0.9168 - val_loss: 0.2097 - val_accuracy: 0.9142\n",
      "Epoch 208/250\n",
      "11/11 [==============================] - 0s 22ms/step - loss: 0.1651 - accuracy: 0.9166 - val_loss: 0.2098 - val_accuracy: 0.9151\n",
      "Epoch 209/250\n",
      "11/11 [==============================] - 0s 23ms/step - loss: 0.1642 - accuracy: 0.9167 - val_loss: 0.2184 - val_accuracy: 0.9143\n",
      "Epoch 210/250\n",
      "11/11 [==============================] - 0s 23ms/step - loss: 0.1681 - accuracy: 0.9163 - val_loss: 0.2177 - val_accuracy: 0.9129\n",
      "Epoch 211/250\n",
      "11/11 [==============================] - 0s 19ms/step - loss: 0.1673 - accuracy: 0.9147 - val_loss: 0.2084 - val_accuracy: 0.9131\n",
      "Epoch 212/250\n",
      "11/11 [==============================] - 0s 21ms/step - loss: 0.1651 - accuracy: 0.9160 - val_loss: 0.2190 - val_accuracy: 0.9130\n",
      "Epoch 213/250\n",
      "11/11 [==============================] - 0s 20ms/step - loss: 0.1630 - accuracy: 0.9157 - val_loss: 0.2097 - val_accuracy: 0.9138\n",
      "Epoch 214/250\n",
      "11/11 [==============================] - 0s 20ms/step - loss: 0.1644 - accuracy: 0.9167 - val_loss: 0.2115 - val_accuracy: 0.9135\n",
      "Epoch 215/250\n",
      "11/11 [==============================] - 0s 19ms/step - loss: 0.1648 - accuracy: 0.9161 - val_loss: 0.2073 - val_accuracy: 0.9141\n",
      "Epoch 216/250\n",
      "11/11 [==============================] - 0s 20ms/step - loss: 0.1639 - accuracy: 0.9163 - val_loss: 0.2178 - val_accuracy: 0.9139\n",
      "Epoch 217/250\n",
      "11/11 [==============================] - 0s 22ms/step - loss: 0.1691 - accuracy: 0.9161 - val_loss: 0.2235 - val_accuracy: 0.9133\n",
      "Epoch 218/250\n",
      "11/11 [==============================] - 0s 21ms/step - loss: 0.1662 - accuracy: 0.9161 - val_loss: 0.2064 - val_accuracy: 0.9145\n",
      "Epoch 219/250\n",
      "11/11 [==============================] - 0s 19ms/step - loss: 0.1688 - accuracy: 0.9161 - val_loss: 0.2080 - val_accuracy: 0.9141\n",
      "Epoch 220/250\n",
      "11/11 [==============================] - 0s 19ms/step - loss: 0.1655 - accuracy: 0.9164 - val_loss: 0.2070 - val_accuracy: 0.9152\n",
      "Epoch 221/250\n",
      "11/11 [==============================] - 0s 20ms/step - loss: 0.1692 - accuracy: 0.9164 - val_loss: 0.2160 - val_accuracy: 0.9155\n",
      "Epoch 222/250\n",
      "11/11 [==============================] - 0s 20ms/step - loss: 0.1702 - accuracy: 0.9168 - val_loss: 0.2098 - val_accuracy: 0.9134\n",
      "Epoch 223/250\n",
      "11/11 [==============================] - 0s 20ms/step - loss: 0.1689 - accuracy: 0.9147 - val_loss: 0.2110 - val_accuracy: 0.9136\n",
      "Epoch 224/250\n",
      "11/11 [==============================] - 0s 21ms/step - loss: 0.1661 - accuracy: 0.9163 - val_loss: 0.2158 - val_accuracy: 0.9140\n",
      "Epoch 225/250\n",
      "11/11 [==============================] - 0s 21ms/step - loss: 0.1651 - accuracy: 0.9170 - val_loss: 0.2082 - val_accuracy: 0.9142\n",
      "Epoch 226/250\n",
      "11/11 [==============================] - 0s 19ms/step - loss: 0.1657 - accuracy: 0.9172 - val_loss: 0.2144 - val_accuracy: 0.9145\n",
      "Epoch 227/250\n",
      "11/11 [==============================] - 0s 20ms/step - loss: 0.1683 - accuracy: 0.9165 - val_loss: 0.2206 - val_accuracy: 0.9137\n",
      "Epoch 228/250\n",
      "11/11 [==============================] - 0s 20ms/step - loss: 0.1651 - accuracy: 0.9164 - val_loss: 0.2144 - val_accuracy: 0.9134\n"
     ]
    },
    {
     "name": "stdout",
     "output_type": "stream",
     "text": [
      "Epoch 229/250\n",
      "11/11 [==============================] - 0s 21ms/step - loss: 0.1661 - accuracy: 0.9159 - val_loss: 0.2181 - val_accuracy: 0.9125\n",
      "Epoch 230/250\n",
      "11/11 [==============================] - 0s 20ms/step - loss: 0.1663 - accuracy: 0.9151 - val_loss: 0.2110 - val_accuracy: 0.9138\n",
      "Epoch 231/250\n",
      "11/11 [==============================] - 0s 21ms/step - loss: 0.1638 - accuracy: 0.9169 - val_loss: 0.2111 - val_accuracy: 0.9147\n",
      "Epoch 232/250\n",
      "11/11 [==============================] - 0s 20ms/step - loss: 0.1647 - accuracy: 0.9169 - val_loss: 0.2098 - val_accuracy: 0.9144\n",
      "Epoch 233/250\n",
      "11/11 [==============================] - 0s 20ms/step - loss: 0.1658 - accuracy: 0.9170 - val_loss: 0.2080 - val_accuracy: 0.9139\n",
      "Epoch 234/250\n",
      "11/11 [==============================] - 0s 21ms/step - loss: 0.1665 - accuracy: 0.9160 - val_loss: 0.2080 - val_accuracy: 0.9147\n",
      "Epoch 235/250\n",
      "11/11 [==============================] - 0s 19ms/step - loss: 0.1681 - accuracy: 0.9174 - val_loss: 0.2124 - val_accuracy: 0.9150\n",
      "Epoch 236/250\n",
      "11/11 [==============================] - 0s 21ms/step - loss: 0.1675 - accuracy: 0.9165 - val_loss: 0.2071 - val_accuracy: 0.9146\n",
      "Epoch 237/250\n",
      "11/11 [==============================] - 0s 20ms/step - loss: 0.1648 - accuracy: 0.9173 - val_loss: 0.2220 - val_accuracy: 0.9133\n",
      "Epoch 238/250\n",
      "11/11 [==============================] - 0s 23ms/step - loss: 0.1636 - accuracy: 0.9172 - val_loss: 0.2050 - val_accuracy: 0.9150\n",
      "Epoch 239/250\n",
      "11/11 [==============================] - 0s 20ms/step - loss: 0.1729 - accuracy: 0.9152 - val_loss: 0.2090 - val_accuracy: 0.9135\n",
      "Epoch 240/250\n",
      "11/11 [==============================] - 0s 24ms/step - loss: 0.1632 - accuracy: 0.9161 - val_loss: 0.2189 - val_accuracy: 0.9150\n",
      "Epoch 241/250\n",
      "11/11 [==============================] - 0s 22ms/step - loss: 0.1677 - accuracy: 0.9169 - val_loss: 0.2236 - val_accuracy: 0.9141\n",
      "Epoch 242/250\n",
      "11/11 [==============================] - 0s 22ms/step - loss: 0.1642 - accuracy: 0.9167 - val_loss: 0.2127 - val_accuracy: 0.9151\n",
      "Epoch 243/250\n",
      "11/11 [==============================] - 0s 19ms/step - loss: 0.1645 - accuracy: 0.9175 - val_loss: 0.2156 - val_accuracy: 0.9133\n",
      "Epoch 244/250\n",
      "11/11 [==============================] - 0s 20ms/step - loss: 0.1650 - accuracy: 0.9167 - val_loss: 0.2226 - val_accuracy: 0.9130\n",
      "Epoch 245/250\n",
      "11/11 [==============================] - 0s 21ms/step - loss: 0.1645 - accuracy: 0.9162 - val_loss: 0.2087 - val_accuracy: 0.9142\n",
      "Epoch 246/250\n",
      "11/11 [==============================] - 0s 19ms/step - loss: 0.1637 - accuracy: 0.9169 - val_loss: 0.2085 - val_accuracy: 0.9151\n",
      "Epoch 247/250\n",
      "11/11 [==============================] - 0s 20ms/step - loss: 0.1668 - accuracy: 0.9163 - val_loss: 0.2072 - val_accuracy: 0.9135\n",
      "Epoch 248/250\n",
      "11/11 [==============================] - 0s 20ms/step - loss: 0.1685 - accuracy: 0.9160 - val_loss: 0.2106 - val_accuracy: 0.9149\n",
      "Epoch 249/250\n",
      "11/11 [==============================] - 0s 20ms/step - loss: 0.1647 - accuracy: 0.9171 - val_loss: 0.2054 - val_accuracy: 0.9152\n",
      "Epoch 250/250\n",
      "11/11 [==============================] - 0s 19ms/step - loss: 0.1638 - accuracy: 0.9174 - val_loss: 0.2155 - val_accuracy: 0.9136\n"
     ]
    }
   ],
   "source": [
    "# Your best training parameters\n",
    "\n",
    "# Build and train model\n",
    "batch_size = 20000\n",
    "epochs = 100\n",
    "input_shape = (Xtrain.shape[1],)\n",
    "\n",
    "# Build and train model\n",
    "model11 = build_DNN(act_fun='softplus',input_shape=input_shape, n_layers=6, n_nodes=30, optimizer='RMSprop', \n",
    "                   learning_rate=0.005, use_custom_dropout=True)\n",
    "\n",
    "history11 = model11.fit(Xtrain, Ytrain, batch_size=batch_size, epochs=epochs,\n",
    "                      class_weight=class_weights, validation_data=(Xval, Yval))"
   ]
  },
  {
   "cell_type": "code",
   "execution_count": 52,
   "metadata": {},
   "outputs": [
    {
     "name": "stdout",
     "output_type": "stream",
     "text": [
      "1791/1791 [==============================] - 7s 4ms/step - loss: 0.2078 - accuracy: 0.9162\n",
      "Test accuracy: 0.9162\n"
     ]
    }
   ],
   "source": [
    "# Run this cell a few times to evalute the model on test data, \n",
    "# if you get slightly different test accuracy every time, Dropout during testing is working\n",
    "\n",
    "# Evaluate model on test data\n",
    "score = model11.evaluate(Xtest,Ytest)\n",
    "                       \n",
    "print('Test accuracy: %.4f' % score[1])"
   ]
  },
  {
   "cell_type": "code",
   "execution_count": 53,
   "metadata": {
    "scrolled": true
   },
   "outputs": [
    {
     "name": "stdout",
     "output_type": "stream",
     "text": [
      "3/3 [==============================] - 0s 7ms/step - loss: 0.2082 - accuracy: 0.9160\n",
      "3/3 [==============================] - 0s 8ms/step - loss: 0.2077 - accuracy: 0.9161\n",
      "3/3 [==============================] - 0s 7ms/step - loss: 0.2083 - accuracy: 0.9161\n",
      "3/3 [==============================] - 0s 6ms/step - loss: 0.2084 - accuracy: 0.9163\n",
      "3/3 [==============================] - 0s 8ms/step - loss: 0.2081 - accuracy: 0.9162\n",
      "3/3 [==============================] - 0s 9ms/step - loss: 0.2087 - accuracy: 0.9160\n",
      "3/3 [==============================] - 0s 9ms/step - loss: 0.2084 - accuracy: 0.9162\n",
      "3/3 [==============================] - 0s 9ms/step - loss: 0.2078 - accuracy: 0.9162\n",
      "3/3 [==============================] - 0s 8ms/step - loss: 0.2081 - accuracy: 0.9162\n",
      "3/3 [==============================] - 0s 8ms/step - loss: 0.2082 - accuracy: 0.9161\n",
      "3/3 [==============================] - 0s 8ms/step - loss: 0.2092 - accuracy: 0.9159\n",
      "3/3 [==============================] - 0s 8ms/step - loss: 0.2080 - accuracy: 0.9162\n",
      "3/3 [==============================] - 0s 8ms/step - loss: 0.2089 - accuracy: 0.9161\n",
      "3/3 [==============================] - 0s 8ms/step - loss: 0.2087 - accuracy: 0.9161\n",
      "3/3 [==============================] - 0s 9ms/step - loss: 0.2080 - accuracy: 0.9161\n",
      "3/3 [==============================] - 0s 8ms/step - loss: 0.2088 - accuracy: 0.9161\n",
      "3/3 [==============================] - 0s 8ms/step - loss: 0.2085 - accuracy: 0.9162\n",
      "3/3 [==============================] - 0s 8ms/step - loss: 0.2082 - accuracy: 0.9162\n",
      "3/3 [==============================] - 0s 7ms/step - loss: 0.2087 - accuracy: 0.9161\n",
      "3/3 [==============================] - 0s 7ms/step - loss: 0.2082 - accuracy: 0.9160\n",
      "3/3 [==============================] - 0s 6ms/step - loss: 0.2084 - accuracy: 0.9160\n",
      "3/3 [==============================] - 0s 6ms/step - loss: 0.2085 - accuracy: 0.9161\n",
      "3/3 [==============================] - 0s 8ms/step - loss: 0.2084 - accuracy: 0.9162\n",
      "3/3 [==============================] - 0s 7ms/step - loss: 0.2079 - accuracy: 0.9159\n",
      "3/3 [==============================] - 0s 8ms/step - loss: 0.2088 - accuracy: 0.9163\n",
      "3/3 [==============================] - 0s 6ms/step - loss: 0.2079 - accuracy: 0.9162\n",
      "3/3 [==============================] - 0s 7ms/step - loss: 0.2084 - accuracy: 0.9161\n",
      "3/3 [==============================] - 0s 7ms/step - loss: 0.2074 - accuracy: 0.9162\n",
      "3/3 [==============================] - 0s 7ms/step - loss: 0.2081 - accuracy: 0.9161\n",
      "3/3 [==============================] - 0s 7ms/step - loss: 0.2083 - accuracy: 0.9162\n",
      "3/3 [==============================] - 0s 9ms/step - loss: 0.2090 - accuracy: 0.9161\n",
      "3/3 [==============================] - 0s 8ms/step - loss: 0.2082 - accuracy: 0.9162\n",
      "3/3 [==============================] - 0s 8ms/step - loss: 0.2089 - accuracy: 0.9161\n",
      "3/3 [==============================] - 0s 7ms/step - loss: 0.2088 - accuracy: 0.9161\n",
      "3/3 [==============================] - 0s 7ms/step - loss: 0.2077 - accuracy: 0.9162\n",
      "3/3 [==============================] - 0s 7ms/step - loss: 0.2082 - accuracy: 0.9162\n",
      "3/3 [==============================] - 0s 9ms/step - loss: 0.2089 - accuracy: 0.9159\n",
      "3/3 [==============================] - 0s 9ms/step - loss: 0.2091 - accuracy: 0.9162\n",
      "3/3 [==============================] - 0s 7ms/step - loss: 0.2082 - accuracy: 0.9160\n",
      "3/3 [==============================] - 0s 8ms/step - loss: 0.2088 - accuracy: 0.9162\n",
      "3/3 [==============================] - 0s 8ms/step - loss: 0.2078 - accuracy: 0.9160\n",
      "3/3 [==============================] - 0s 9ms/step - loss: 0.2081 - accuracy: 0.9161\n",
      "3/3 [==============================] - 0s 7ms/step - loss: 0.2085 - accuracy: 0.9161\n",
      "3/3 [==============================] - 0s 8ms/step - loss: 0.2088 - accuracy: 0.9161\n",
      "3/3 [==============================] - 0s 6ms/step - loss: 0.2092 - accuracy: 0.9161\n",
      "3/3 [==============================] - 0s 6ms/step - loss: 0.2083 - accuracy: 0.9161\n",
      "3/3 [==============================] - 0s 8ms/step - loss: 0.2092 - accuracy: 0.9159\n",
      "3/3 [==============================] - 0s 6ms/step - loss: 0.2085 - accuracy: 0.9160\n",
      "3/3 [==============================] - 0s 8ms/step - loss: 0.2080 - accuracy: 0.9160\n",
      "3/3 [==============================] - 0s 6ms/step - loss: 0.2081 - accuracy: 0.9161\n",
      "3/3 [==============================] - 0s 6ms/step - loss: 0.2085 - accuracy: 0.9162\n",
      "3/3 [==============================] - 0s 7ms/step - loss: 0.2089 - accuracy: 0.9159\n",
      "3/3 [==============================] - 0s 6ms/step - loss: 0.2081 - accuracy: 0.9161\n",
      "3/3 [==============================] - 0s 7ms/step - loss: 0.2082 - accuracy: 0.9160\n",
      "3/3 [==============================] - 0s 7ms/step - loss: 0.2085 - accuracy: 0.9162\n",
      "3/3 [==============================] - 0s 6ms/step - loss: 0.2079 - accuracy: 0.9163\n",
      "3/3 [==============================] - 0s 7ms/step - loss: 0.2080 - accuracy: 0.9160\n",
      "3/3 [==============================] - 0s 7ms/step - loss: 0.2082 - accuracy: 0.9162\n",
      "3/3 [==============================] - 0s 7ms/step - loss: 0.2081 - accuracy: 0.9161\n",
      "3/3 [==============================] - 0s 7ms/step - loss: 0.2083 - accuracy: 0.9161\n",
      "3/3 [==============================] - 0s 7ms/step - loss: 0.2087 - accuracy: 0.9161\n",
      "3/3 [==============================] - 0s 8ms/step - loss: 0.2078 - accuracy: 0.9163\n",
      "3/3 [==============================] - 0s 8ms/step - loss: 0.2088 - accuracy: 0.9161\n",
      "3/3 [==============================] - 0s 7ms/step - loss: 0.2083 - accuracy: 0.9161\n",
      "3/3 [==============================] - 0s 6ms/step - loss: 0.2075 - accuracy: 0.9161\n",
      "3/3 [==============================] - 0s 7ms/step - loss: 0.2090 - accuracy: 0.9161\n",
      "3/3 [==============================] - 0s 7ms/step - loss: 0.2083 - accuracy: 0.9162\n",
      "3/3 [==============================] - 0s 7ms/step - loss: 0.2086 - accuracy: 0.9160\n",
      "3/3 [==============================] - 0s 7ms/step - loss: 0.2084 - accuracy: 0.9162\n",
      "3/3 [==============================] - 0s 7ms/step - loss: 0.2085 - accuracy: 0.9162\n",
      "3/3 [==============================] - 0s 7ms/step - loss: 0.2073 - accuracy: 0.9162\n",
      "3/3 [==============================] - 0s 8ms/step - loss: 0.2085 - accuracy: 0.9162\n",
      "3/3 [==============================] - 0s 7ms/step - loss: 0.2080 - accuracy: 0.9163\n",
      "3/3 [==============================] - 0s 7ms/step - loss: 0.2080 - accuracy: 0.9161\n",
      "3/3 [==============================] - 0s 8ms/step - loss: 0.2072 - accuracy: 0.9164\n",
      "3/3 [==============================] - 0s 7ms/step - loss: 0.2086 - accuracy: 0.9160\n",
      "3/3 [==============================] - 0s 7ms/step - loss: 0.2085 - accuracy: 0.9164\n",
      "3/3 [==============================] - 0s 7ms/step - loss: 0.2082 - accuracy: 0.9162\n",
      "3/3 [==============================] - 0s 6ms/step - loss: 0.2079 - accuracy: 0.9161\n",
      "3/3 [==============================] - 0s 7ms/step - loss: 0.2090 - accuracy: 0.9159\n",
      "3/3 [==============================] - 0s 7ms/step - loss: 0.2082 - accuracy: 0.9162\n",
      "3/3 [==============================] - 0s 6ms/step - loss: 0.2094 - accuracy: 0.9161\n",
      "3/3 [==============================] - 0s 6ms/step - loss: 0.2087 - accuracy: 0.9160\n",
      "3/3 [==============================] - 0s 7ms/step - loss: 0.2084 - accuracy: 0.9162\n",
      "3/3 [==============================] - 0s 7ms/step - loss: 0.2092 - accuracy: 0.9161\n",
      "3/3 [==============================] - 0s 7ms/step - loss: 0.2085 - accuracy: 0.9161\n",
      "3/3 [==============================] - 0s 8ms/step - loss: 0.2081 - accuracy: 0.9162\n",
      "3/3 [==============================] - 0s 6ms/step - loss: 0.2083 - accuracy: 0.9162\n",
      "3/3 [==============================] - 0s 7ms/step - loss: 0.2078 - accuracy: 0.9161\n",
      "3/3 [==============================] - 0s 6ms/step - loss: 0.2081 - accuracy: 0.9162\n",
      "3/3 [==============================] - 0s 7ms/step - loss: 0.2084 - accuracy: 0.9162\n",
      "3/3 [==============================] - 0s 7ms/step - loss: 0.2084 - accuracy: 0.9162\n",
      "3/3 [==============================] - 0s 8ms/step - loss: 0.2086 - accuracy: 0.9161\n",
      "3/3 [==============================] - 0s 7ms/step - loss: 0.2084 - accuracy: 0.9161\n",
      "3/3 [==============================] - 0s 7ms/step - loss: 0.2082 - accuracy: 0.9161\n",
      "3/3 [==============================] - 0s 8ms/step - loss: 0.2093 - accuracy: 0.9161\n",
      "3/3 [==============================] - 0s 8ms/step - loss: 0.2080 - accuracy: 0.9162\n",
      "3/3 [==============================] - 0s 5ms/step - loss: 0.2086 - accuracy: 0.9160\n",
      "3/3 [==============================] - 0s 5ms/step - loss: 0.2085 - accuracy: 0.9161\n",
      "3/3 [==============================] - 0s 7ms/step - loss: 0.2079 - accuracy: 0.9161\n"
     ]
    }
   ],
   "source": [
    "# Run the testing 100 times, and save the accuracies in an array\n",
    "\n",
    "ACC=list()\n",
    "for i in range(100):\n",
    "      \n",
    "    score = model11.evaluate(Xtest, Ytest, batch_size=batch_size)\n",
    "    ACC.append(score[1])\n",
    "# Calculate and print mean and std of accuracies\n"
   ]
  },
  {
   "cell_type": "code",
   "execution_count": 54,
   "metadata": {},
   "outputs": [
    {
     "name": "stdout",
     "output_type": "stream",
     "text": [
      "mean of the test Accuracies is: 0.9161223214864731.\n",
      "sd of the test Accuracies is: 9.94247391097152e-05.\n"
     ]
    }
   ],
   "source": [
    "print('mean of the test Accuracies is: {}.'.format(sum(ACC)/len(ACC)))\n",
    "print('sd of the test Accuracies is: {}.'.format(np.array(ACC).std()))\n",
    "\n"
   ]
  },
  {
   "cell_type": "markdown",
   "metadata": {},
   "source": [
    "# Part 21: Cross validation uncertainty\n",
    "\n",
    "Cross validation (CV) is often used to evaluate a model, by training and testing using different subsets of the data it is possible to get the uncertainty as the standard deviation over folds. We here use a help function from scikit-learn to setup the CV, see https://scikit-learn.org/stable/modules/generated/sklearn.model_selection.StratifiedKFold.html . Use 10 folds with shuffling, random state 1234. \n",
    "\n",
    "Note: We here assume that you have found the best hyper parameters, so here the data are only split into training and testing, no validation.\n",
    "\n",
    "---\n",
    "\n",
    "Question 22: What is the mean and the standard deviation of the test accuracy?\n",
    "\n",
    "`mean of the test Accuracies is: 0.9142484724521637.\n",
    "sd of the test Accuracies is: 0.001775243551527256.`\n",
    "\n",
    "Question 23: What is the main advantage of dropout compared to CV for estimating test uncertainty? The difference may not be so large in this notebook, but imagine that you have a network that takes 24 hours to train.\n",
    "\n",
    "Cross validiation is much more time-consuming than dropout. If training a network takes 24 hours and we use 10-fold then by Cross validiation it will take 10 days to evaluate the model."
   ]
  },
  {
   "cell_type": "code",
   "execution_count": 55,
   "metadata": {},
   "outputs": [
    {
     "name": "stdout",
     "output_type": "stream",
     "text": [
      "2/2 [==============================] - 0s 6ms/step - loss: 0.2258 - accuracy: 0.9142\n",
      "2/2 [==============================] - 0s 7ms/step - loss: 0.2248 - accuracy: 0.9109\n",
      "2/2 [==============================] - 0s 8ms/step - loss: 0.2202 - accuracy: 0.9122\n",
      "WARNING:tensorflow:5 out of the last 2848 calls to <function Model.make_test_function.<locals>.test_function at 0x00000241CCCDDB80> triggered tf.function retracing. Tracing is expensive and the excessive number of tracings could be due to (1) creating @tf.function repeatedly in a loop, (2) passing tensors with different shapes, (3) passing Python objects instead of tensors. For (1), please define your @tf.function outside of the loop. For (2), @tf.function has experimental_relax_shapes=True option that relaxes argument shapes that can avoid unnecessary retracing. For (3), please refer to https://www.tensorflow.org/guide/function#controlling_retracing and https://www.tensorflow.org/api_docs/python/tf/function for  more details.\n",
      "2/2 [==============================] - 0s 8ms/step - loss: 0.2295 - accuracy: 0.9119\n",
      "WARNING:tensorflow:6 out of the last 2850 calls to <function Model.make_test_function.<locals>.test_function at 0x00000241CE953790> triggered tf.function retracing. Tracing is expensive and the excessive number of tracings could be due to (1) creating @tf.function repeatedly in a loop, (2) passing tensors with different shapes, (3) passing Python objects instead of tensors. For (1), please define your @tf.function outside of the loop. For (2), @tf.function has experimental_relax_shapes=True option that relaxes argument shapes that can avoid unnecessary retracing. For (3), please refer to https://www.tensorflow.org/guide/function#controlling_retracing and https://www.tensorflow.org/api_docs/python/tf/function for  more details.\n",
      "2/2 [==============================] - 0s 7ms/step - loss: 0.2184 - accuracy: 0.9150\n",
      "2/2 [==============================] - 0s 7ms/step - loss: 0.2167 - accuracy: 0.9155\n",
      "2/2 [==============================] - 0s 8ms/step - loss: 0.2174 - accuracy: 0.9148\n",
      "2/2 [==============================] - 0s 8ms/step - loss: 0.2119 - accuracy: 0.9163\n",
      "2/2 [==============================] - 0s 8ms/step - loss: 0.2211 - accuracy: 0.9145\n",
      "2/2 [==============================] - 0s 8ms/step - loss: 0.2229 - accuracy: 0.9149\n"
     ]
    }
   ],
   "source": [
    "from sklearn.model_selection import StratifiedKFold\n",
    "\n",
    "# Build and train model\n",
    "batch_size = 25000\n",
    "epochs = 20\n",
    "input_shape = (Xtrain.shape[1],)\n",
    "cross_Acc = list()\n",
    "\n",
    "# Define 10-fold cross validation\n",
    "cvFolds = StratifiedKFold(n_splits=10, random_state=1234, shuffle=True)\n",
    "\n",
    "# Loop over cross validation folds\n",
    "for train_index, test_index in cvFolds.split(X, Y):\n",
    "    Xtrain, Xtest = X[train_index], X[test_index]\n",
    "    Ytrain, Ytest = Y[train_index], Y[test_index]\n",
    "    # Calculate class weights for current split\n",
    "    model12 = build_DNN(input_shape=input_shape, n_layers=4, n_nodes=30, optimizer='RMSprop',\n",
    "                        learning_rate=0.005, use_custom_dropout=True)\n",
    "    \n",
    "    # Fit the model with training set and class weights for this fold\n",
    "    history12 = model12.fit(Xtrain, Ytrain, batch_size=batch_size, epochs=epochs,class_weight=class_weights, verbose=0)\n",
    "    \n",
    "    # Evaluate the model using the test set for this fold\n",
    "    score = model12.evaluate(Xtest, Ytest, batch_size=batch_size)\n",
    "\n",
    "    # Save the test accuracy in an array\n",
    "    cross_Acc.append(score[1])\n",
    "# Calculate and print mean and std of accuracies\n",
    "\n"
   ]
  },
  {
   "cell_type": "code",
   "execution_count": 56,
   "metadata": {},
   "outputs": [
    {
     "name": "stdout",
     "output_type": "stream",
     "text": [
      "mean of the test Accuracies is: 0.9140312433242798.\n",
      "sd of the test Accuracies is: 0.00166357768303682.\n"
     ]
    }
   ],
   "source": [
    "print('mean of the test Accuracies is: {}.'.format(sum(cross_Acc)/len(cross_Acc)))\n",
    "print('sd of the test Accuracies is: {}.'.format(np.array(cross_Acc).std()))\n"
   ]
  },
  {
   "cell_type": "markdown",
   "metadata": {},
   "source": [
    "# Part 22: DNN regression\n",
    "\n",
    "A similar DNN can be used for regression, instead of classification.\n",
    "\n",
    "Question 24: How would you change the DNN in order to use it for regression instead?"
   ]
  },
  {
   "cell_type": "markdown",
   "metadata": {},
   "source": [
    "we can use the `KerasRegressor` from ` keras.wrappers.scikit_learn`. we create an instance from it and pass to model.`fit()`.\n",
    "The loss function that is used in regression could be `MeanSquaredError `. The complete list is available at https://keras.io/api/losses/regression_losses/. Other steps will be the same."
   ]
  },
  {
   "cell_type": "markdown",
   "metadata": {},
   "source": [
    "## Report\n",
    "\n",
    "Send in this jupyter notebook, with answers to all questions."
   ]
  }
 ],
 "metadata": {
  "kernelspec": {
   "display_name": "Python 3",
   "language": "python",
   "name": "python3"
  },
  "language_info": {
   "codemirror_mode": {
    "name": "ipython",
    "version": 3
   },
   "file_extension": ".py",
   "mimetype": "text/x-python",
   "name": "python",
   "nbconvert_exporter": "python",
   "pygments_lexer": "ipython3",
   "version": "3.9.4"
  },
  "latex_envs": {
   "LaTeX_envs_menu_present": true,
   "autoclose": false,
   "autocomplete": true,
   "bibliofile": "biblio.bib",
   "cite_by": "apalike",
   "current_citInitial": 1,
   "eqLabelWithNumbers": true,
   "eqNumInitial": 1,
   "hotkeys": {
    "equation": "Ctrl-E",
    "itemize": "Ctrl-I"
   },
   "labels_anchors": false,
   "latex_user_defs": false,
   "report_style_numbering": false,
   "user_envs_cfg": false
  },
  "toc": {
   "base_numbering": 1,
   "nav_menu": {},
   "number_sections": true,
   "sideBar": true,
   "skip_h1_title": false,
   "title_cell": "Table of Contents",
   "title_sidebar": "Contents",
   "toc_cell": false,
   "toc_position": {
    "height": "542px",
    "left": "48px",
    "top": "110.8px",
    "width": "307.2px"
   },
   "toc_section_display": true,
   "toc_window_display": false
  },
  "varInspector": {
   "cols": {
    "lenName": 16,
    "lenType": 16,
    "lenVar": 40
   },
   "kernels_config": {
    "python": {
     "delete_cmd_postfix": "",
     "delete_cmd_prefix": "del ",
     "library": "var_list.py",
     "varRefreshCmd": "print(var_dic_list())"
    },
    "r": {
     "delete_cmd_postfix": ") ",
     "delete_cmd_prefix": "rm(",
     "library": "var_list.r",
     "varRefreshCmd": "cat(var_dic_list()) "
    }
   },
   "types_to_exclude": [
    "module",
    "function",
    "builtin_function_or_method",
    "instance",
    "_Feature"
   ],
   "window_display": false
  }
 },
 "nbformat": 4,
 "nbformat_minor": 4
}
