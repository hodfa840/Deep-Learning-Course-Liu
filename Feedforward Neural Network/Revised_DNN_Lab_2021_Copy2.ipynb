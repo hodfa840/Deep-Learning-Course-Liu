{
 "cells": [
  {
   "cell_type": "markdown",
   "metadata": {},
   "source": [
    "# Deep Neural Networks Laboration\n",
    "\n",
    "Data used in this laboration are from the Kitsune Network Attack Dataset, https://archive.ics.uci.edu/ml/datasets/Kitsune+Network+Attack+Dataset . We will focus on the 'Mirai' part of the dataset. Your task is to make a DNN that can classify if each attack is benign or malicious. The dataset has 116 covariates, but to make it a bit more difficult we will remove the first 24 covariates.\n",
    "\n",
    "You need to answer all questions in this notebook."
   ]
  },
  {
   "cell_type": "markdown",
   "metadata": {},
   "source": [
    "# Part 1: Get the data\n",
    "\n",
    "Skip this part if you load stored numpy arrays (Mirai*.npy) (which is recommended)\n",
    "\n",
    "Use `wget` in the terminal of your cloud machine (in the same directory as where you have saved this notebook) to download the data, i.e.\n",
    "\n",
    "wget https://archive.ics.uci.edu/ml/machine-learning-databases/00516/mirai/Mirai_dataset.csv.gz\n",
    "\n",
    "wget https://archive.ics.uci.edu/ml/machine-learning-databases/00516/mirai/Mirai_labels.csv.gz\n",
    "\n",
    "Then unpack the files using `gunzip` in the terminal, i.e.\n",
    "\n",
    "gunzip Mirai_dataset.csv.gz\n",
    "\n",
    "gunzip Mirai_labels.csv.gz"
   ]
  },
  {
   "cell_type": "markdown",
   "metadata": {},
   "source": [
    "# Part 2: Get a graphics card\n",
    "\n",
    "Skip this part if you run on the CPU\n",
    "\n",
    "Lets make sure that our script can see the graphics card that will be used. The graphics cards will perform all the time consuming calculations in every training iteration."
   ]
  },
  {
   "cell_type": "code",
   "execution_count": 1,
   "metadata": {},
   "outputs": [
    {
     "name": "stdout",
     "output_type": "stream",
     "text": [
      "INFO:tensorflow:Enabling eager execution\n",
      "INFO:tensorflow:Enabling v2 tensorshape\n",
      "INFO:tensorflow:Enabling resource variables\n",
      "INFO:tensorflow:Enabling tensor equality\n",
      "INFO:tensorflow:Enabling control flow v2\n"
     ]
    }
   ],
   "source": [
    "import os\n",
    "import warnings\n",
    "\n",
    "# Ignore FutureWarning from numpy\n",
    "warnings.simplefilter(action='ignore', category=FutureWarning)\n",
    "\n",
    "import  tensorflow.keras.backend as K\n",
    "import tensorflow as tf\n",
    "\n",
    "os.environ[\"CUDA_DEVICE_ORDER\"]=\"PCI_BUS_ID\";\n",
    " \n",
    "# The GPU id to use, usually either \"0\" or \"1\";\n",
    "os.environ[\"CUDA_VISIBLE_DEVICES\"]=\"0\";\n",
    "\n",
    "# Allow growth of GPU memory, otherwise it will always look like all the memory is being used\n",
    "physical_devices = tf.config.experimental.list_physical_devices('GPU')\n",
    "tf.config.experimental.set_memory_growth(physical_devices[0], True) "
   ]
  },
  {
   "cell_type": "markdown",
   "metadata": {},
   "source": [
    "# Part 3: Hardware\n",
    "\n",
    "Skip questions 1, 2, 3, 5, 6 if you use your own computer.\n",
    "\n",
    "In deep learning, the computer hardware is very important. You should always know what kind of hardware you are working on.\n",
    "\n",
    "Question 1: What graphics card is available in the cloud machine? Run 'nvidia-smi' in the terminal. \n",
    "\n",
    "Question 2: Google the name of the graphics card, how many CUDA cores does it have?\n",
    "\n",
    "Question 3: How much memory does the graphics card have?\n",
    "\n",
    "Question 4: What is stored in the GPU memory while training a DNN ?\n",
    "\n",
    "Question 5: What CPU is available in the cloud machine? How many cores does it have? Run 'lscpu' in the terminal.\n",
    "\n",
    "Question 6: How much CPU memory (RAM) is available in the cloud machine? Run 'free -g' in the terminal."
   ]
  },
  {
   "cell_type": "markdown",
   "metadata": {},
   "source": [
    "_____________________________________________________________________________________________________"
   ]
  },
  {
   "cell_type": "markdown",
   "metadata": {},
   "source": [
    "*Question 4*:\n",
    "\n",
    "Answer):\n",
    "\n",
    "Parameters: The weights and biases of the network.a batch of data, and the gradients of all weights in the network\n",
    "\n",
    "Optimizer’s variables (e.g. momentums)\n",
    "\n",
    "Intermediate calculations — Values from the forward pass that are temporarily stored in GPU memory and then used in the backward pass. (e.g. the activation outputs of every layer are used in the backward pass to calculate the gradients)"
   ]
  },
  {
   "cell_type": "markdown",
   "metadata": {},
   "source": [
    "# Part 4: Load the data\n",
    "\n",
    "To make this step easier, directly load the data from saved numpy arrays (.npy) (recommended)\n",
    "\n",
    "\n",
    "Load the dataset from the csv files, it will take some time since it is almost 1.4 GB. \n",
    "\n",
    "We will use the function `genfromtxt` to load the data.\n",
    "\n",
    "https://docs.scipy.org/doc/numpy/reference/generated/numpy.genfromtxt.html\n",
    "\n",
    "Load the data from csv files the first time, then save the data as numpy files for faster loading the next time.\n"
   ]
  },
  {
   "cell_type": "code",
   "execution_count": 2,
   "metadata": {},
   "outputs": [
    {
     "name": "stdout",
     "output_type": "stream",
     "text": [
      "The covariates have size (764137, 92).\n",
      "The labels have size (764137,).\n"
     ]
    }
   ],
   "source": [
    "# Load data from file\n",
    "# X = covariates, Y = labels\n",
    "from numpy import genfromtxt\n",
    "import numpy as np\n",
    "\n",
    "# Load data from numpy arrays\n",
    "X = np.load('Mirai_data.npy')\n",
    "Y = np.load('Mirai_labels.npy')\n",
    "\n",
    "# Remove the first 24 covariates (columns)\n",
    "X = np.delete(X, slice(0,24), axis=1)\n",
    "\n",
    "\n",
    "print('The covariates have size {}.'.format(X.shape))\n",
    "print('The labels have size {}.'.format(Y.shape))\n",
    "\n",
    "# Print the number of examples of each class\n",
    "    "
   ]
  },
  {
   "cell_type": "code",
   "execution_count": 3,
   "metadata": {},
   "outputs": [
    {
     "name": "stdout",
     "output_type": "stream",
     "text": [
      "The covariates have size (764137, 92).\n",
      "The labels have size (764137,).\n"
     ]
    }
   ],
   "source": [
    "print('The covariates have size {}.'.format(X.shape))\n",
    "print('The labels have size {}.'.format(Y.shape))"
   ]
  },
  {
   "cell_type": "code",
   "execution_count": 4,
   "metadata": {},
   "outputs": [
    {
     "name": "stdout",
     "output_type": "stream",
     "text": [
      "class 0 has 121621   examples\n",
      "class 1 has 642516   examples\n"
     ]
    }
   ],
   "source": [
    "# Print the number of examples of each class\n",
    "t =np.unique(Y,return_counts=True)\n",
    "print(\"class 0 has\",t[1][0],' ', 'examples')\n",
    "print(\"class 1 has\",t[1][1],' ', 'examples')\n"
   ]
  },
  {
   "cell_type": "markdown",
   "metadata": {},
   "source": [
    "# Part 5: How good is a naive classifier?\n",
    "\n",
    "Question 7: Given the number of examples from each class, how high classification performance can a naive classifier obtain? The naive classifier will assume that all examples belong to one class. Note: you do not need to make a naive classifier, this is a theoretical question, just to understand how good performance we can obtain by guessing that all examples belong to one class.\n",
    "\n",
    "Answer) if we assume all examples belong to class 0 the accuracy will be $\\frac{60811}{382069}\\approx 0.16$\n",
    "\n",
    "if we assume all example belongs to class 1 the accuracy will be $\\frac{321258}{382069}\\approx 0.84$"
   ]
  },
  {
   "cell_type": "code",
   "execution_count": 5,
   "metadata": {},
   "outputs": [
    {
     "data": {
      "text/plain": [
       "0.15916235025610556"
      ]
     },
     "execution_count": 5,
     "metadata": {},
     "output_type": "execute_result"
    }
   ],
   "source": [
    "60811/382069"
   ]
  },
  {
   "cell_type": "code",
   "execution_count": 6,
   "metadata": {},
   "outputs": [
    {
     "data": {
      "text/plain": [
       "0.8408376497438944"
      ]
     },
     "execution_count": 6,
     "metadata": {},
     "output_type": "execute_result"
    }
   ],
   "source": [
    "321258/382069"
   ]
  },
  {
   "cell_type": "code",
   "execution_count": 7,
   "metadata": {},
   "outputs": [
    {
     "name": "stdout",
     "output_type": "stream",
     "text": [
      "number of NaN in X:  0\n",
      "number of NaN in Y:  0\n"
     ]
    }
   ],
   "source": [
    "# It is common to have NaNs in the data, lets check for it. Hint: np.isnan()\n",
    "\n",
    "#print(np.isnan(X))\n",
    "#print(np.isnan(Y))# Print the number of NaNs (not a number) in the labels\n",
    "\n",
    "# Print the number of NaNs in the covariates\n",
    "print('number of NaN in X: ', np.count_nonzero(np.isnan(X)))\n",
    "print('number of NaN in Y: ', np.count_nonzero(np.isnan(Y)))\n"
   ]
  },
  {
   "cell_type": "markdown",
   "metadata": {},
   "source": [
    "# Part 6: Preprocessing\n",
    "\n",
    "Lets do some simple preprocessing"
   ]
  },
  {
   "cell_type": "code",
   "execution_count": 8,
   "metadata": {},
   "outputs": [
    {
     "name": "stdout",
     "output_type": "stream",
     "text": [
      "Mean for covariates is almost 0:  [-3.19451533e-18 -6.32970181e-14  1.19926356e-13  4.56743018e-15\n",
      "  4.10210037e-14  1.46130975e-13  5.85246484e-16 -1.69734859e-14\n",
      " -3.36915700e-13  1.28688437e-12 -2.69360995e-12 -1.10733213e-13\n",
      " -1.22392702e-13 -1.70649630e-13 -1.02461166e-14  2.50701280e-12\n",
      "  1.47553162e-12  1.08446837e-12 -1.04981959e-13  6.83458762e-14\n",
      " -1.03373555e-13  5.98825773e-14 -1.02025960e-12 -1.68983055e-12\n",
      " -1.79101143e-12 -1.31828514e-13  4.42580403e-13  6.14635580e-13\n",
      "  5.78048199e-14 -4.92623328e-13 -2.54513072e-12  1.86544900e-13\n",
      " -1.53444593e-13  1.68079591e-12  9.30041709e-13  1.50738177e-13\n",
      " -1.15688852e-12 -3.62610361e-13 -1.71390937e-12 -2.09264067e-13\n",
      "  1.07161976e-12 -1.45236885e-12 -1.69724579e-14 -1.64918984e-16\n",
      " -5.13444996e-14 -1.02171349e-14 -1.74685907e-15  1.34264921e-13\n",
      "  5.98801969e-14  1.48745574e-17 -4.25442340e-13  5.78079594e-14\n",
      "  1.25638129e-15  1.69449684e-13  1.50725881e-13  2.14439542e-14\n",
      "  3.65457183e-14  1.17260451e-13 -8.82752870e-13 -6.34816648e-13\n",
      " -1.62109649e-12  2.63270303e-13 -7.57215123e-15 -2.89395002e-14\n",
      " -3.90180996e-13 -1.53167085e-12 -9.57913621e-13  2.47411065e-13\n",
      "  2.44200541e-13 -6.73050928e-15  1.07502596e-13  2.58222203e-13\n",
      " -1.87714601e-13 -1.19882476e-12 -2.17154862e-12  5.48444735e-14\n",
      "  5.46183481e-15  3.71315442e-14  1.47576646e-13 -1.62639245e-12\n",
      " -1.23986972e-13 -1.71744315e-12  5.29956657e-13 -3.21442452e-14\n",
      " -4.59767392e-14  3.56347870e-13 -1.48544246e-12 -1.26642728e-13\n",
      "  1.52633871e-13  9.58048710e-14  4.34603426e-14 -4.07615740e-14]\n",
      "\n",
      "\n",
      "Standard Deviation for covariates is:  [1. 1. 1. 1. 1. 1. 1. 1. 1. 1. 1. 1. 1. 1. 1. 1. 1. 1. 1. 1. 1. 1. 1. 1.\n",
      " 1. 1. 1. 1. 1. 1. 1. 1. 1. 1. 1. 1. 1. 1. 1. 1. 1. 1. 1. 1. 1. 1. 1. 1.\n",
      " 1. 1. 1. 1. 1. 1. 1. 1. 1. 1. 1. 1. 1. 1. 1. 1. 1. 1. 1. 1. 1. 1. 1. 1.\n",
      " 1. 1. 1. 1. 1. 1. 1. 1. 1. 1. 1. 1. 1. 1. 1. 1. 1. 1. 1. 1.]\n"
     ]
    }
   ],
   "source": [
    "# Convert covariates to floats\n",
    "X = X.astype(float)\n",
    "\n",
    "\n",
    "# Convert labels to integers\n",
    "\n",
    "Y = Y.astype(int)\n",
    "\n",
    "# Remove mean of each covariate (column)\n",
    "X = X - np.mean(X, axis=0)\n",
    "\n",
    "\n",
    "# Divide each covariate (column) by its standard deviation\n",
    "\n",
    "X = X/np.std(X, axis=0)\n",
    "\n",
    "# Check that mean is 0 and standard deviation is 1 for all covariates, by printing mean and std\n",
    "print(\"Mean for covariates is almost 0: \", np.mean(X,axis=0))\n",
    "print('\\n')\n",
    "print(\"Standard Deviation for covariates is: \",np.std(X, axis=0))\n",
    "\n"
   ]
  },
  {
   "cell_type": "markdown",
   "metadata": {},
   "source": [
    "# Part 7: Split the dataset\n",
    "\n",
    "Use the first 70% of the dataset for training, leave the other 30% for validation and test, call the variables\n",
    "\n",
    "Xtrain (70%)\n",
    "\n",
    "Xtemp  (30%)\n",
    "\n",
    "Ytrain (70%)\n",
    "\n",
    "Ytemp  (30%)\n",
    "\n",
    "We use a function from scikit learn.\n",
    "https://scikit-learn.org/stable/modules/generated/sklearn.model_selection.train_test_split.html\n"
   ]
  },
  {
   "cell_type": "code",
   "execution_count": 9,
   "metadata": {},
   "outputs": [
    {
     "name": "stdout",
     "output_type": "stream",
     "text": [
      "Xtrain has size (534895, 92).\n",
      "Ytrain has size (534895,).\n",
      "Xtemp has size (229242, 92).\n",
      "Ytemp has size (229242,).\n",
      "Ytrain class_0 has 85248 members.\n",
      "Ytrain class_1 has 449647 members.\n",
      "Ytemp class_0 has 36373 members.\n",
      "Ytemp class_1 has 192869 members.\n"
     ]
    }
   ],
   "source": [
    "from sklearn.model_selection import train_test_split\n",
    "\n",
    "# Your code\n",
    "\n",
    "Xtrain, Xtemp, Ytrain, Ytemp = train_test_split(X, Y, test_size=0.3, random_state=42)\n",
    "print('Xtrain has size {}.'.format(Xtrain.shape))\n",
    "print('Ytrain has size {}.'.format(Ytrain.shape))\n",
    "\n",
    "print('Xtemp has size {}.'.format(Xtemp.shape))\n",
    "print('Ytemp has size {}.'.format(Ytemp.shape))\n",
    "\n",
    "# Print the number of examples of each class, for the training data and the remaining 30%\n",
    "\n",
    "print('Ytrain class_0 has {} members.'.format(np.count_nonzero(Ytrain==0)))\n",
    "print('Ytrain class_1 has {} members.'.format(np.count_nonzero(Ytrain==1)))\n",
    "print('Ytemp class_0 has {} members.'.format(np.count_nonzero(Ytemp==0)))\n",
    "print('Ytemp class_1 has {} members.'.format(np.count_nonzero(Ytemp==1)))\n"
   ]
  },
  {
   "cell_type": "markdown",
   "metadata": {},
   "source": [
    "#  Part 8: Split non-training data data into validation and test\n",
    "Now split your non-training data (Xtemp, Ytemp) into 50% validation (Xval, Yval) and 50% testing (Xtest, Ytest), we use a function from scikit learn. \n",
    "\n",
    "https://scikit-learn.org/stable/modules/generated/sklearn.model_selection.train_test_split.html\n",
    "\n",
    "Do all variables (Xtrain,Ytrain), (Xval,Yval), (Xtest,Ytest) have the shape that you expect?"
   ]
  },
  {
   "cell_type": "code",
   "execution_count": 10,
   "metadata": {},
   "outputs": [
    {
     "name": "stdout",
     "output_type": "stream",
     "text": [
      "Xtest has size (114621, 92).\n",
      "Ytest has size (114621,).\n",
      "Xval has size (114621, 92).\n",
      "Yval has size (114621,).\n",
      "The validation and test data have size (114621, 92), (114621, 92), (114621,) and (114621,)\n"
     ]
    }
   ],
   "source": [
    "from sklearn.model_selection import train_test_split\n",
    "\n",
    "\n",
    "\n",
    "Xtest, Xval, Ytest, Yval = train_test_split(Xtemp, Ytemp, test_size=0.5, random_state=42)\n",
    "print('Xtest has size {}.'.format(Xtest.shape))\n",
    "print('Ytest has size {}.'.format(Ytest.shape))\n",
    "\n",
    "print('Xval has size {}.'.format(Xval.shape))\n",
    "print('Yval has size {}.'.format(Yval.shape))\n",
    "\n",
    "print('The validation and test data have size {}, {}, {} and {}'.format(Xval.shape, Xtest.shape, Yval.shape, Ytest.shape))"
   ]
  },
  {
   "cell_type": "markdown",
   "metadata": {},
   "source": [
    "if we copmute half of the Xtemp we can see that the variable has the shape we expected."
   ]
  },
  {
   "cell_type": "code",
   "execution_count": 11,
   "metadata": {},
   "outputs": [
    {
     "data": {
      "text/plain": [
       "114621"
      ]
     },
     "execution_count": 11,
     "metadata": {},
     "output_type": "execute_result"
    }
   ],
   "source": [
    "(int(np.ceil(len(X)*0.3/2)))"
   ]
  },
  {
   "cell_type": "markdown",
   "metadata": {},
   "source": [
    "which is the same lenght as our Xtest split."
   ]
  },
  {
   "cell_type": "markdown",
   "metadata": {},
   "source": [
    "# Part 9: DNN classification\n",
    "\n",
    "Finish this code to create a first version of the classifier using a DNN. Start with a simple network with 2 dense layers (with 20 nodes each), using sigmoid activation functions. The final dense layer should have a single node and a sigmoid activation function. We start with the SGD optimizer.\n",
    "\n",
    "For different parts of this notebook you need to go back here, add more things, and re-run this cell to re-define the build function.\n",
    "\n",
    "Relevant functions are\n",
    "\n",
    "`model.add()`, adds a layer to the network\n",
    "\n",
    "`Dense()`, a dense network layer\n",
    "\n",
    "`model.compile()`, compile the model, add \" metrics=['accuracy'] \" to print the classification accuracy during the training\n",
    "\n",
    "See https://keras.io/layers/core/ for information on how the `Dense()` function works\n",
    "\n",
    "Import a relevant cost / loss function for binary classification from keras.losses (https://keras.io/losses/)\n",
    "\n",
    "See the following links for how to compile, train and evaluate the model\n",
    "\n",
    "https://keras.io/api/models/model_training_apis/#compile-method\n",
    "\n",
    "https://keras.io/api/models/model_training_apis/#fit-method\n",
    "\n",
    "https://keras.io/api/models/model_training_apis/#evaluate-method\n"
   ]
  },
  {
   "cell_type": "code",
   "execution_count": 12,
   "metadata": {},
   "outputs": [],
   "source": [
    "from tensorflow.keras.models import Sequential, Model\n",
    "from tensorflow.keras.layers import Input, Dense, BatchNormalization, Dropout\n",
    "from tensorflow.keras.optimizers import SGD,Adam,RMSprop\n",
    "from tensorflow.keras.losses import binary_crossentropy"
   ]
  },
  {
   "cell_type": "code",
   "execution_count": 16,
   "metadata": {},
   "outputs": [],
   "source": [
    "\n",
    "# Set seed from random number generator, for better comparisons\n",
    "from numpy.random import seed\n",
    "seed(123)\n",
    "\n",
    "def build_DNN(input_shape, n_layers, n_nodes, act_fun='sigmoid', optimizer='sgd', learning_rate=0.01, \n",
    "              use_bn=False, use_dropout=False, use_custom_dropout=False):\n",
    "     \n",
    "    # Setup optimizer, depending on input parameter string\n",
    "      \n",
    "    # Setup optimizer, depending on input parameter string\n",
    "    if optimizer=='sgd':\n",
    "        optim = SGD(learning_rate=learning_rate)\n",
    "    if optimizer=='adam':\n",
    "        optim = Adam(learning_rate)\n",
    "    if optimizer=='RMSprop':\n",
    "        optim = RMSprop(learning_rate)\n",
    "    # Setup a sequential model\n",
    "    model = Sequential()\n",
    "\n",
    "    # Add layers to the model, using the input parameters of the build_DNN function\n",
    "    model.add(Dense(n_nodes,input_shape = input_shape,activation = act_fun ))\n",
    "    # Add first layer, requires input shape\n",
    "    # Add remaining layers, do not require input shape\n",
    "    for i in range(n_layers-1):\n",
    "        \n",
    "        model.add(Dense(n_nodes,input_shape = input_shape,activation = act_fun ))\n",
    "\n",
    "\n",
    "        \n",
    "        \n",
    "        if use_bn == True:\n",
    "\n",
    "            model.add(BatchNormalization())\n",
    "\n",
    "            #print(use_bn)\n",
    "\n",
    "        if use_dropout==True:\n",
    "\n",
    "            model.add(Dropout(rate=0.5))            \n",
    "\n",
    "        if use_custom_dropout == True:\n",
    "\n",
    "            model.add(myDropout(rate=0.5))\n",
    "        \n",
    "  \n",
    "       # Final layer\n",
    "    \n",
    "    model.add(Dense(1,activation = 'sigmoid'))\n",
    "    # Compile model\n",
    "    model.compile(optim,loss=binary_crossentropy,metrics=['accuracy'])\n",
    "    return model"
   ]
  },
  {
   "cell_type": "code",
   "execution_count": 17,
   "metadata": {},
   "outputs": [],
   "source": [
    "# Lets define a help function for plotting the training results\n",
    "\n",
    "import matplotlib.pyplot as plt\n",
    "def plot_results(history):\n",
    "    \n",
    "    val_loss = history.history['val_loss']\n",
    "    acc = history.history['accuracy']\n",
    "    loss = history.history['loss']\n",
    "    val_acc = history.history['val_accuracy']\n",
    "    \n",
    "    plt.figure(figsize=(10,4))\n",
    "    plt.xlabel('Epochs')\n",
    "    plt.ylabel('Loss')\n",
    "    plt.plot(loss)\n",
    "    plt.plot(val_loss)\n",
    "    plt.legend(['Training','Validation'])\n",
    "\n",
    "    plt.figure(figsize=(10,4))\n",
    "    plt.xlabel('Epochs')\n",
    "    plt.ylabel('Accuracy')\n",
    "    plt.plot(acc)\n",
    "    plt.plot(val_acc)\n",
    "    plt.legend(['Training','Validation'])\n",
    "\n",
    "    plt.show()"
   ]
  },
  {
   "cell_type": "markdown",
   "metadata": {},
   "source": [
    "# Part 10: Train the DNN\n",
    "\n",
    "Time to train the DNN, we start simple with 2 layers with 20 nodes each, learning rate 0.1.\n",
    "\n",
    "Relevant functions\n",
    "\n",
    "`build_DNN`, the function we defined in Part 9, call it with the parameters you want to use\n",
    "\n",
    "`model.fit()`, train the model with some training data\n",
    "\n",
    "`model.evaluate()`, apply the trained model to some test data\n",
    "\n",
    "See the following links for how to train and evaluate the model\n",
    "\n",
    "https://keras.io/api/models/model_training_apis/#fit-method\n",
    "\n",
    "https://keras.io/api/models/model_training_apis/#evaluate-method\n"
   ]
  },
  {
   "cell_type": "markdown",
   "metadata": {},
   "source": [
    "### 2 layers, 20 nodes"
   ]
  },
  {
   "cell_type": "code",
   "execution_count": 18,
   "metadata": {
    "scrolled": true
   },
   "outputs": [
    {
     "name": "stdout",
     "output_type": "stream",
     "text": [
      "Epoch 1/20\n",
      "54/54 [==============================] - 12s 17ms/step - loss: 0.4878 - accuracy: 0.7835 - val_loss: 0.3791 - val_accuracy: 0.8422\n",
      "Epoch 2/20\n",
      "54/54 [==============================] - 1s 10ms/step - loss: 0.3659 - accuracy: 0.8407 - val_loss: 0.3171 - val_accuracy: 0.8422\n",
      "Epoch 3/20\n",
      "54/54 [==============================] - 1s 9ms/step - loss: 0.3038 - accuracy: 0.8408 - val_loss: 0.2617 - val_accuracy: 0.8423\n",
      "Epoch 4/20\n",
      "54/54 [==============================] - 0s 9ms/step - loss: 0.2527 - accuracy: 0.8456 - val_loss: 0.2271 - val_accuracy: 0.8600\n",
      "Epoch 5/20\n",
      "54/54 [==============================] - 0s 8ms/step - loss: 0.2230 - accuracy: 0.8652 - val_loss: 0.2090 - val_accuracy: 0.8951\n",
      "Epoch 6/20\n",
      "54/54 [==============================] - 0s 8ms/step - loss: 0.2069 - accuracy: 0.8964 - val_loss: 0.1993 - val_accuracy: 0.9002\n",
      "Epoch 7/20\n",
      "54/54 [==============================] - 0s 9ms/step - loss: 0.1986 - accuracy: 0.9012 - val_loss: 0.1934 - val_accuracy: 0.9037\n",
      "Epoch 8/20\n",
      "54/54 [==============================] - 0s 8ms/step - loss: 0.1930 - accuracy: 0.9040 - val_loss: 0.1893 - val_accuracy: 0.9044\n",
      "Epoch 9/20\n",
      "54/54 [==============================] - 0s 9ms/step - loss: 0.1898 - accuracy: 0.9050 - val_loss: 0.1863 - val_accuracy: 0.9058\n",
      "Epoch 10/20\n",
      "54/54 [==============================] - 0s 7ms/step - loss: 0.1857 - accuracy: 0.9064 - val_loss: 0.1839 - val_accuracy: 0.9064\n",
      "Epoch 11/20\n",
      "54/54 [==============================] - 0s 7ms/step - loss: 0.1842 - accuracy: 0.9066 - val_loss: 0.1819 - val_accuracy: 0.9068\n",
      "Epoch 12/20\n",
      "54/54 [==============================] - 0s 7ms/step - loss: 0.1824 - accuracy: 0.9071 - val_loss: 0.1801 - val_accuracy: 0.9071\n",
      "Epoch 13/20\n",
      "54/54 [==============================] - 0s 9ms/step - loss: 0.1813 - accuracy: 0.9063 - val_loss: 0.1786 - val_accuracy: 0.9073\n",
      "Epoch 14/20\n",
      "54/54 [==============================] - 0s 8ms/step - loss: 0.1792 - accuracy: 0.9070 - val_loss: 0.1772 - val_accuracy: 0.9075\n",
      "Epoch 15/20\n",
      "54/54 [==============================] - 0s 8ms/step - loss: 0.1778 - accuracy: 0.9076 - val_loss: 0.1760 - val_accuracy: 0.9077\n",
      "Epoch 16/20\n",
      "54/54 [==============================] - 0s 9ms/step - loss: 0.1766 - accuracy: 0.9076 - val_loss: 0.1749 - val_accuracy: 0.9077\n",
      "Epoch 17/20\n",
      "54/54 [==============================] - 0s 9ms/step - loss: 0.1756 - accuracy: 0.9079 - val_loss: 0.1740 - val_accuracy: 0.9079\n",
      "Epoch 18/20\n",
      "54/54 [==============================] - 0s 8ms/step - loss: 0.1750 - accuracy: 0.9076 - val_loss: 0.1731 - val_accuracy: 0.9081\n",
      "Epoch 19/20\n",
      "54/54 [==============================] - 0s 9ms/step - loss: 0.1738 - accuracy: 0.9080 - val_loss: 0.1723 - val_accuracy: 0.9082\n",
      "Epoch 20/20\n",
      "54/54 [==============================] - 0s 8ms/step - loss: 0.1730 - accuracy: 0.9085 - val_loss: 0.1716 - val_accuracy: 0.9083\n"
     ]
    }
   ],
   "source": [
    "# Setup some training parameters\n",
    "batch_size = 10000\n",
    "epochs = 20\n",
    "\n",
    "input_shape =(Xtrain.shape[1],) \n",
    "# Build the model\n",
    "model1 = build_DNN(input_shape=input_shape, n_layers=2, n_nodes=20, learning_rate=0.1)\n",
    "\n",
    "\n",
    "# Train the model, provide training data and validation data\n",
    "history1 = model1.fit(Xtrain,Ytrain,epochs = epochs,validation_data = (Xval,Yval),batch_size=batch_size)"
   ]
  },
  {
   "cell_type": "code",
   "execution_count": 19,
   "metadata": {},
   "outputs": [
    {
     "name": "stdout",
     "output_type": "stream",
     "text": [
      "12/12 [==============================] - 0s 5ms/step - loss: 0.1708 - accuracy: 0.9099\n",
      "Test loss: 0.1708\n",
      "Test accuracy: 0.9099\n"
     ]
    }
   ],
   "source": [
    "# Evaluate the model on the test data\n",
    "score = model1.evaluate(Xtest, Ytest, batch_size=batch_size)\n",
    "\n",
    "\n",
    "print('Test loss: %.4f' % score[0])\n",
    "print('Test accuracy: %.4f' % score[1])"
   ]
  },
  {
   "cell_type": "code",
   "execution_count": 20,
   "metadata": {},
   "outputs": [
    {
     "data": {
      "image/png": "[encoded data removed]",
      "text/plain": [
       "<Figure size 720x288 with 1 Axes>"
      ]
     },
     "metadata": {
      "needs_background": "light"
     },
     "output_type": "display_data"
    },
    {
     "data": {
      "image/png": "[encoded data removed]",
      "text/plain": [
       "<Figure size 720x288 with 1 Axes>"
      ]
     },
     "metadata": {
      "needs_background": "light"
     },
     "output_type": "display_data"
    }
   ],
   "source": [
    "# Plot the history from the training run\n",
    "plot_results(history1)"
   ]
  },
  {
   "cell_type": "markdown",
   "metadata": {},
   "source": [
    "# Part 11: More questions\n",
    "\n",
    "Question 8: What happens if you add several Dense layers without specifying the activation function\n",
    "\n",
    "Answer)\n",
    "without activation function the model will perform like a linear model.In such case we can expect the network to perform a regression model.and all dense layers can then be replaced with a single dense layer\n",
    "\n",
    "Question 9: How are the weights in each dense layer initialized as default? How are the bias weights initialized?\n",
    "\n",
    "Answer)\n",
    "Weight and bias initialization for each layer can be set via kernel_initializer and bias_initializer keyword arguments respectively within layers.Dense(). If undefined by user, default settings of kernel_initializer='glorot_uniform' and bias_initializer='zeros' are applied. [How to initialize biases in a Keras model?](https://stackoverflow.com/questions/40708169/how-to-initialize-biases-in-a-keras-model/44148506#:~:text=Weight%20and%20bias%20initialization%20for,bias_initializer%3D'zeros'%20are%20applied.)\n"
   ]
  },
  {
   "cell_type": "markdown",
   "metadata": {},
   "source": [
    "# Part 12: Balancing the classes\n",
    "\n",
    "This dataset is rather unbalanced, we need to define class weights so that the training pays more attention to the class with fewer samples. We use a function in scikit learn\n",
    "\n",
    "https://scikit-learn.org/stable/modules/generated/sklearn.utils.class_weight.compute_class_weight.html"
   ]
  },
  {
   "cell_type": "code",
   "execution_count": 21,
   "metadata": {},
   "outputs": [
    {
     "name": "stdout",
     "output_type": "stream",
     "text": [
      "[3.13728768 0.59479436]\n",
      "{0: 3.14031421, 1: 0.5946857}\n"
     ]
    }
   ],
   "source": [
    "from sklearn.utils import class_weight\n",
    "\n",
    "# Calculate class weights\n",
    "\n",
    "classWeight = class_weight.compute_class_weight('balanced', np.unique(Ytrain), Ytrain)\n",
    "\n",
    "# Print the class weights\n",
    "print(classWeight)\n",
    "# Keras wants the weights in this form, uncomment and change value1 and value2 to your weights, \n",
    "# or get them from the array that is returned from class_weight\n",
    "\n",
    "class_weights= {0: 3.14031421,\n",
    "            1:  0.5946857}\n",
    "print(class_weights)"
   ]
  },
  {
   "cell_type": "markdown",
   "metadata": {},
   "source": [
    "### 2 layers, 20 nodes, class weights"
   ]
  },
  {
   "cell_type": "code",
   "execution_count": 22,
   "metadata": {
    "scrolled": true
   },
   "outputs": [
    {
     "name": "stdout",
     "output_type": "stream",
     "text": [
      "WARNING:tensorflow:From D:\\Anaconda3\\envs\\tf1\\lib\\site-packages\\tensorflow\\python\\ops\\array_ops.py:5043: calling gather (from tensorflow.python.ops.array_ops) with validate_indices is deprecated and will be removed in a future version.\n",
      "Instructions for updating:\n",
      "The `validate_indices` argument has no effect. Indices are always validated on CPU and never validated on GPU.\n",
      "Epoch 1/20\n",
      "54/54 [==============================] - 1s 10ms/step - loss: 0.2063 - accuracy: 0.9002 - val_loss: 0.2358 - val_accuracy: 0.8978\n",
      "Epoch 2/20\n",
      "54/54 [==============================] - 1s 9ms/step - loss: 0.1930 - accuracy: 0.8982 - val_loss: 0.2374 - val_accuracy: 0.8985\n",
      "Epoch 3/20\n",
      "54/54 [==============================] - 0s 9ms/step - loss: 0.1914 - accuracy: 0.8989 - val_loss: 0.2368 - val_accuracy: 0.8991\n",
      "Epoch 4/20\n",
      "54/54 [==============================] - 0s 9ms/step - loss: 0.1901 - accuracy: 0.8995 - val_loss: 0.2355 - val_accuracy: 0.8997\n",
      "Epoch 5/20\n",
      "54/54 [==============================] - 0s 9ms/step - loss: 0.1889 - accuracy: 0.9000 - val_loss: 0.2344 - val_accuracy: 0.9001\n",
      "Epoch 6/20\n",
      "54/54 [==============================] - 1s 10ms/step - loss: 0.1879 - accuracy: 0.9005 - val_loss: 0.2333 - val_accuracy: 0.9009\n",
      "Epoch 7/20\n",
      "54/54 [==============================] - 0s 9ms/step - loss: 0.1870 - accuracy: 0.9015 - val_loss: 0.2339 - val_accuracy: 0.9017\n",
      "Epoch 8/20\n",
      "54/54 [==============================] - 1s 10ms/step - loss: 0.1861 - accuracy: 0.9023 - val_loss: 0.2319 - val_accuracy: 0.9030\n",
      "Epoch 9/20\n",
      "54/54 [==============================] - 0s 9ms/step - loss: 0.1854 - accuracy: 0.9035 - val_loss: 0.2314 - val_accuracy: 0.9042\n",
      "Epoch 10/20\n",
      "54/54 [==============================] - 1s 10ms/step - loss: 0.1847 - accuracy: 0.9045 - val_loss: 0.2307 - val_accuracy: 0.9051\n",
      "Epoch 11/20\n",
      "54/54 [==============================] - 0s 9ms/step - loss: 0.1840 - accuracy: 0.9054 - val_loss: 0.2305 - val_accuracy: 0.9059\n",
      "Epoch 12/20\n",
      "54/54 [==============================] - 0s 9ms/step - loss: 0.1834 - accuracy: 0.9060 - val_loss: 0.2297 - val_accuracy: 0.9065\n",
      "Epoch 13/20\n",
      "54/54 [==============================] - 0s 9ms/step - loss: 0.1829 - accuracy: 0.9066 - val_loss: 0.2292 - val_accuracy: 0.9069\n",
      "Epoch 14/20\n",
      "54/54 [==============================] - 0s 9ms/step - loss: 0.1824 - accuracy: 0.9070 - val_loss: 0.2288 - val_accuracy: 0.9072\n",
      "Epoch 15/20\n",
      "54/54 [==============================] - 0s 9ms/step - loss: 0.1819 - accuracy: 0.9073 - val_loss: 0.2276 - val_accuracy: 0.9077\n",
      "Epoch 16/20\n",
      "54/54 [==============================] - 0s 8ms/step - loss: 0.1814 - accuracy: 0.9076 - val_loss: 0.2279 - val_accuracy: 0.9078\n",
      "Epoch 17/20\n",
      "54/54 [==============================] - 0s 8ms/step - loss: 0.1810 - accuracy: 0.9078 - val_loss: 0.2279 - val_accuracy: 0.9081\n",
      "Epoch 18/20\n",
      "54/54 [==============================] - 0s 8ms/step - loss: 0.1806 - accuracy: 0.9080 - val_loss: 0.2271 - val_accuracy: 0.9083\n",
      "Epoch 19/20\n",
      "54/54 [==============================] - 0s 9ms/step - loss: 0.1802 - accuracy: 0.9082 - val_loss: 0.2269 - val_accuracy: 0.9085\n",
      "Epoch 20/20\n",
      "54/54 [==============================] - 0s 9ms/step - loss: 0.1798 - accuracy: 0.9084 - val_loss: 0.2256 - val_accuracy: 0.9088\n"
     ]
    }
   ],
   "source": [
    "# Setup some training parameters\n",
    "batch_size = 10000\n",
    "epochs = 20\n",
    "nput_shape =(Xtrain.shape[1],) \n",
    "# Build the model\n",
    "model2 = build_DNN(input_shape=input_shape, n_layers=2, n_nodes=20, learning_rate=0.1)\n",
    "\n",
    "\n",
    "# Train the model, provide training data and validation data\n",
    "history2 = model1.fit(Xtrain,Ytrain,epochs = epochs,validation_data = (Xval,Yval),batch_size=batch_size,class_weight=class_weights)\n"
   ]
  },
  {
   "cell_type": "code",
   "execution_count": 23,
   "metadata": {},
   "outputs": [
    {
     "name": "stdout",
     "output_type": "stream",
     "text": [
      "3582/3582 [==============================] - 11s 3ms/step - loss: 0.6922 - accuracy: 0.4990 0s - loss: 0.6922 - ac\n",
      "Test loss: 0.6921\n",
      "Test accuracy: 0.5013\n"
     ]
    }
   ],
   "source": [
    "# Evaluate model on test data\n",
    "score = model2.evaluate(Xtest,Ytest)\n",
    "print('Test loss: %.4f' % score[0])\n",
    "print('Test accuracy: %.4f' % score[1])"
   ]
  },
  {
   "cell_type": "code",
   "execution_count": 24,
   "metadata": {},
   "outputs": [
    {
     "name": "stdout",
     "output_type": "stream",
     "text": [
      "Model: \"sequential_2\"\n",
      "_________________________________________________________________\n",
      "Layer (type)                 Output Shape              Param #   \n",
      "=================================================================\n",
      "dense_5 (Dense)              (None, 20)                1860      \n",
      "_________________________________________________________________\n",
      "dense_6 (Dense)              (None, 20)                420       \n",
      "_________________________________________________________________\n",
      "dense_7 (Dense)              (None, 1)                 21        \n",
      "=================================================================\n",
      "Total params: 2,301\n",
      "Trainable params: 2,301\n",
      "Non-trainable params: 0\n",
      "_________________________________________________________________\n"
     ]
    }
   ],
   "source": [
    "model2.summary()"
   ]
  },
  {
   "cell_type": "code",
   "execution_count": 25,
   "metadata": {},
   "outputs": [
    {
     "data": {
      "image/png": "[encoded data removed]",
      "text/plain": [
       "<Figure size 720x288 with 1 Axes>"
      ]
     },
     "metadata": {
      "needs_background": "light"
     },
     "output_type": "display_data"
    },
    {
     "data": {
      "image/png": "[encoded data removed]",
      "text/plain": [
       "<Figure size 720x288 with 1 Axes>"
      ]
     },
     "metadata": {
      "needs_background": "light"
     },
     "output_type": "display_data"
    }
   ],
   "source": [
    "plot_results(history2)"
   ]
  },
  {
   "cell_type": "markdown",
   "metadata": {},
   "source": [
    "# Part 13: More questions\n",
    "\n",
    "Skip questions 11 and 12 if you run on the CPU\n",
    "\n",
    "Question 10: Why do we have to use a batch size? Why can't we simply use all data at once? This is more relevant for even larger datasets.\n",
    "\n",
    "*Answer: training a Neural Network require large amount of data. Fitting all these data in memory is not always possible. That is why we use batch.Furthermore, Bat*\n",
    "Question 11: How busy is the GPU for a batch size of 100? How much GPU memory is used? Hint: run 'nvidia-smi' on the cloud computer a few times during training.\n",
    "\n",
    "Question 12: What is the processing time for one training epoch when the batch size is 100? What is the processing time for one epoch when the batch size is 1,000? What is the processing time for one epoch when the batch size is 10,000? Explain the results. \n",
    "\n",
    "Question 13: How many times are the weights in the DNN updated in each training epoch if the batch size is 100? How many times are the weights in the DNN updated in each training epoch if the batch size is 1,000? How many times are the weights in the DNN updated in each training epoch if the batch size is 10,000?  \n",
    "\n",
    "*answer*\n",
    "\n",
    "number of training examples / batch size gives the number of weight updates\n",
    "\n",
    "Question 14: What limits how large the batch size can be?\n",
    "\n",
    "*answer*\n",
    "\n",
    "How much of the data we can feed to  GPU .\n",
    "Question 15: Generally speaking, how is the learning rate related to the batch size? If the batch size is decreased, how should the learning rate be changed?\n",
    "\n",
    "*answer*\n",
    "\n",
    "Usually Small batch size required samller learning rate (otherwise we migh face gradient problems, ie. overshoot)as while large batch size should should use larger learning rate. \n",
    "\n",
    "Lets use a batch size of 10,000 from now on, and a learning rate of 0.1."
   ]
  },
  {
   "cell_type": "markdown",
   "metadata": {},
   "source": [
    "# Part 14: Increasing the complexity\n",
    "\n",
    "Lets try some different configurations of number of layers and number of nodes per layer.\n",
    "\n",
    "Question 16: How many trainable parameters does the network with 4 dense layers with 50 nodes each have, compared to the initial network with 2 layers and 20 nodes per layer? Hint: use model.summary()"
   ]
  },
  {
   "cell_type": "markdown",
   "metadata": {},
   "source": [
    "### 4 layers, 20 nodes, class weights"
   ]
  },
  {
   "cell_type": "code",
   "execution_count": 26,
   "metadata": {
    "scrolled": true
   },
   "outputs": [
    {
     "name": "stdout",
     "output_type": "stream",
     "text": [
      "Epoch 1/20\n",
      "54/54 [==============================] - 1s 14ms/step - loss: 0.6950 - accuracy: 0.7996 - val_loss: 0.6885 - val_accuracy: 0.8424\n",
      "Epoch 2/20\n",
      "54/54 [==============================] - 1s 9ms/step - loss: 0.6924 - accuracy: 0.6657 - val_loss: 0.6960 - val_accuracy: 0.1578\n",
      "Epoch 3/20\n",
      "54/54 [==============================] - 1s 10ms/step - loss: 0.6906 - accuracy: 0.6620 - val_loss: 0.6957 - val_accuracy: 0.1578\n",
      "Epoch 4/20\n",
      "54/54 [==============================] - 1s 10ms/step - loss: 0.6919 - accuracy: 0.4914 - val_loss: 0.6881 - val_accuracy: 0.8603\n",
      "Epoch 5/20\n",
      "54/54 [==============================] - 1s 10ms/step - loss: 0.6927 - accuracy: 0.6739 - val_loss: 0.6895 - val_accuracy: 0.8858\n",
      "Epoch 6/20\n",
      "54/54 [==============================] - 1s 10ms/step - loss: 0.6899 - accuracy: 0.8498 - val_loss: 0.6928 - val_accuracy: 0.4081\n",
      "Epoch 7/20\n",
      "54/54 [==============================] - 1s 11ms/step - loss: 0.6887 - accuracy: 0.8398 - val_loss: 0.6866 - val_accuracy: 0.8896\n",
      "Epoch 8/20\n",
      "54/54 [==============================] - 1s 10ms/step - loss: 0.6895 - accuracy: 0.8759 - val_loss: 0.6875 - val_accuracy: 0.8863\n",
      "Epoch 9/20\n",
      "54/54 [==============================] - 0s 9ms/step - loss: 0.6867 - accuracy: 0.8809 - val_loss: 0.6825 - val_accuracy: 0.8924\n",
      "Epoch 10/20\n",
      "54/54 [==============================] - 1s 11ms/step - loss: 0.6859 - accuracy: 0.8837 - val_loss: 0.6816 - val_accuracy: 0.8932\n",
      "Epoch 11/20\n",
      "54/54 [==============================] - 1s 10ms/step - loss: 0.6830 - accuracy: 0.8884 - val_loss: 0.6777 - val_accuracy: 0.8935\n",
      "Epoch 12/20\n",
      "54/54 [==============================] - 1s 10ms/step - loss: 0.6796 - accuracy: 0.8878 - val_loss: 0.6795 - val_accuracy: 0.8779\n",
      "Epoch 13/20\n",
      "54/54 [==============================] - 0s 9ms/step - loss: 0.6745 - accuracy: 0.8840 - val_loss: 0.6731 - val_accuracy: 0.8789\n",
      "Epoch 14/20\n",
      "54/54 [==============================] - 1s 10ms/step - loss: 0.6698 - accuracy: 0.8800 - val_loss: 0.6588 - val_accuracy: 0.8854\n",
      "Epoch 15/20\n",
      "54/54 [==============================] - 1s 10ms/step - loss: 0.6571 - accuracy: 0.8841 - val_loss: 0.6454 - val_accuracy: 0.8819\n",
      "Epoch 16/20\n",
      "54/54 [==============================] - 1s 9ms/step - loss: 0.6389 - accuracy: 0.8818 - val_loss: 0.6159 - val_accuracy: 0.8810\n",
      "Epoch 17/20\n",
      "54/54 [==============================] - 1s 10ms/step - loss: 0.6055 - accuracy: 0.8805 - val_loss: 0.5603 - val_accuracy: 0.8804\n",
      "Epoch 18/20\n",
      "54/54 [==============================] - 1s 10ms/step - loss: 0.5405 - accuracy: 0.8808 - val_loss: 0.4736 - val_accuracy: 0.8797\n",
      "Epoch 19/20\n",
      "54/54 [==============================] - 1s 10ms/step - loss: 0.4401 - accuracy: 0.8795 - val_loss: 0.3727 - val_accuracy: 0.8794\n",
      "Epoch 20/20\n",
      "54/54 [==============================] - 1s 10ms/step - loss: 0.3348 - accuracy: 0.8797 - val_loss: 0.3104 - val_accuracy: 0.8796\n"
     ]
    }
   ],
   "source": [
    "# Setup some training parameters\n",
    "batch_size = 10000\n",
    "epochs = 20\n",
    "input_shape = (Xtrain.shape[1],) \n",
    "\n",
    "# Build and train model\n",
    "model3 = build_DNN(input_shape=input_shape, n_layers=4, n_nodes=20, learning_rate=0.1)\n",
    "\n",
    "history3 =  model3.fit(Xtrain,Ytrain,epochs = epochs,validation_data = (Xval,Yval),batch_size=batch_size,class_weight=class_weights)\n"
   ]
  },
  {
   "cell_type": "code",
   "execution_count": 27,
   "metadata": {},
   "outputs": [
    {
     "name": "stdout",
     "output_type": "stream",
     "text": [
      "3582/3582 [==============================] - 12s 3ms/step - loss: 0.3077 - accuracy: 0.8816\n",
      "Test loss: 0.3077\n",
      "Test accuracy: 0.8816\n"
     ]
    }
   ],
   "source": [
    "# Evaluate model on test data\n",
    "score =  model3.evaluate(Xtest,Ytest)\n",
    "print('Test loss: %.4f' % score[0])\n",
    "print('Test accuracy: %.4f' % score[1])\n",
    "\n"
   ]
  },
  {
   "cell_type": "code",
   "execution_count": 28,
   "metadata": {},
   "outputs": [
    {
     "name": "stdout",
     "output_type": "stream",
     "text": [
      "Model: \"sequential_3\"\n",
      "_________________________________________________________________\n",
      "Layer (type)                 Output Shape              Param #   \n",
      "=================================================================\n",
      "dense_8 (Dense)              (None, 20)                1860      \n",
      "_________________________________________________________________\n",
      "dense_9 (Dense)              (None, 20)                420       \n",
      "_________________________________________________________________\n",
      "dense_10 (Dense)             (None, 20)                420       \n",
      "_________________________________________________________________\n",
      "dense_11 (Dense)             (None, 20)                420       \n",
      "_________________________________________________________________\n",
      "dense_12 (Dense)             (None, 1)                 21        \n",
      "=================================================================\n",
      "Total params: 3,141\n",
      "Trainable params: 3,141\n",
      "Non-trainable params: 0\n",
      "_________________________________________________________________\n"
     ]
    }
   ],
   "source": [
    "model3.summary()"
   ]
  },
  {
   "cell_type": "code",
   "execution_count": 29,
   "metadata": {},
   "outputs": [
    {
     "data": {
      "image/png": "[encoded data removed]",
      "text/plain": [
       "<Figure size 720x288 with 1 Axes>"
      ]
     },
     "metadata": {
      "needs_background": "light"
     },
     "output_type": "display_data"
    },
    {
     "data": {
      "image/png": "[encoded data removed]",
      "text/plain": [
       "<Figure size 720x288 with 1 Axes>"
      ]
     },
     "metadata": {
      "needs_background": "light"
     },
     "output_type": "display_data"
    }
   ],
   "source": [
    "plot_results(history3)"
   ]
  },
  {
   "cell_type": "markdown",
   "metadata": {},
   "source": [
    "### 2 layers, 50 nodes, class weights"
   ]
  },
  {
   "cell_type": "code",
   "execution_count": 30,
   "metadata": {
    "scrolled": true
   },
   "outputs": [
    {
     "name": "stdout",
     "output_type": "stream",
     "text": [
      "Epoch 1/20\n",
      "54/54 [==============================] - 1s 12ms/step - loss: 0.6334 - accuracy: 0.8740 - val_loss: 0.4995 - val_accuracy: 0.8822\n",
      "Epoch 2/20\n",
      "54/54 [==============================] - 1s 10ms/step - loss: 0.4375 - accuracy: 0.8823 - val_loss: 0.3306 - val_accuracy: 0.8820\n",
      "Epoch 3/20\n",
      "54/54 [==============================] - 0s 9ms/step - loss: 0.2836 - accuracy: 0.8825 - val_loss: 0.2819 - val_accuracy: 0.8826\n",
      "Epoch 4/20\n",
      "54/54 [==============================] - 1s 10ms/step - loss: 0.2357 - accuracy: 0.8834 - val_loss: 0.2661 - val_accuracy: 0.8854\n",
      "Epoch 5/20\n",
      "54/54 [==============================] - 1s 9ms/step - loss: 0.2195 - accuracy: 0.8870 - val_loss: 0.2594 - val_accuracy: 0.8894\n",
      "Epoch 6/20\n",
      "54/54 [==============================] - 1s 10ms/step - loss: 0.2127 - accuracy: 0.8905 - val_loss: 0.2551 - val_accuracy: 0.8922\n",
      "Epoch 7/20\n",
      "54/54 [==============================] - 1s 11ms/step - loss: 0.2063 - accuracy: 0.8935 - val_loss: 0.2513 - val_accuracy: 0.8937\n",
      "Epoch 8/20\n",
      "54/54 [==============================] - 1s 11ms/step - loss: 0.2034 - accuracy: 0.8944 - val_loss: 0.2496 - val_accuracy: 0.8949\n",
      "Epoch 9/20\n",
      "54/54 [==============================] - 1s 11ms/step - loss: 0.2007 - accuracy: 0.8956 - val_loss: 0.2455 - val_accuracy: 0.8962\n",
      "Epoch 10/20\n",
      "54/54 [==============================] - 1s 10ms/step - loss: 0.1982 - accuracy: 0.8962 - val_loss: 0.2431 - val_accuracy: 0.8966\n",
      "Epoch 11/20\n",
      "54/54 [==============================] - 1s 10ms/step - loss: 0.1956 - accuracy: 0.8971 - val_loss: 0.2414 - val_accuracy: 0.8971\n",
      "Epoch 12/20\n",
      "54/54 [==============================] - 1s 10ms/step - loss: 0.1930 - accuracy: 0.8983 - val_loss: 0.2368 - val_accuracy: 0.8977\n",
      "Epoch 13/20\n",
      "54/54 [==============================] - 1s 9ms/step - loss: 0.1916 - accuracy: 0.8985 - val_loss: 0.2363 - val_accuracy: 0.8983\n",
      "Epoch 14/20\n",
      "54/54 [==============================] - 1s 9ms/step - loss: 0.1914 - accuracy: 0.8980 - val_loss: 0.2372 - val_accuracy: 0.8987\n",
      "Epoch 15/20\n",
      "54/54 [==============================] - 1s 10ms/step - loss: 0.1896 - accuracy: 0.8989 - val_loss: 0.2351 - val_accuracy: 0.8995\n",
      "Epoch 16/20\n",
      "54/54 [==============================] - 1s 10ms/step - loss: 0.1885 - accuracy: 0.8997 - val_loss: 0.2341 - val_accuracy: 0.9002\n",
      "Epoch 17/20\n",
      "54/54 [==============================] - 0s 9ms/step - loss: 0.1871 - accuracy: 0.9006 - val_loss: 0.2329 - val_accuracy: 0.9010\n",
      "Epoch 18/20\n",
      "54/54 [==============================] - 0s 9ms/step - loss: 0.1859 - accuracy: 0.9015 - val_loss: 0.2313 - val_accuracy: 0.9018\n",
      "Epoch 19/20\n",
      "54/54 [==============================] - 1s 9ms/step - loss: 0.1845 - accuracy: 0.9025 - val_loss: 0.2289 - val_accuracy: 0.9025\n",
      "Epoch 20/20\n",
      "54/54 [==============================] - 0s 9ms/step - loss: 0.1850 - accuracy: 0.9022 - val_loss: 0.2302 - val_accuracy: 0.9028\n"
     ]
    }
   ],
   "source": [
    "# Setup some training parameters\n",
    "batch_size = 10000\n",
    "epochs = 20\n",
    "input_shape = (Xtrain.shape[1],) \n",
    "\n",
    "\n",
    "# Build and train model\n",
    "model4 = build_DNN(input_shape=input_shape, n_layers=2, n_nodes=50, learning_rate=0.1)\n",
    "\n",
    "history4 = model4.fit(Xtrain,Ytrain,epochs = epochs,validation_data = (Xval,Yval),batch_size=batch_size,class_weight=class_weights)\n"
   ]
  },
  {
   "cell_type": "code",
   "execution_count": 31,
   "metadata": {},
   "outputs": [
    {
     "name": "stdout",
     "output_type": "stream",
     "text": [
      "3582/3582 [==============================] - 12s 3ms/step - loss: 0.2264 - accuracy: 0.9047\n",
      "Test loss: 0.2264\n",
      "Test accuracy: 0.9047\n"
     ]
    }
   ],
   "source": [
    "# Evaluate model on test data\n",
    "score =  model4.evaluate(Xtest,Ytest)\n",
    "print('Test loss: %.4f' % score[0])\n",
    "print('Test accuracy: %.4f' % score[1])\n",
    "\n"
   ]
  },
  {
   "cell_type": "code",
   "execution_count": 32,
   "metadata": {},
   "outputs": [
    {
     "data": {
      "image/png": "[encoded data removed]",
      "text/plain": [
       "<Figure size 720x288 with 1 Axes>"
      ]
     },
     "metadata": {
      "needs_background": "light"
     },
     "output_type": "display_data"
    },
    {
     "data": {
      "image/png": "[encoded data removed]",
      "text/plain": [
       "<Figure size 720x288 with 1 Axes>"
      ]
     },
     "metadata": {
      "needs_background": "light"
     },
     "output_type": "display_data"
    }
   ],
   "source": [
    "plot_results(history4)"
   ]
  },
  {
   "cell_type": "code",
   "execution_count": 33,
   "metadata": {},
   "outputs": [
    {
     "name": "stdout",
     "output_type": "stream",
     "text": [
      "Model: \"sequential_4\"\n",
      "_________________________________________________________________\n",
      "Layer (type)                 Output Shape              Param #   \n",
      "=================================================================\n",
      "dense_13 (Dense)             (None, 50)                4650      \n",
      "_________________________________________________________________\n",
      "dense_14 (Dense)             (None, 50)                2550      \n",
      "_________________________________________________________________\n",
      "dense_15 (Dense)             (None, 1)                 51        \n",
      "=================================================================\n",
      "Total params: 7,251\n",
      "Trainable params: 7,251\n",
      "Non-trainable params: 0\n",
      "_________________________________________________________________\n"
     ]
    }
   ],
   "source": [
    "model4.summary()"
   ]
  },
  {
   "cell_type": "markdown",
   "metadata": {},
   "source": [
    "### 4 layers, 50 nodes, class weights"
   ]
  },
  {
   "cell_type": "code",
   "execution_count": 34,
   "metadata": {
    "scrolled": true
   },
   "outputs": [
    {
     "name": "stdout",
     "output_type": "stream",
     "text": [
      "Epoch 1/20\n",
      "54/54 [==============================] - 1s 18ms/step - loss: 0.6997 - accuracy: 0.2983 - val_loss: 0.6901 - val_accuracy: 0.8354\n",
      "Epoch 2/20\n",
      "54/54 [==============================] - 1s 11ms/step - loss: 0.6934 - accuracy: 0.4937 - val_loss: 0.6895 - val_accuracy: 0.8465\n",
      "Epoch 3/20\n",
      "54/54 [==============================] - 1s 11ms/step - loss: 0.6921 - accuracy: 0.6258 - val_loss: 0.6921 - val_accuracy: 0.8747\n",
      "Epoch 4/20\n",
      "54/54 [==============================] - 1s 12ms/step - loss: 0.6900 - accuracy: 0.7461 - val_loss: 0.6863 - val_accuracy: 0.8647\n",
      "Epoch 5/20\n",
      "54/54 [==============================] - 1s 10ms/step - loss: 0.6904 - accuracy: 0.6976 - val_loss: 0.6782 - val_accuracy: 0.8433\n",
      "Epoch 6/20\n",
      "54/54 [==============================] - 1s 11ms/step - loss: 0.6863 - accuracy: 0.8103 - val_loss: 0.6836 - val_accuracy: 0.8787\n",
      "Epoch 7/20\n",
      "54/54 [==============================] - 1s 10ms/step - loss: 0.6853 - accuracy: 0.8458 - val_loss: 0.6783 - val_accuracy: 0.8808\n",
      "Epoch 8/20\n",
      "54/54 [==============================] - 1s 11ms/step - loss: 0.6825 - accuracy: 0.8505 - val_loss: 0.6772 - val_accuracy: 0.8831\n",
      "Epoch 9/20\n",
      "54/54 [==============================] - 1s 11ms/step - loss: 0.6761 - accuracy: 0.8810 - val_loss: 0.6585 - val_accuracy: 0.8855\n",
      "Epoch 10/20\n",
      "54/54 [==============================] - 1s 11ms/step - loss: 0.6690 - accuracy: 0.8829 - val_loss: 0.6608 - val_accuracy: 0.8810\n",
      "Epoch 11/20\n",
      "54/54 [==============================] - 1s 11ms/step - loss: 0.6544 - accuracy: 0.8824 - val_loss: 0.6414 - val_accuracy: 0.8818\n",
      "Epoch 12/20\n",
      "54/54 [==============================] - 1s 11ms/step - loss: 0.6288 - accuracy: 0.8820 - val_loss: 0.6064 - val_accuracy: 0.8796\n",
      "Epoch 13/20\n",
      "54/54 [==============================] - 1s 12ms/step - loss: 0.5757 - accuracy: 0.8817 - val_loss: 0.5032 - val_accuracy: 0.8826\n",
      "Epoch 14/20\n",
      "54/54 [==============================] - 1s 11ms/step - loss: 0.4728 - accuracy: 0.8816 - val_loss: 0.3884 - val_accuracy: 0.8797\n",
      "Epoch 15/20\n",
      "54/54 [==============================] - 1s 10ms/step - loss: 0.3408 - accuracy: 0.8800 - val_loss: 0.3052 - val_accuracy: 0.8800\n",
      "Epoch 16/20\n",
      "54/54 [==============================] - 1s 11ms/step - loss: 0.2634 - accuracy: 0.8801 - val_loss: 0.2812 - val_accuracy: 0.8805\n",
      "Epoch 17/20\n",
      "54/54 [==============================] - 1s 11ms/step - loss: 0.2343 - accuracy: 0.8811 - val_loss: 0.2684 - val_accuracy: 0.8821\n",
      "Epoch 18/20\n",
      "54/54 [==============================] - 1s 11ms/step - loss: 0.2207 - accuracy: 0.8835 - val_loss: 0.2620 - val_accuracy: 0.8858\n",
      "Epoch 19/20\n",
      "54/54 [==============================] - 1s 11ms/step - loss: 0.2138 - accuracy: 0.8871 - val_loss: 0.2597 - val_accuracy: 0.8886\n",
      "Epoch 20/20\n",
      "54/54 [==============================] - 1s 11ms/step - loss: 0.2099 - accuracy: 0.8896 - val_loss: 0.2549 - val_accuracy: 0.8913\n"
     ]
    }
   ],
   "source": [
    "# Setup some training parameters\n",
    "batch_size = 10000\n",
    "epochs = 20\n",
    "input_shape = (Xtrain.shape[1],) \n",
    "\n",
    "# Build and train model\n",
    "model5 = build_DNN(input_shape=input_shape, n_layers=4, n_nodes=50, learning_rate=0.1)\n",
    "\n",
    "\n",
    "\n",
    "history5  = model5.fit(Xtrain,Ytrain,epochs = epochs,validation_data = (Xval,Yval),batch_size=batch_size,class_weight=class_weights)\n"
   ]
  },
  {
   "cell_type": "code",
   "execution_count": 35,
   "metadata": {},
   "outputs": [
    {
     "name": "stdout",
     "output_type": "stream",
     "text": [
      "3582/3582 [==============================] - 13s 4ms/step - loss: 0.2512 - accuracy: 0.8936\n",
      "Test loss: 0.2512\n",
      "Test accuracy: 0.8936\n"
     ]
    }
   ],
   "source": [
    "# Evaluate model on test data\n",
    "score = model5.evaluate(Xtest,Ytest)\n",
    "print('Test loss: %.4f' % score[0])\n",
    "print('Test accuracy: %.4f' % score[1])\n",
    "\n",
    "\n",
    "\n"
   ]
  },
  {
   "cell_type": "code",
   "execution_count": 36,
   "metadata": {},
   "outputs": [
    {
     "data": {
      "image/png": "[encoded data removed]",
      "text/plain": [
       "<Figure size 720x288 with 1 Axes>"
      ]
     },
     "metadata": {
      "needs_background": "light"
     },
     "output_type": "display_data"
    },
    {
     "data": {
      "image/png": "[encoded data removed]",
      "text/plain": [
       "<Figure size 720x288 with 1 Axes>"
      ]
     },
     "metadata": {
      "needs_background": "light"
     },
     "output_type": "display_data"
    }
   ],
   "source": [
    "plot_results(history5)"
   ]
  },
  {
   "cell_type": "code",
   "execution_count": 37,
   "metadata": {},
   "outputs": [
    {
     "name": "stdout",
     "output_type": "stream",
     "text": [
      "Model: \"sequential_5\"\n",
      "_________________________________________________________________\n",
      "Layer (type)                 Output Shape              Param #   \n",
      "=================================================================\n",
      "dense_16 (Dense)             (None, 50)                4650      \n",
      "_________________________________________________________________\n",
      "dense_17 (Dense)             (None, 50)                2550      \n",
      "_________________________________________________________________\n",
      "dense_18 (Dense)             (None, 50)                2550      \n",
      "_________________________________________________________________\n",
      "dense_19 (Dense)             (None, 50)                2550      \n",
      "_________________________________________________________________\n",
      "dense_20 (Dense)             (None, 1)                 51        \n",
      "=================================================================\n",
      "Total params: 12,351\n",
      "Trainable params: 12,351\n",
      "Non-trainable params: 0\n",
      "_________________________________________________________________\n"
     ]
    }
   ],
   "source": [
    "model5.summary()"
   ]
  },
  {
   "cell_type": "markdown",
   "metadata": {},
   "source": [
    "# Part 15: Batch normalization\n",
    "\n",
    "Now add batch normalization after each dense layer in `build_DNN`. Remember to import BatchNormalization from keras.layers. \n",
    "\n",
    "See https://keras.io/layers/normalization/ for information about how to call the function.\n",
    "\n",
    "Question 17: Why is batch normalization important when training deep networks?\n",
    "\n",
    "*Answer*\n",
    "\n",
    " batch normalization makes the network more stable during training phase.\n",
    " in my opinion using batch normalization could also help with the problem of Exploding gradients. So, by using batch normalization we will have a better chance at optimization."
   ]
  },
  {
   "cell_type": "markdown",
   "metadata": {},
   "source": [
    "### 2 layers, 20 nodes, class weights, batch normalization"
   ]
  },
  {
   "cell_type": "code",
   "execution_count": 38,
   "metadata": {
    "scrolled": true
   },
   "outputs": [
    {
     "name": "stdout",
     "output_type": "stream",
     "text": [
      "Epoch 1/20\n",
      "54/54 [==============================] - 2s 14ms/step - loss: 0.3698 - accuracy: 0.8239 - val_loss: 0.5523 - val_accuracy: 0.8481\n",
      "Epoch 2/20\n",
      "54/54 [==============================] - 1s 11ms/step - loss: 0.2210 - accuracy: 0.8976 - val_loss: 0.4024 - val_accuracy: 0.8422\n",
      "Epoch 3/20\n",
      "54/54 [==============================] - 1s 11ms/step - loss: 0.1997 - accuracy: 0.9053 - val_loss: 0.3508 - val_accuracy: 0.8422\n",
      "Epoch 4/20\n",
      "54/54 [==============================] - 1s 10ms/step - loss: 0.1903 - accuracy: 0.9081 - val_loss: 0.3234 - val_accuracy: 0.8422\n",
      "Epoch 5/20\n",
      "54/54 [==============================] - 1s 10ms/step - loss: 0.1847 - accuracy: 0.9096 - val_loss: 0.3018 - val_accuracy: 0.8422\n",
      "Epoch 6/20\n",
      "54/54 [==============================] - 1s 11ms/step - loss: 0.1811 - accuracy: 0.9106 - val_loss: 0.2773 - val_accuracy: 0.8422\n",
      "Epoch 7/20\n",
      "54/54 [==============================] - 1s 10ms/step - loss: 0.1783 - accuracy: 0.9118 - val_loss: 0.2413 - val_accuracy: 0.8424\n",
      "Epoch 8/20\n",
      "54/54 [==============================] - 1s 10ms/step - loss: 0.1764 - accuracy: 0.9125 - val_loss: 0.2049 - val_accuracy: 0.8512\n",
      "Epoch 9/20\n",
      "54/54 [==============================] - 1s 10ms/step - loss: 0.1755 - accuracy: 0.9121 - val_loss: 0.1772 - val_accuracy: 0.8989\n",
      "Epoch 10/20\n",
      "54/54 [==============================] - 1s 11ms/step - loss: 0.1733 - accuracy: 0.9131 - val_loss: 0.1652 - val_accuracy: 0.9170\n",
      "Epoch 11/20\n",
      "54/54 [==============================] - 1s 10ms/step - loss: 0.1716 - accuracy: 0.9134 - val_loss: 0.1670 - val_accuracy: 0.9165\n",
      "Epoch 12/20\n",
      "54/54 [==============================] - 1s 10ms/step - loss: 0.1704 - accuracy: 0.9142 - val_loss: 0.1720 - val_accuracy: 0.9164\n",
      "Epoch 13/20\n",
      "54/54 [==============================] - 1s 11ms/step - loss: 0.1686 - accuracy: 0.9147 - val_loss: 0.1859 - val_accuracy: 0.9157\n",
      "Epoch 14/20\n",
      "54/54 [==============================] - 0s 9ms/step - loss: 0.1691 - accuracy: 0.9140 - val_loss: 0.1998 - val_accuracy: 0.9155\n",
      "Epoch 15/20\n",
      "54/54 [==============================] - 1s 10ms/step - loss: 0.1674 - accuracy: 0.9155 - val_loss: 0.2023 - val_accuracy: 0.9157\n",
      "Epoch 16/20\n",
      "54/54 [==============================] - 1s 10ms/step - loss: 0.1682 - accuracy: 0.9147 - val_loss: 0.2137 - val_accuracy: 0.9155\n",
      "Epoch 17/20\n",
      "54/54 [==============================] - 1s 11ms/step - loss: 0.1664 - accuracy: 0.9158 - val_loss: 0.1985 - val_accuracy: 0.9163\n",
      "Epoch 18/20\n",
      "54/54 [==============================] - 1s 10ms/step - loss: 0.1661 - accuracy: 0.9159 - val_loss: 0.2128 - val_accuracy: 0.9159\n",
      "Epoch 19/20\n",
      "54/54 [==============================] - 1s 11ms/step - loss: 0.1660 - accuracy: 0.9155 - val_loss: 0.2107 - val_accuracy: 0.9163\n",
      "Epoch 20/20\n",
      "54/54 [==============================] - 1s 10ms/step - loss: 0.1649 - accuracy: 0.9161 - val_loss: 0.2370 - val_accuracy: 0.9154\n"
     ]
    }
   ],
   "source": [
    "# Setup some training parameters\n",
    "from tensorflow.keras.layers import BatchNormalization\n",
    "batch_size = 10000\n",
    "epochs = 20\n",
    "input_shape = (Xtrain.shape[1],) \n",
    "\n",
    "# Build and train model\n",
    "model6 = build_DNN(input_shape=input_shape, n_layers=2, n_nodes=20, learning_rate=0.1,use_bn=True)\n",
    "history6  = model6.fit(Xtrain,Ytrain,epochs = epochs,validation_data = (Xval,Yval)\n",
    "                       ,batch_size=batch_size,class_weight=class_weights)\n"
   ]
  },
  {
   "cell_type": "code",
   "execution_count": 39,
   "metadata": {},
   "outputs": [
    {
     "name": "stdout",
     "output_type": "stream",
     "text": [
      "Model: \"sequential_6\"\n",
      "_________________________________________________________________\n",
      "Layer (type)                 Output Shape              Param #   \n",
      "=================================================================\n",
      "dense_21 (Dense)             (None, 20)                1860      \n",
      "_________________________________________________________________\n",
      "dense_22 (Dense)             (None, 20)                420       \n",
      "_________________________________________________________________\n",
      "batch_normalization (BatchNo (None, 20)                80        \n",
      "_________________________________________________________________\n",
      "dense_23 (Dense)             (None, 1)                 21        \n",
      "=================================================================\n",
      "Total params: 2,381\n",
      "Trainable params: 2,341\n",
      "Non-trainable params: 40\n",
      "_________________________________________________________________\n"
     ]
    }
   ],
   "source": [
    "model6.summary()"
   ]
  },
  {
   "cell_type": "code",
   "execution_count": 40,
   "metadata": {},
   "outputs": [
    {
     "name": "stdout",
     "output_type": "stream",
     "text": [
      "3582/3582 [==============================] - 13s 4ms/step - loss: 0.2330 - accuracy: 0.9170\n",
      "Test loss: 0.2330\n",
      "Test accuracy: 0.9170\n"
     ]
    }
   ],
   "source": [
    "# Evaluate model on test data\n",
    "score =  model6.evaluate(Xtest,Ytest)\n",
    "print('Test loss: %.4f' % score[0])\n",
    "print('Test accuracy: %.4f' % score[1])\n"
   ]
  },
  {
   "cell_type": "code",
   "execution_count": 41,
   "metadata": {},
   "outputs": [
    {
     "data": {
      "image/png": "[encoded data removed]",
      "text/plain": [
       "<Figure size 720x288 with 1 Axes>"
      ]
     },
     "metadata": {
      "needs_background": "light"
     },
     "output_type": "display_data"
    },
    {
     "data": {
      "image/png": "[encoded data removed]",
      "text/plain": [
       "<Figure size 720x288 with 1 Axes>"
      ]
     },
     "metadata": {
      "needs_background": "light"
     },
     "output_type": "display_data"
    }
   ],
   "source": [
    "plot_results(history6)"
   ]
  },
  {
   "cell_type": "markdown",
   "metadata": {},
   "source": [
    "# Part 16: Activation function\n",
    "\n",
    "Try changing the activation function in each layer from sigmoid to ReLU, write down the test accuracy.\n",
    "\n",
    "Note: the last layer should still have a sigmoid activation function.\n",
    "\n",
    "https://keras.io/api/layers/activations/"
   ]
  },
  {
   "cell_type": "markdown",
   "metadata": {},
   "source": [
    "### 2 layers, 20 nodes, class weights, ReLU, no batch normalization"
   ]
  },
  {
   "cell_type": "code",
   "execution_count": 42,
   "metadata": {
    "scrolled": true
   },
   "outputs": [
    {
     "name": "stdout",
     "output_type": "stream",
     "text": [
      "Epoch 1/20\n",
      "54/54 [==============================] - 1s 12ms/step - loss: 0.5090 - accuracy: 0.8451 - val_loss: 0.2413 - val_accuracy: 0.8936\n",
      "Epoch 2/20\n",
      "54/54 [==============================] - 0s 9ms/step - loss: 0.1838 - accuracy: 0.8984 - val_loss: 0.2211 - val_accuracy: 0.9084\n",
      "Epoch 3/20\n",
      "54/54 [==============================] - 0s 9ms/step - loss: 0.1717 - accuracy: 0.9096 - val_loss: 0.2029 - val_accuracy: 0.9142\n",
      "Epoch 4/20\n",
      "54/54 [==============================] - 0s 8ms/step - loss: 0.1652 - accuracy: 0.9140 - val_loss: 0.2076 - val_accuracy: 0.9163\n",
      "Epoch 5/20\n",
      "54/54 [==============================] - 0s 9ms/step - loss: 0.1608 - accuracy: 0.9165 - val_loss: 0.2020 - val_accuracy: 0.9180\n",
      "Epoch 6/20\n",
      "54/54 [==============================] - 1s 9ms/step - loss: 0.1602 - accuracy: 0.9174 - val_loss: 0.2059 - val_accuracy: 0.9174\n",
      "Epoch 7/20\n",
      "54/54 [==============================] - 0s 9ms/step - loss: 0.1593 - accuracy: 0.9173 - val_loss: 0.1923 - val_accuracy: 0.9192\n",
      "Epoch 8/20\n",
      "54/54 [==============================] - 0s 9ms/step - loss: 0.1578 - accuracy: 0.9181 - val_loss: 0.1816 - val_accuracy: 0.9200\n",
      "Epoch 9/20\n",
      "54/54 [==============================] - 0s 9ms/step - loss: 0.1553 - accuracy: 0.9190 - val_loss: 0.1779 - val_accuracy: 0.9211\n",
      "Epoch 10/20\n",
      "54/54 [==============================] - 0s 9ms/step - loss: 0.1559 - accuracy: 0.9192 - val_loss: 0.1753 - val_accuracy: 0.9218\n",
      "Epoch 11/20\n",
      "54/54 [==============================] - 1s 10ms/step - loss: 0.1562 - accuracy: 0.9201 - val_loss: 0.2161 - val_accuracy: 0.9197\n",
      "Epoch 12/20\n",
      "54/54 [==============================] - 0s 8ms/step - loss: 0.1570 - accuracy: 0.9199 - val_loss: 0.1913 - val_accuracy: 0.9208\n",
      "Epoch 13/20\n",
      "54/54 [==============================] - 0s 9ms/step - loss: 0.1504 - accuracy: 0.9213 - val_loss: 0.1958 - val_accuracy: 0.9216\n",
      "Epoch 14/20\n",
      "54/54 [==============================] - 0s 9ms/step - loss: 0.1507 - accuracy: 0.9215 - val_loss: 0.2063 - val_accuracy: 0.9201\n",
      "Epoch 15/20\n",
      "54/54 [==============================] - 0s 8ms/step - loss: 0.1486 - accuracy: 0.9212 - val_loss: 0.2007 - val_accuracy: 0.9227\n",
      "Epoch 16/20\n",
      "54/54 [==============================] - 0s 9ms/step - loss: 0.1490 - accuracy: 0.9228 - val_loss: 0.1793 - val_accuracy: 0.9220\n",
      "Epoch 17/20\n",
      "54/54 [==============================] - 0s 9ms/step - loss: 0.1479 - accuracy: 0.9209 - val_loss: 0.1826 - val_accuracy: 0.9198\n",
      "Epoch 18/20\n",
      "54/54 [==============================] - ETA: 0s - loss: 0.1597 - accuracy: 0.91 - 1s 9ms/step - loss: 0.1600 - accuracy: 0.9173 - val_loss: 0.2667 - val_accuracy: 0.9102\n",
      "Epoch 19/20\n",
      "54/54 [==============================] - 0s 9ms/step - loss: 0.2539 - accuracy: 0.9010 - val_loss: 0.2596 - val_accuracy: 0.9004\n",
      "Epoch 20/20\n",
      "54/54 [==============================] - 0s 9ms/step - loss: 0.1780 - accuracy: 0.9095 - val_loss: 0.2396 - val_accuracy: 0.9132\n"
     ]
    }
   ],
   "source": [
    "# Setup some training parameters\n",
    "batch_size = 10000\n",
    "epochs = 20\n",
    "input_shape =(Xtrain.shape[1],)\n",
    "\n",
    "\n",
    "# Build and train model\n",
    "model7 = build_DNN(act_fun='relu',input_shape=input_shape, n_layers=2, n_nodes=20, learning_rate=0.1,optimizer='adam')\n",
    "\n",
    "history7 = model7.fit(Xtrain,Ytrain,epochs=epochs,validation_data=(Xval,Yval),batch_size=batch_size,class_weight=class_weights)"
   ]
  },
  {
   "cell_type": "code",
   "execution_count": 43,
   "metadata": {},
   "outputs": [
    {
     "name": "stdout",
     "output_type": "stream",
     "text": [
      "3582/3582 [==============================] - 11s 3ms/step - loss: 0.2345 - accuracy: 0.9151\n",
      "Test loss: 0.2345\n",
      "Test accuracy: 0.9151\n"
     ]
    }
   ],
   "source": [
    "# Evaluate model on test data\n",
    "score =model7.evaluate(Xtest,Ytest)\n",
    "\n",
    "print('Test loss: %.4f' % score[0])\n",
    "print('Test accuracy: %.4f' % score[1])"
   ]
  },
  {
   "cell_type": "code",
   "execution_count": 44,
   "metadata": {},
   "outputs": [
    {
     "data": {
      "image/png": "[encoded data removed]",
      "text/plain": [
       "<Figure size 720x288 with 1 Axes>"
      ]
     },
     "metadata": {
      "needs_background": "light"
     },
     "output_type": "display_data"
    },
    {
     "data": {
      "image/png": "[encoded data removed]",
      "text/plain": [
       "<Figure size 720x288 with 1 Axes>"
      ]
     },
     "metadata": {
      "needs_background": "light"
     },
     "output_type": "display_data"
    }
   ],
   "source": [
    "plot_results(history7)"
   ]
  },
  {
   "cell_type": "markdown",
   "metadata": {},
   "source": [
    "# Part 17: Optimizer\n",
    "\n",
    "Try changing the optimizer from SGD to Adam (with learning rate 0.1 as before). Remember to import the Adam optimizer from keras.optimizers. \n",
    "\n",
    "https://keras.io/optimizers/\n"
   ]
  },
  {
   "cell_type": "markdown",
   "metadata": {},
   "source": [
    "### 2 layers, 20 nodes, class weights, Adam optimizer, no batch normalization, sigmoid activations"
   ]
  },
  {
   "cell_type": "code",
   "execution_count": 45,
   "metadata": {
    "scrolled": true
   },
   "outputs": [
    {
     "name": "stdout",
     "output_type": "stream",
     "text": [
      "Epoch 1/20\n",
      "54/54 [==============================] - 1s 14ms/step - loss: 0.3386 - accuracy: 0.7887 - val_loss: 0.2679 - val_accuracy: 0.8807\n",
      "Epoch 2/20\n",
      "54/54 [==============================] - 0s 9ms/step - loss: 0.2069 - accuracy: 0.8861 - val_loss: 0.2194 - val_accuracy: 0.9150\n",
      "Epoch 3/20\n",
      "54/54 [==============================] - 0s 8ms/step - loss: 0.1690 - accuracy: 0.9155 - val_loss: 0.2111 - val_accuracy: 0.9180\n",
      "Epoch 4/20\n",
      "54/54 [==============================] - 0s 8ms/step - loss: 0.1655 - accuracy: 0.9178 - val_loss: 0.2093 - val_accuracy: 0.9185\n",
      "Epoch 5/20\n",
      "54/54 [==============================] - 0s 8ms/step - loss: 0.1637 - accuracy: 0.9180 - val_loss: 0.2091 - val_accuracy: 0.9192\n",
      "Epoch 6/20\n",
      "54/54 [==============================] - 1s 9ms/step - loss: 0.1624 - accuracy: 0.9185 - val_loss: 0.2074 - val_accuracy: 0.9195\n",
      "Epoch 7/20\n",
      "54/54 [==============================] - 0s 9ms/step - loss: 0.1619 - accuracy: 0.9186 - val_loss: 0.1975 - val_accuracy: 0.9196\n",
      "Epoch 8/20\n",
      "54/54 [==============================] - 0s 9ms/step - loss: 0.1586 - accuracy: 0.9194 - val_loss: 0.1950 - val_accuracy: 0.9208\n",
      "Epoch 9/20\n",
      "54/54 [==============================] - 1s 10ms/step - loss: 0.1566 - accuracy: 0.9199 - val_loss: 0.1882 - val_accuracy: 0.9213\n",
      "Epoch 10/20\n",
      "54/54 [==============================] - 0s 8ms/step - loss: 0.1559 - accuracy: 0.9201 - val_loss: 0.2151 - val_accuracy: 0.9206\n",
      "Epoch 11/20\n",
      "54/54 [==============================] - 0s 9ms/step - loss: 0.1554 - accuracy: 0.9201 - val_loss: 0.1916 - val_accuracy: 0.9212\n",
      "Epoch 12/20\n",
      "54/54 [==============================] - 0s 9ms/step - loss: 0.1540 - accuracy: 0.9207 - val_loss: 0.1939 - val_accuracy: 0.9213\n",
      "Epoch 13/20\n",
      "54/54 [==============================] - 0s 8ms/step - loss: 0.1533 - accuracy: 0.9206 - val_loss: 0.1941 - val_accuracy: 0.9210\n",
      "Epoch 14/20\n",
      "54/54 [==============================] - 0s 8ms/step - loss: 0.1514 - accuracy: 0.9207 - val_loss: 0.1955 - val_accuracy: 0.9198\n",
      "Epoch 15/20\n",
      "54/54 [==============================] - 0s 9ms/step - loss: 0.1541 - accuracy: 0.9204 - val_loss: 0.1885 - val_accuracy: 0.9216\n",
      "Epoch 16/20\n",
      "54/54 [==============================] - 0s 9ms/step - loss: 0.1520 - accuracy: 0.9211 - val_loss: 0.1909 - val_accuracy: 0.9232\n",
      "Epoch 17/20\n",
      "54/54 [==============================] - 0s 9ms/step - loss: 0.1532 - accuracy: 0.9207 - val_loss: 0.1879 - val_accuracy: 0.9217\n",
      "Epoch 18/20\n",
      "54/54 [==============================] - 0s 9ms/step - loss: 0.1511 - accuracy: 0.9221 - val_loss: 0.1835 - val_accuracy: 0.9246\n",
      "Epoch 19/20\n",
      "54/54 [==============================] - 0s 9ms/step - loss: 0.1477 - accuracy: 0.9240 - val_loss: 0.2023 - val_accuracy: 0.9192\n",
      "Epoch 20/20\n",
      "54/54 [==============================] - 0s 9ms/step - loss: 0.1559 - accuracy: 0.9201 - val_loss: 0.1971 - val_accuracy: 0.9214\n"
     ]
    }
   ],
   "source": [
    "# Setup some training parameters\n",
    "batch_size = 10000\n",
    "epochs = 20\n",
    "input_shape =(Xtrain.shape[1],)\n",
    "\n",
    "\n",
    "# Build and train model\n",
    "model8  = build_DNN(input_shape=input_shape, n_layers=2, n_nodes=20, learning_rate=0.1,optimizer='adam')\n",
    "\n",
    "\n",
    "history8 =  model8.fit(Xtrain,Ytrain,epochs=epochs,validation_data=(Xval,Yval),batch_size=batch_size,class_weight=class_weights)"
   ]
  },
  {
   "cell_type": "code",
   "execution_count": 46,
   "metadata": {},
   "outputs": [
    {
     "name": "stdout",
     "output_type": "stream",
     "text": [
      "3582/3582 [==============================] - 11s 3ms/step - loss: 0.1951 - accuracy: 0.9223\n",
      "Test loss: 0.1951\n",
      "Test accuracy: 0.9223\n"
     ]
    }
   ],
   "source": [
    "# Evaluate model on test data\n",
    "score = model8.evaluate(Xtest,Ytest)\n",
    "\n",
    "print('Test loss: %.4f' % score[0])\n",
    "print('Test accuracy: %.4f' % score[1])"
   ]
  },
  {
   "cell_type": "code",
   "execution_count": 47,
   "metadata": {},
   "outputs": [
    {
     "data": {
      "image/png": "[encoded data removed]",
      "text/plain": [
       "<Figure size 720x288 with 1 Axes>"
      ]
     },
     "metadata": {
      "needs_background": "light"
     },
     "output_type": "display_data"
    },
    {
     "data": {
      "image/png": "[encoded data removed]",
      "text/plain": [
       "<Figure size 720x288 with 1 Axes>"
      ]
     },
     "metadata": {
      "needs_background": "light"
     },
     "output_type": "display_data"
    }
   ],
   "source": [
    "plot_results(history8)"
   ]
  },
  {
   "cell_type": "markdown",
   "metadata": {},
   "source": [
    "# Part 18: Dropout regularization\n",
    "\n",
    "Dropout is a type of regularization that can improve accuracy for validation and test data. \n",
    "\n",
    "\n",
    "Add a Dropout layer after each Dense layer (but not after the final dense layer) in `build_DNN`, with a dropout probability of 50%. Remember to first import the Dropout layer from keras.layers\n",
    "\n",
    "See https://keras.io/api/layers/regularization_layers/dropout/ for how the Dropout layer works.\n",
    "\n",
    "---\n",
    "\n",
    "Question 18: How does the validation accuracy change when adding dropout?\n",
    "\n",
    "The validation accuracy went slightly higher.(less than 1% improvement)\n",
    "\n",
    "Question 19: How does the test accuracy change when adding dropout?\n",
    "It slightly decreased ,(less than 1%)"
   ]
  },
  {
   "cell_type": "markdown",
   "metadata": {},
   "source": [
    "### 2 layers, 20 nodes, class weights, dropout, SGD optimizer, no batch normalization, sigmoid activations"
   ]
  },
  {
   "cell_type": "code",
   "execution_count": 48,
   "metadata": {
    "scrolled": true
   },
   "outputs": [
    {
     "name": "stdout",
     "output_type": "stream",
     "text": [
      "Epoch 1/20\n",
      "54/54 [==============================] - 1s 13ms/step - loss: 0.3648 - accuracy: 0.8322 - val_loss: 0.2182 - val_accuracy: 0.9102\n",
      "Epoch 2/20\n",
      "54/54 [==============================] - 1s 10ms/step - loss: 0.1831 - accuracy: 0.9108 - val_loss: 0.2029 - val_accuracy: 0.9165\n",
      "Epoch 3/20\n",
      "54/54 [==============================] - 0s 9ms/step - loss: 0.1700 - accuracy: 0.9152 - val_loss: 0.2032 - val_accuracy: 0.9175\n",
      "Epoch 4/20\n",
      "54/54 [==============================] - 0s 9ms/step - loss: 0.1646 - accuracy: 0.9162 - val_loss: 0.2035 - val_accuracy: 0.9175\n",
      "Epoch 5/20\n",
      "54/54 [==============================] - 0s 9ms/step - loss: 0.1622 - accuracy: 0.9170 - val_loss: 0.2050 - val_accuracy: 0.9196\n",
      "Epoch 6/20\n",
      "54/54 [==============================] - 1s 10ms/step - loss: 0.1599 - accuracy: 0.9187 - val_loss: 0.1899 - val_accuracy: 0.9204\n",
      "Epoch 7/20\n",
      "54/54 [==============================] - 0s 9ms/step - loss: 0.1582 - accuracy: 0.9190 - val_loss: 0.1937 - val_accuracy: 0.9204\n",
      "Epoch 8/20\n",
      "54/54 [==============================] - 0s 9ms/step - loss: 0.1579 - accuracy: 0.9184 - val_loss: 0.1928 - val_accuracy: 0.9204\n",
      "Epoch 9/20\n",
      "54/54 [==============================] - 0s 9ms/step - loss: 0.1566 - accuracy: 0.9187 - val_loss: 0.1982 - val_accuracy: 0.9179\n",
      "Epoch 10/20\n",
      "54/54 [==============================] - 0s 9ms/step - loss: 0.1561 - accuracy: 0.9187 - val_loss: 0.2025 - val_accuracy: 0.9192\n",
      "Epoch 11/20\n",
      "54/54 [==============================] - 0s 8ms/step - loss: 0.1552 - accuracy: 0.9189 - val_loss: 0.1908 - val_accuracy: 0.9202\n",
      "Epoch 12/20\n",
      "54/54 [==============================] - 0s 9ms/step - loss: 0.1527 - accuracy: 0.9197 - val_loss: 0.1892 - val_accuracy: 0.9202\n",
      "Epoch 13/20\n",
      "54/54 [==============================] - 0s 9ms/step - loss: 0.1528 - accuracy: 0.9197 - val_loss: 0.1899 - val_accuracy: 0.9195\n",
      "Epoch 14/20\n",
      "54/54 [==============================] - 1s 10ms/step - loss: 0.1525 - accuracy: 0.9198 - val_loss: 0.1933 - val_accuracy: 0.9192\n",
      "Epoch 15/20\n",
      "54/54 [==============================] - 0s 9ms/step - loss: 0.1523 - accuracy: 0.9197 - val_loss: 0.1840 - val_accuracy: 0.9245\n",
      "Epoch 16/20\n",
      "54/54 [==============================] - 0s 9ms/step - loss: 0.1519 - accuracy: 0.9214 - val_loss: 0.1906 - val_accuracy: 0.9219\n",
      "Epoch 17/20\n",
      "54/54 [==============================] - 1s 9ms/step - loss: 0.1519 - accuracy: 0.9204 - val_loss: 0.1948 - val_accuracy: 0.9180\n",
      "Epoch 18/20\n",
      "54/54 [==============================] - 0s 9ms/step - loss: 0.1513 - accuracy: 0.9204 - val_loss: 0.1991 - val_accuracy: 0.9183\n",
      "Epoch 19/20\n",
      "54/54 [==============================] - 0s 9ms/step - loss: 0.1576 - accuracy: 0.9193 - val_loss: 0.1940 - val_accuracy: 0.9211\n",
      "Epoch 20/20\n",
      "54/54 [==============================] - 0s 9ms/step - loss: 0.1555 - accuracy: 0.9196 - val_loss: 0.1941 - val_accuracy: 0.9208\n"
     ]
    }
   ],
   "source": [
    "# Setup some training parameters\n",
    "batch_size = 10000\n",
    "epochs = 20\n",
    "input_shape =(Xtrain.shape[1],)\n",
    "\n",
    "# Build and train model\n",
    "model9 = build_DNN(input_shape=input_shape, n_layers=2, n_nodes=20, learning_rate=0.1,use_dropout=True,optimizer='adam')\n",
    "\n",
    "history9 =  model9.fit(Xtrain,Ytrain,epochs=epochs,validation_data=(Xval,Yval),batch_size=batch_size,class_weight=class_weights)"
   ]
  },
  {
   "cell_type": "code",
   "execution_count": 49,
   "metadata": {},
   "outputs": [
    {
     "name": "stdout",
     "output_type": "stream",
     "text": [
      "3582/3582 [==============================] - 11s 3ms/step - loss: 0.1915 - accuracy: 0.9219\n",
      "Test loss: 0.1915\n",
      "Test accuracy: 0.9219\n"
     ]
    }
   ],
   "source": [
    "# Evaluate model on test data\n",
    "score = model9.evaluate(Xtest,Ytest)\n",
    "\n",
    "print('Test loss: %.4f' % score[0])\n",
    "print('Test accuracy: %.4f' % score[1])"
   ]
  },
  {
   "cell_type": "code",
   "execution_count": 50,
   "metadata": {},
   "outputs": [
    {
     "data": {
      "image/png": "[encoded data removed]",
      "text/plain": [
       "<Figure size 720x288 with 1 Axes>"
      ]
     },
     "metadata": {
      "needs_background": "light"
     },
     "output_type": "display_data"
    },
    {
     "data": {
      "image/png": "[encoded data removed]",
      "text/plain": [
       "<Figure size 720x288 with 1 Axes>"
      ]
     },
     "metadata": {
      "needs_background": "light"
     },
     "output_type": "display_data"
    }
   ],
   "source": [
    "plot_results(history9)"
   ]
  },
  {
   "cell_type": "markdown",
   "metadata": {},
   "source": [
    "# Part 19: Improving performance\n",
    "\n",
    "Spend some time (30 - 90 minutes) playing with the network architecture (number of layers, number of nodes per layer, activation function) and other hyper parameters (optimizer, learning rate, batch size, number of epochs, degree of regularization). For example, try a much deeper network. How much does the training time increase for a network with 10 layers?\n",
    "\n",
    "Question 20: How high classification accuracy can you achieve for the test data? What is your best configuration?\n",
    "$0.9319%$ accuracy on test set with 20 node and 2 layer."
   ]
  },
  {
   "cell_type": "code",
   "execution_count": 51,
   "metadata": {
    "scrolled": true
   },
   "outputs": [
    {
     "name": "stdout",
     "output_type": "stream",
     "text": [
      "Epoch 1/20\n",
      "54/54 [==============================] - 1s 13ms/step - loss: 0.3531 - accuracy: 0.7910 - val_loss: 0.2468 - val_accuracy: 0.9013\n",
      "Epoch 2/20\n",
      "54/54 [==============================] - 0s 9ms/step - loss: 0.1797 - accuracy: 0.9074 - val_loss: 0.2173 - val_accuracy: 0.9151\n",
      "Epoch 3/20\n",
      "54/54 [==============================] - 0s 9ms/step - loss: 0.1696 - accuracy: 0.9149 - val_loss: 0.2103 - val_accuracy: 0.9173\n",
      "Epoch 4/20\n",
      "54/54 [==============================] - 0s 8ms/step - loss: 0.1647 - accuracy: 0.9168 - val_loss: 0.2140 - val_accuracy: 0.9175\n",
      "Epoch 5/20\n",
      "54/54 [==============================] - 0s 9ms/step - loss: 0.1604 - accuracy: 0.9179 - val_loss: 0.2080 - val_accuracy: 0.9190\n",
      "Epoch 6/20\n",
      "54/54 [==============================] - 0s 9ms/step - loss: 0.1580 - accuracy: 0.9195 - val_loss: 0.2086 - val_accuracy: 0.9190\n",
      "Epoch 7/20\n",
      "54/54 [==============================] - 0s 8ms/step - loss: 0.1546 - accuracy: 0.9202 - val_loss: 0.1907 - val_accuracy: 0.9214\n",
      "Epoch 8/20\n",
      "54/54 [==============================] - 0s 9ms/step - loss: 0.1520 - accuracy: 0.9206 - val_loss: 0.1698 - val_accuracy: 0.9212\n",
      "Epoch 9/20\n",
      "54/54 [==============================] - 0s 9ms/step - loss: 0.1493 - accuracy: 0.9201 - val_loss: 0.1817 - val_accuracy: 0.9215\n",
      "Epoch 10/20\n",
      "54/54 [==============================] - 0s 9ms/step - loss: 0.1474 - accuracy: 0.9213 - val_loss: 0.1754 - val_accuracy: 0.9244\n",
      "Epoch 11/20\n",
      "54/54 [==============================] - 0s 8ms/step - loss: 0.1445 - accuracy: 0.9243 - val_loss: 0.2132 - val_accuracy: 0.9201\n",
      "Epoch 12/20\n",
      "54/54 [==============================] - 0s 9ms/step - loss: 0.1424 - accuracy: 0.9259 - val_loss: 0.1681 - val_accuracy: 0.9292\n",
      "Epoch 13/20\n",
      "54/54 [==============================] - 0s 9ms/step - loss: 0.1525 - accuracy: 0.9246 - val_loss: 0.2016 - val_accuracy: 0.9192\n",
      "Epoch 14/20\n",
      "54/54 [==============================] - 0s 9ms/step - loss: 0.1567 - accuracy: 0.9190 - val_loss: 0.1887 - val_accuracy: 0.9210\n",
      "Epoch 15/20\n",
      "54/54 [==============================] - 0s 9ms/step - loss: 0.1531 - accuracy: 0.9204 - val_loss: 0.1888 - val_accuracy: 0.9212\n",
      "Epoch 16/20\n",
      "54/54 [==============================] - 0s 9ms/step - loss: 0.1512 - accuracy: 0.9217 - val_loss: 0.1917 - val_accuracy: 0.9217\n",
      "Epoch 17/20\n",
      "54/54 [==============================] - 0s 9ms/step - loss: 0.1515 - accuracy: 0.9211 - val_loss: 0.1872 - val_accuracy: 0.9214\n",
      "Epoch 18/20\n",
      "54/54 [==============================] - 0s 9ms/step - loss: 0.1509 - accuracy: 0.9213 - val_loss: 0.1812 - val_accuracy: 0.9201\n",
      "Epoch 19/20\n",
      "54/54 [==============================] - 0s 8ms/step - loss: 0.1508 - accuracy: 0.9208 - val_loss: 0.1973 - val_accuracy: 0.9214\n",
      "Epoch 20/20\n",
      "54/54 [==============================] - 0s 9ms/step - loss: 0.1493 - accuracy: 0.9207 - val_loss: 0.1787 - val_accuracy: 0.9219\n"
     ]
    }
   ],
   "source": [
    "# Find your best configuration for the DNN\n",
    "\n",
    "# Build and train DNN\n",
    "\n",
    "\n",
    "batch_size = 10000\n",
    "epochs = 20\n",
    "input_shape =(Xtrain.shape[1],)\n",
    "\n",
    "\n",
    "# Build and train model\n",
    "model10  = build_DNN(input_shape=input_shape, n_layers=2, n_nodes=20, learning_rate=0.1,optimizer='adam')\n",
    "history10 = model10.fit(Xtrain, Ytrain, batch_size=batch_size, epochs=epochs, \n",
    "                      class_weight=class_weights, validation_data=(Xval, Yval))"
   ]
  },
  {
   "cell_type": "code",
   "execution_count": 52,
   "metadata": {},
   "outputs": [
    {
     "name": "stdout",
     "output_type": "stream",
     "text": [
      "3582/3582 [==============================] - 11s 3ms/step - loss: 0.1773 - accuracy: 0.9231\n",
      "Test loss: 0.1773\n",
      "Test accuracy: 0.9231\n"
     ]
    }
   ],
   "source": [
    "# Evaluate DNN on test data\n",
    "score = model10.evaluate(Xtest,Ytest)\n",
    "\n",
    "print('Test loss: %.4f' % score[0])\n",
    "print('Test accuracy: %.4f' % score[1])"
   ]
  },
  {
   "cell_type": "markdown",
   "metadata": {},
   "source": [
    "# Part 20: Dropout uncertainty\n",
    "\n",
    "Dropout can also be used during testing, to obtain an estimate of the model uncertainty. Since dropout will randomly remove connections, the network will produce different results every time the same (test) data is put into the network. This technique is called Monte Carlo dropout. For more information, see this paper http://proceedings.mlr.press/v48/gal16.pdf\n",
    "\n",
    "To achieve this, we need to redefine the Keras Dropout call by running the cell below, and use 'myDropout' in each call to Dropout, in the cell that defines the DNN. The `build_DNN` function takes two boolean arguments, use_dropout and use_custom_dropout, add a standard Dropout layer if use_dropout is true, add a myDropout layer if use_custom_dropout is true.\n",
    "\n",
    "Run the same test data through the trained network 100 times, with dropout turned on. \n",
    "\n",
    "Question 21: What is the mean and the standard deviation of the test accuracy?\n",
    "\n",
    "`mean of the test Accuracies is: 0.9214445000886917.\n",
    "sd of the test Accuracies is: 0.000140940924010201.\n",
    "`"
   ]
  },
  {
   "cell_type": "code",
   "execution_count": 60,
   "metadata": {},
   "outputs": [],
   "source": [
    "import tensorflow.keras.backend as K\n",
    "import tensorflow.keras\n",
    "\n",
    "class myDropout(tensorflow.keras.layers.Dropout):\n",
    "    \"\"\"Applies Dropout to the input.\n",
    "    Dropout consists in randomly setting\n",
    "    a fraction `rate` of input units to 0 at each update during training time,\n",
    "    which helps prevent overfitting.\n",
    "    # Arguments\n",
    "        rate: float between 0 and 1. Fraction of the input units to drop.\n",
    "        noise_shape: 1D integer tensor representing the shape of the\n",
    "            binary dropout mask that will be multiplied with the input.\n",
    "            For instance, if your inputs have shape\n",
    "            `(batch_size, timesteps, features)` and\n",
    "            you want the dropout mask to be the same for all timesteps,\n",
    "            you can use `noise_shape=(batch_size, 1, features)`.\n",
    "        seed: A Python integer to use as random seed.\n",
    "    # References\n",
    "        - [Dropout: A Simple Way to Prevent Neural Networks from Overfitting](\n",
    "           http://www.jmlr.org/papers/volume15/srivastava14a/srivastava14a.pdf)\n",
    "    \"\"\"\n",
    "    def __init__(self, rate, training=True, noise_shape=None, seed=None, **kwargs):\n",
    "        super(myDropout, self).__init__(rate, noise_shape=None, seed=None,**kwargs)\n",
    "        self.training = training\n",
    "\n",
    "        \n",
    "    def call(self, inputs, training=None):\n",
    "        if 0. < self.rate < 1.:\n",
    "            noise_shape = self._get_noise_shape(inputs)\n",
    "\n",
    "            def dropped_inputs():\n",
    "                return K.dropout(inputs, self.rate, noise_shape,\n",
    "                                 seed=self.seed)\n",
    "            if not training: \n",
    "                return K.in_train_phase(dropped_inputs, inputs, training=self.training)\n",
    "            return K.in_train_phase(dropped_inputs, inputs, training=training)\n",
    "        return inputs"
   ]
  },
  {
   "cell_type": "markdown",
   "metadata": {},
   "source": [
    "### Your best config, custom dropout"
   ]
  },
  {
   "cell_type": "code",
   "execution_count": 61,
   "metadata": {
    "scrolled": true
   },
   "outputs": [
    {
     "name": "stdout",
     "output_type": "stream",
     "text": [
      "Epoch 1/20\n",
      "69/69 [==============================] - 1s 10ms/step - loss: 0.5245 - accuracy: 0.7368 - val_loss: 0.2406 - val_accuracy: 0.8975\n",
      "Epoch 2/20\n",
      "69/69 [==============================] - 1s 8ms/step - loss: 0.1961 - accuracy: 0.8990 - val_loss: 0.2297 - val_accuracy: 0.8971\n",
      "Epoch 3/20\n",
      "69/69 [==============================] - 1s 8ms/step - loss: 0.1878 - accuracy: 0.8982 - val_loss: 0.2244 - val_accuracy: 0.9011\n",
      "Epoch 4/20\n",
      "69/69 [==============================] - 1s 8ms/step - loss: 0.1781 - accuracy: 0.9051 - val_loss: 0.2146 - val_accuracy: 0.9097\n",
      "Epoch 5/20\n",
      "69/69 [==============================] - 0s 7ms/step - loss: 0.1718 - accuracy: 0.9102 - val_loss: 0.2149 - val_accuracy: 0.9098\n",
      "Epoch 6/20\n",
      "69/69 [==============================] - 1s 8ms/step - loss: 0.1705 - accuracy: 0.9100 - val_loss: 0.2149 - val_accuracy: 0.9107\n",
      "Epoch 7/20\n",
      "69/69 [==============================] - 1s 8ms/step - loss: 0.1686 - accuracy: 0.9102 - val_loss: 0.2099 - val_accuracy: 0.9102\n",
      "Epoch 8/20\n",
      "69/69 [==============================] - 1s 8ms/step - loss: 0.1671 - accuracy: 0.9104 - val_loss: 0.2072 - val_accuracy: 0.9108\n",
      "Epoch 9/20\n",
      "69/69 [==============================] - 1s 8ms/step - loss: 0.1654 - accuracy: 0.9102 - val_loss: 0.2034 - val_accuracy: 0.9107\n",
      "Epoch 10/20\n",
      "69/69 [==============================] - 1s 8ms/step - loss: 0.1639 - accuracy: 0.9103 - val_loss: 0.2112 - val_accuracy: 0.9107\n",
      "Epoch 11/20\n",
      "69/69 [==============================] - 1s 8ms/step - loss: 0.1627 - accuracy: 0.9112 - val_loss: 0.2092 - val_accuracy: 0.9118\n",
      "Epoch 12/20\n",
      "69/69 [==============================] - 1s 8ms/step - loss: 0.1616 - accuracy: 0.9114 - val_loss: 0.2016 - val_accuracy: 0.9125\n",
      "Epoch 13/20\n",
      "69/69 [==============================] - 1s 8ms/step - loss: 0.1606 - accuracy: 0.9120 - val_loss: 0.1967 - val_accuracy: 0.9123\n",
      "Epoch 14/20\n",
      "69/69 [==============================] - 1s 8ms/step - loss: 0.1599 - accuracy: 0.9119 - val_loss: 0.2076 - val_accuracy: 0.9120\n",
      "Epoch 15/20\n",
      "69/69 [==============================] - 1s 8ms/step - loss: 0.1585 - accuracy: 0.9127 - val_loss: 0.1960 - val_accuracy: 0.9127\n",
      "Epoch 16/20\n",
      "69/69 [==============================] - 1s 8ms/step - loss: 0.1576 - accuracy: 0.9123 - val_loss: 0.1965 - val_accuracy: 0.9123\n",
      "Epoch 17/20\n",
      "69/69 [==============================] - 1s 8ms/step - loss: 0.1567 - accuracy: 0.9128 - val_loss: 0.1928 - val_accuracy: 0.9125\n",
      "Epoch 18/20\n",
      "69/69 [==============================] - 1s 8ms/step - loss: 0.1560 - accuracy: 0.9123 - val_loss: 0.1881 - val_accuracy: 0.9122\n",
      "Epoch 19/20\n",
      "69/69 [==============================] - 1s 8ms/step - loss: 0.1553 - accuracy: 0.9126 - val_loss: 0.1954 - val_accuracy: 0.9129\n",
      "Epoch 20/20\n",
      "69/69 [==============================] - 1s 8ms/step - loss: 0.1564 - accuracy: 0.9121 - val_loss: 0.1900 - val_accuracy: 0.9130\n"
     ]
    }
   ],
   "source": [
    "# Your best training parameters\n",
    "\n",
    "# Build and train model\n",
    "batch_size =10000\n",
    "epochs = 20\n",
    "input_shape = (Xtrain.shape[1],)\n",
    "\n",
    "# Build and train model\n",
    "model11 = build_DNN(act_fun='softplus',input_shape=input_shape, n_layers=2, n_nodes=20, optimizer='adam', \n",
    "                   learning_rate=0.01, use_custom_dropout=True)\n",
    "\n",
    "history11 = model11.fit(Xtrain, Ytrain, batch_size=batch_size, epochs=epochs,\n",
    "                      class_weight=class_weights, validation_data=(Xval, Yval))"
   ]
  },
  {
   "cell_type": "code",
   "execution_count": 55,
   "metadata": {},
   "outputs": [
    {
     "name": "stdout",
     "output_type": "stream",
     "text": [
      "3582/3582 [==============================] - 12s 3ms/step - loss: 0.1952 - accuracy: 0.9215\n",
      "Test accuracy: 0.9215\n"
     ]
    }
   ],
   "source": [
    "# Run this cell a few times to evalute the model on test data, \n",
    "# if you get slightly different test accuracy every time, Dropout during testing is working\n",
    "\n",
    "# Evaluate model on test data\n",
    "score = model11.evaluate(Xtest,Ytest)\n",
    "                       \n",
    "print('Test accuracy: %.4f' % score[1])"
   ]
  },
  {
   "cell_type": "code",
   "execution_count": 56,
   "metadata": {
    "scrolled": true
   },
   "outputs": [
    {
     "name": "stdout",
     "output_type": "stream",
     "text": [
      "12/12 [==============================] - 0s 5ms/step - loss: 0.1961 - accuracy: 0.9215\n",
      "12/12 [==============================] - 0s 5ms/step - loss: 0.1955 - accuracy: 0.9215\n",
      "12/12 [==============================] - 0s 5ms/step - loss: 0.1954 - accuracy: 0.9214\n",
      "12/12 [==============================] - 0s 5ms/step - loss: 0.1962 - accuracy: 0.9212\n",
      "12/12 [==============================] - 0s 5ms/step - loss: 0.1947 - accuracy: 0.9215\n",
      "12/12 [==============================] - 0s 5ms/step - loss: 0.1955 - accuracy: 0.9212\n",
      "12/12 [==============================] - 0s 4ms/step - loss: 0.1958 - accuracy: 0.9215\n",
      "12/12 [==============================] - 0s 5ms/step - loss: 0.1957 - accuracy: 0.9214\n",
      "12/12 [==============================] - 0s 6ms/step - loss: 0.1956 - accuracy: 0.9217\n",
      "12/12 [==============================] - 0s 6ms/step - loss: 0.1953 - accuracy: 0.9216\n",
      "12/12 [==============================] - 0s 5ms/step - loss: 0.1953 - accuracy: 0.9216\n",
      "12/12 [==============================] - 0s 5ms/step - loss: 0.1949 - accuracy: 0.9215\n",
      "12/12 [==============================] - 0s 5ms/step - loss: 0.1953 - accuracy: 0.9216\n",
      "12/12 [==============================] - 0s 5ms/step - loss: 0.1957 - accuracy: 0.9215\n",
      "12/12 [==============================] - 0s 5ms/step - loss: 0.1953 - accuracy: 0.9217\n",
      "12/12 [==============================] - 0s 5ms/step - loss: 0.1961 - accuracy: 0.9214\n",
      "12/12 [==============================] - 0s 6ms/step - loss: 0.1955 - accuracy: 0.9216\n",
      "12/12 [==============================] - 0s 4ms/step - loss: 0.1959 - accuracy: 0.9214\n",
      "12/12 [==============================] - 0s 5ms/step - loss: 0.1960 - accuracy: 0.9214\n",
      "12/12 [==============================] - 0s 5ms/step - loss: 0.1956 - accuracy: 0.9215\n",
      "12/12 [==============================] - 0s 4ms/step - loss: 0.1955 - accuracy: 0.9214\n",
      "12/12 [==============================] - 0s 6ms/step - loss: 0.1952 - accuracy: 0.9213\n",
      "12/12 [==============================] - 0s 5ms/step - loss: 0.1959 - accuracy: 0.9214\n",
      "12/12 [==============================] - 0s 5ms/step - loss: 0.1952 - accuracy: 0.9216\n",
      "12/12 [==============================] - 0s 5ms/step - loss: 0.1950 - accuracy: 0.9215\n",
      "12/12 [==============================] - 0s 5ms/step - loss: 0.1951 - accuracy: 0.9216\n",
      "12/12 [==============================] - 0s 5ms/step - loss: 0.1954 - accuracy: 0.9215\n",
      "12/12 [==============================] - 0s 5ms/step - loss: 0.1956 - accuracy: 0.9214\n",
      "12/12 [==============================] - 0s 5ms/step - loss: 0.1967 - accuracy: 0.9211\n",
      "12/12 [==============================] - 0s 4ms/step - loss: 0.1956 - accuracy: 0.9213\n",
      "12/12 [==============================] - 0s 5ms/step - loss: 0.1955 - accuracy: 0.9215\n",
      "12/12 [==============================] - 0s 5ms/step - loss: 0.1959 - accuracy: 0.9216\n",
      "12/12 [==============================] - 0s 5ms/step - loss: 0.1954 - accuracy: 0.9218\n",
      "12/12 [==============================] - 0s 4ms/step - loss: 0.1947 - accuracy: 0.9217\n",
      "12/12 [==============================] - 0s 5ms/step - loss: 0.1954 - accuracy: 0.9215\n",
      "12/12 [==============================] - 0s 6ms/step - loss: 0.1953 - accuracy: 0.9214\n",
      "12/12 [==============================] - 0s 6ms/step - loss: 0.1955 - accuracy: 0.9212\n",
      "12/12 [==============================] - 0s 5ms/step - loss: 0.1968 - accuracy: 0.9211\n",
      "12/12 [==============================] - 0s 4ms/step - loss: 0.1957 - accuracy: 0.9217\n",
      "12/12 [==============================] - 0s 5ms/step - loss: 0.1953 - accuracy: 0.9213\n",
      "12/12 [==============================] - 0s 4ms/step - loss: 0.1957 - accuracy: 0.9214\n",
      "12/12 [==============================] - 0s 5ms/step - loss: 0.1960 - accuracy: 0.9214\n",
      "12/12 [==============================] - 0s 5ms/step - loss: 0.1957 - accuracy: 0.9214\n",
      "12/12 [==============================] - 0s 5ms/step - loss: 0.1953 - accuracy: 0.9214\n",
      "12/12 [==============================] - 0s 5ms/step - loss: 0.1952 - accuracy: 0.9216\n",
      "12/12 [==============================] - 0s 5ms/step - loss: 0.1955 - accuracy: 0.9216\n",
      "12/12 [==============================] - 0s 5ms/step - loss: 0.1961 - accuracy: 0.9212\n",
      "12/12 [==============================] - 0s 4ms/step - loss: 0.1951 - accuracy: 0.9217\n",
      "12/12 [==============================] - 0s 6ms/step - loss: 0.1959 - accuracy: 0.9215\n",
      "12/12 [==============================] - 0s 5ms/step - loss: 0.1963 - accuracy: 0.9214\n",
      "12/12 [==============================] - 0s 5ms/step - loss: 0.1955 - accuracy: 0.9216\n",
      "12/12 [==============================] - 0s 6ms/step - loss: 0.1954 - accuracy: 0.9216\n",
      "12/12 [==============================] - 0s 7ms/step - loss: 0.1959 - accuracy: 0.9215\n",
      "12/12 [==============================] - 0s 7ms/step - loss: 0.1958 - accuracy: 0.9214\n",
      "12/12 [==============================] - 0s 5ms/step - loss: 0.1957 - accuracy: 0.9214\n",
      "12/12 [==============================] - 0s 5ms/step - loss: 0.1956 - accuracy: 0.9215\n",
      "12/12 [==============================] - 0s 4ms/step - loss: 0.1957 - accuracy: 0.9213\n",
      "12/12 [==============================] - 0s 6ms/step - loss: 0.1952 - accuracy: 0.9216\n",
      "12/12 [==============================] - 0s 5ms/step - loss: 0.1958 - accuracy: 0.9213\n",
      "12/12 [==============================] - 0s 6ms/step - loss: 0.1954 - accuracy: 0.9213\n",
      "12/12 [==============================] - 0s 5ms/step - loss: 0.1956 - accuracy: 0.9213\n",
      "12/12 [==============================] - 0s 5ms/step - loss: 0.1957 - accuracy: 0.9213\n",
      "12/12 [==============================] - 0s 5ms/step - loss: 0.1954 - accuracy: 0.9213\n",
      "12/12 [==============================] - 0s 5ms/step - loss: 0.1957 - accuracy: 0.9215\n",
      "12/12 [==============================] - 0s 5ms/step - loss: 0.1957 - accuracy: 0.9215\n",
      "12/12 [==============================] - 0s 5ms/step - loss: 0.1949 - accuracy: 0.9216\n",
      "12/12 [==============================] - 0s 5ms/step - loss: 0.1956 - accuracy: 0.9214\n",
      "12/12 [==============================] - 0s 5ms/step - loss: 0.1952 - accuracy: 0.9213\n",
      "12/12 [==============================] - 0s 5ms/step - loss: 0.1954 - accuracy: 0.9216\n",
      "12/12 [==============================] - 0s 4ms/step - loss: 0.1951 - accuracy: 0.9215\n",
      "12/12 [==============================] - 0s 5ms/step - loss: 0.1954 - accuracy: 0.9214\n",
      "12/12 [==============================] - 0s 6ms/step - loss: 0.1959 - accuracy: 0.9214\n",
      "12/12 [==============================] - 0s 5ms/step - loss: 0.1959 - accuracy: 0.9214\n",
      "12/12 [==============================] - 0s 5ms/step - loss: 0.1960 - accuracy: 0.9215\n",
      "12/12 [==============================] - 0s 5ms/step - loss: 0.1958 - accuracy: 0.9214\n",
      "12/12 [==============================] - 0s 5ms/step - loss: 0.1953 - accuracy: 0.9215\n",
      "12/12 [==============================] - 0s 5ms/step - loss: 0.1959 - accuracy: 0.9215\n",
      "12/12 [==============================] - 0s 5ms/step - loss: 0.1959 - accuracy: 0.9216\n",
      "12/12 [==============================] - 0s 5ms/step - loss: 0.1954 - accuracy: 0.9215\n",
      "12/12 [==============================] - 0s 5ms/step - loss: 0.1952 - accuracy: 0.9214\n",
      "12/12 [==============================] - 0s 5ms/step - loss: 0.1959 - accuracy: 0.9214\n",
      "12/12 [==============================] - 0s 5ms/step - loss: 0.1955 - accuracy: 0.9214\n",
      "12/12 [==============================] - 0s 5ms/step - loss: 0.1965 - accuracy: 0.9213\n",
      "12/12 [==============================] - 0s 5ms/step - loss: 0.1961 - accuracy: 0.9211\n",
      "12/12 [==============================] - 0s 6ms/step - loss: 0.1952 - accuracy: 0.9216\n",
      "12/12 [==============================] - 0s 6ms/step - loss: 0.1959 - accuracy: 0.9213\n",
      "12/12 [==============================] - 0s 5ms/step - loss: 0.1957 - accuracy: 0.9217\n",
      "12/12 [==============================] - 0s 5ms/step - loss: 0.1962 - accuracy: 0.9212\n",
      "12/12 [==============================] - 0s 5ms/step - loss: 0.1953 - accuracy: 0.9214\n",
      "12/12 [==============================] - 0s 5ms/step - loss: 0.1958 - accuracy: 0.9216\n",
      "12/12 [==============================] - 0s 5ms/step - loss: 0.1957 - accuracy: 0.9212\n",
      "12/12 [==============================] - 0s 5ms/step - loss: 0.1953 - accuracy: 0.9214\n",
      "12/12 [==============================] - 0s 5ms/step - loss: 0.1953 - accuracy: 0.9213\n",
      "12/12 [==============================] - 0s 5ms/step - loss: 0.1957 - accuracy: 0.9213\n"
     ]
    },
    {
     "name": "stdout",
     "output_type": "stream",
     "text": [
      "12/12 [==============================] - 0s 6ms/step - loss: 0.1962 - accuracy: 0.9213\n",
      "12/12 [==============================] - 0s 6ms/step - loss: 0.1953 - accuracy: 0.9215\n",
      "12/12 [==============================] - 0s 5ms/step - loss: 0.1952 - accuracy: 0.9215\n",
      "12/12 [==============================] - 0s 6ms/step - loss: 0.1958 - accuracy: 0.9214\n",
      "12/12 [==============================] - 0s 6ms/step - loss: 0.1951 - accuracy: 0.9214\n",
      "12/12 [==============================] - 0s 5ms/step - loss: 0.1959 - accuracy: 0.9216\n"
     ]
    }
   ],
   "source": [
    "# Run the testing 100 times, and save the accuracies in an array\n",
    "\n",
    "ACC=list()\n",
    "for i in range(100):\n",
    "      \n",
    "    score = model11.evaluate(Xtest, Ytest, batch_size=batch_size)\n",
    "    ACC.append(score[1])\n",
    "# Calculate and print mean and std of accuracies\n"
   ]
  },
  {
   "cell_type": "code",
   "execution_count": 57,
   "metadata": {},
   "outputs": [
    {
     "name": "stdout",
     "output_type": "stream",
     "text": [
      "mean of the test Accuracies is: 0.9214445000886917.\n",
      "sd of the test Accuracies is: 0.000140940924010201.\n"
     ]
    }
   ],
   "source": [
    "print('mean of the test Accuracies is: {}.'.format(sum(ACC)/len(ACC)))\n",
    "print('sd of the test Accuracies is: {}.'.format(np.array(ACC).std()))\n",
    "\n"
   ]
  },
  {
   "cell_type": "markdown",
   "metadata": {},
   "source": [
    "# Part 21: Cross validation uncertainty\n",
    "\n",
    "Cross validation (CV) is often used to evaluate a model, by training and testing using different subsets of the data it is possible to get the uncertainty as the standard deviation over folds. We here use a help function from scikit-learn to setup the CV, see https://scikit-learn.org/stable/modules/generated/sklearn.model_selection.StratifiedKFold.html . Use 10 folds with shuffling, random state 1234. \n",
    "\n",
    "Note: We here assume that you have found the best hyper parameters, so here the data are only split into training and testing, no validation.\n",
    "\n",
    "---\n",
    "\n",
    "Question 22: What is the mean and the standard deviation of the test accuracy?\n",
    "\n",
    "`mean of the test Accuracies is: 0.9142484724521637.\n",
    "sd of the test Accuracies is: 0.001775243551527256.`\n",
    "\n",
    "Question 23: What is the main advantage of dropout compared to CV for estimating test uncertainty? The difference may not be so large in this notebook, but imagine that you have a network that takes 24 hours to train.\n",
    "\n",
    "Cross validiation is much more time-consuming than dropout. If training a network takes 24 hours and we use 10-fold then by Cross validiation it will take 10 days to evaluate the model."
   ]
  },
  {
   "cell_type": "code",
   "execution_count": 62,
   "metadata": {},
   "outputs": [
    {
     "name": "stdout",
     "output_type": "stream",
     "text": [
      "31/31 [==============================] - 0s 4ms/step - loss: 0.1887 - accuracy: 0.9251\n",
      "31/31 [==============================] - 0s 4ms/step - loss: 0.1790 - accuracy: 0.9299\n",
      "31/31 [==============================] - 1s 4ms/step - loss: 0.1936 - accuracy: 0.9214\n",
      "31/31 [==============================] - 0s 4ms/step - loss: 0.2080 - accuracy: 0.9187\n",
      "31/31 [==============================] - 0s 4ms/step - loss: 0.1759 - accuracy: 0.9253\n",
      "31/31 [==============================] - 0s 4ms/step - loss: 0.1805 - accuracy: 0.9275\n",
      "31/31 [==============================] - 0s 4ms/step - loss: 0.1810 - accuracy: 0.9285\n",
      "31/31 [==============================] - 0s 5ms/step - loss: 0.1809 - accuracy: 0.9218\n",
      "31/31 [==============================] - 0s 5ms/step - loss: 0.1747 - accuracy: 0.9276\n",
      "31/31 [==============================] - 0s 4ms/step - loss: 0.1842 - accuracy: 0.9238\n"
     ]
    }
   ],
   "source": [
    "from sklearn.model_selection import StratifiedKFold\n",
    "\n",
    "# Build and train model\n",
    "batch_size = 2500\n",
    "epochs = 20\n",
    "input_shape = (Xtrain.shape[1],)\n",
    "cross_Acc = list()\n",
    "\n",
    "# Define 10-fold cross validation\n",
    "cvFolds = StratifiedKFold(n_splits=10, random_state=1234, shuffle=True)\n",
    "\n",
    "# Loop over cross validation folds\n",
    "for train_index, test_index in cvFolds.split(X, Y):\n",
    "    Xtrain, Xtest = X[train_index], X[test_index]\n",
    "    Ytrain, Ytest = Y[train_index], Y[test_index]\n",
    "    # Calculate class weights for current split\n",
    "    model12 = build_DNN(input_shape=input_shape, n_layers=4, n_nodes=30, optimizer='RMSprop',\n",
    "                        learning_rate=0.005, use_custom_dropout=True)\n",
    "    \n",
    "    # Fit the model with training set and class weights for this fold\n",
    "    history12 = model12.fit(Xtrain, Ytrain, batch_size=batch_size, epochs=epochs,class_weight=class_weights, verbose=0)\n",
    "    \n",
    "    # Evaluate the model using the test set for this fold\n",
    "    score = model12.evaluate(Xtest, Ytest, batch_size=batch_size)\n",
    "\n",
    "    # Save the test accuracy in an array\n",
    "    cross_Acc.append(score[1])\n",
    "# Calculate and print mean and std of accuracies\n",
    "\n"
   ]
  },
  {
   "cell_type": "code",
   "execution_count": 63,
   "metadata": {},
   "outputs": [
    {
     "name": "stdout",
     "output_type": "stream",
     "text": [
      "mean of the test Accuracies is: 0.9249506294727325.\n",
      "sd of the test Accuracies is: 0.0033794534408746993.\n"
     ]
    }
   ],
   "source": [
    "print('mean of the test Accuracies is: {}.'.format(sum(cross_Acc)/len(cross_Acc)))\n",
    "print('sd of the test Accuracies is: {}.'.format(np.array(cross_Acc).std()))\n"
   ]
  },
  {
   "cell_type": "markdown",
   "metadata": {},
   "source": [
    "# Part 22: DNN regression\n",
    "\n",
    "A similar DNN can be used for regression, instead of classification.\n",
    "\n",
    "Question 24: How would you change the DNN in order to use it for regression instead?"
   ]
  },
  {
   "cell_type": "markdown",
   "metadata": {},
   "source": [
    "we need to change the loss function to mean squared error and change the activation function in the last layer from sigmoid to a linear activation."
   ]
  },
  {
   "cell_type": "markdown",
   "metadata": {},
   "source": [
    "## Report\n",
    "\n",
    "Send in this jupyter notebook, with answers to all questions."
   ]
  },
  {
   "cell_type": "code",
   "execution_count": null,
   "metadata": {},
   "outputs": [],
   "source": []
  }
 ],
 "metadata": {
  "kernelspec": {
   "display_name": "Python 3",
   "language": "python",
   "name": "python3"
  },
  "language_info": {
   "codemirror_mode": {
    "name": "ipython",
    "version": 3
   },
   "file_extension": ".py",
   "mimetype": "text/x-python",
   "name": "python",
   "nbconvert_exporter": "python",
   "pygments_lexer": "ipython3",
   "version": "3.9.4"
  },
  "latex_envs": {
   "LaTeX_envs_menu_present": true,
   "autoclose": false,
   "autocomplete": true,
   "bibliofile": "biblio.bib",
   "cite_by": "apalike",
   "current_citInitial": 1,
   "eqLabelWithNumbers": true,
   "eqNumInitial": 1,
   "hotkeys": {
    "equation": "Ctrl-E",
    "itemize": "Ctrl-I"
   },
   "labels_anchors": false,
   "latex_user_defs": false,
   "report_style_numbering": false,
   "user_envs_cfg": false
  },
  "toc": {
   "base_numbering": 1,
   "nav_menu": {},
   "number_sections": true,
   "sideBar": true,
   "skip_h1_title": false,
   "title_cell": "Table of Contents",
   "title_sidebar": "Contents",
   "toc_cell": false,
   "toc_position": {
    "height": "542px",
    "left": "48px",
    "top": "110.8px",
    "width": "307.2px"
   },
   "toc_section_display": true,
   "toc_window_display": false
  },
  "varInspector": {
   "cols": {
    "lenName": 16,
    "lenType": 16,
    "lenVar": 40
   },
   "kernels_config": {
    "python": {
     "delete_cmd_postfix": "",
     "delete_cmd_prefix": "del ",
     "library": "var_list.py",
     "varRefreshCmd": "print(var_dic_list())"
    },
    "r": {
     "delete_cmd_postfix": ") ",
     "delete_cmd_prefix": "rm(",
     "library": "var_list.r",
     "varRefreshCmd": "cat(var_dic_list()) "
    }
   },
   "types_to_exclude": [
    "module",
    "function",
    "builtin_function_or_method",
    "instance",
    "_Feature"
   ],
   "window_display": false
  }
 },
 "nbformat": 4,
 "nbformat_minor": 4
}
